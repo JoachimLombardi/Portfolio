{
 "cells": [
  {
   "cell_type": "markdown",
   "id": "44fc7604",
   "metadata": {},
   "source": [
    "# 🛠 10. Time series fundamentals and Milestone Project 3: BitPredict 💰📈 Exercises\n",
    "\n",
    "1. Does scaling the data help for univariate/multivariate data? (e.g. getting all of the values between 0 & 1) \n",
    "  * Try doing this for a univariate model (e.g. `model_1`) and a multivariate model (e.g. `model_6`) and see if it effects model training or evaluation results.\n",
    "2. Get the most up to date data on Bitcoin, train a model & see how it goes (our data goes up to May 18 2021).\n",
    "  * You can download the Bitcoin historical data for free from [coindesk.com/price/bitcoin](https://www.coindesk.com/price/bitcoin) and clicking \"Export Data\" -> \"CSV\".\n",
    "3. For most of our models we used `WINDOW_SIZE=7`, but is there a better window size?\n",
    "  * Setup a series of experiments to find whether or not there's a better window size.\n",
    "  * For example, you might train 10 different models with `HORIZON=1` but with window sizes ranging from 2-12.\n",
    "4. Create a windowed dataset just like the ones we used for `model_1` using [`tf.keras.preprocessing.timeseries_dataset_from_array()`](https://www.tensorflow.org/api_docs/python/tf/keras/preprocessing/timeseries_dataset_from_array) and retrain `model_1` using the recreated dataset.\n",
    "5. For our multivariate modelling experiment, we added the Bitcoin block reward size as an extra feature to make our time series multivariate. \n",
    "  * Are there any other features you think you could add? \n",
    "  * If so, try it out, how do these affect the model?\n",
    "6. Make prediction intervals for future forecasts. To do so, one way would be to train an ensemble model on all of the data, make future forecasts with it and calculate the prediction intervals of the ensemble just like we did for `model_8`.\n",
    "7. For future predictions, try to make a prediction, retrain a model on the predictions, make a prediction, retrain a model, make a prediction, retrain a model, make a prediction (retrain a model each time a new prediction is made). Plot the results, how do they look compared to the future predictions where a model wasn't retrained for every forecast (`model_9`)?\n",
    "8. Throughout this notebook, we've only tried algorithms we've handcrafted ourselves. But it's worth seeing how a purpose built forecasting algorithm goes. \n",
    "  * Try out one of the extra algorithms listed in the modelling experiments part such as:\n",
    "    * [Facebook's Kats library](https://github.com/facebookresearch/Kats) - there are many models in here, remember the machine learning practioner's motto: experiment, experiment, experiment.\n",
    "    * [LinkedIn's Greykite library](https://github.com/linkedin/greykite)"
   ]
  },
  {
   "cell_type": "markdown",
   "id": "fd0f296b",
   "metadata": {},
   "source": [
    "## 1. Scale univariate and multivariate model"
   ]
  },
  {
   "cell_type": "markdown",
   "id": "e1468e9a",
   "metadata": {},
   "source": [
    "### Get Data\n",
    "\n",
    "We're going to be using the historical price data of Bitcoin to try and predict the future price of Bitcoin, we downloaded the data from here: https://www.coindesk.com/price/bitcoin/"
   ]
  },
  {
   "cell_type": "code",
   "execution_count": 1,
   "id": "67cf67cd",
   "metadata": {},
   "outputs": [
    {
     "name": "stderr",
     "output_type": "stream",
     "text": [
      "  % Total    % Received % Xferd  Average Speed   Time    Time     Time  Current\n",
      "                                 Dload  Upload   Total   Spent    Left  Speed\n",
      "\n",
      "  0     0    0     0    0     0      0      0 --:--:-- --:--:-- --:--:--     0\n",
      "100  174k  100  174k    0     0   517k      0 --:--:-- --:--:-- --:--:--  518k\n"
     ]
    }
   ],
   "source": [
    "!curl -o C:/Users/User/Time_series/BTC_USD_2013-10-01_2021-05-18-CoinDesk.csv https://raw.githubusercontent.com/mrdbourke/tensorflow-deep-learning/main/extras/BTC_USD_2013-10-01_2021-05-18-CoinDesk.csv\n"
   ]
  },
  {
   "cell_type": "markdown",
   "id": "5966149c",
   "metadata": {},
   "source": [
    "### Importing time series with pandas"
   ]
  },
  {
   "cell_type": "code",
   "execution_count": 2,
   "id": "1cc8c27b",
   "metadata": {},
   "outputs": [
    {
     "data": {
      "text/html": [
       "<div>\n",
       "<style scoped>\n",
       "    .dataframe tbody tr th:only-of-type {\n",
       "        vertical-align: middle;\n",
       "    }\n",
       "\n",
       "    .dataframe tbody tr th {\n",
       "        vertical-align: top;\n",
       "    }\n",
       "\n",
       "    .dataframe thead th {\n",
       "        text-align: right;\n",
       "    }\n",
       "</style>\n",
       "<table border=\"1\" class=\"dataframe\">\n",
       "  <thead>\n",
       "    <tr style=\"text-align: right;\">\n",
       "      <th></th>\n",
       "      <th>Currency</th>\n",
       "      <th>Closing Price (USD)</th>\n",
       "      <th>24h Open (USD)</th>\n",
       "      <th>24h High (USD)</th>\n",
       "      <th>24h Low (USD)</th>\n",
       "    </tr>\n",
       "    <tr>\n",
       "      <th>Date</th>\n",
       "      <th></th>\n",
       "      <th></th>\n",
       "      <th></th>\n",
       "      <th></th>\n",
       "      <th></th>\n",
       "    </tr>\n",
       "  </thead>\n",
       "  <tbody>\n",
       "    <tr>\n",
       "      <th>2013-10-01</th>\n",
       "      <td>BTC</td>\n",
       "      <td>123.65499</td>\n",
       "      <td>124.30466</td>\n",
       "      <td>124.75166</td>\n",
       "      <td>122.56349</td>\n",
       "    </tr>\n",
       "    <tr>\n",
       "      <th>2013-10-02</th>\n",
       "      <td>BTC</td>\n",
       "      <td>125.45500</td>\n",
       "      <td>123.65499</td>\n",
       "      <td>125.75850</td>\n",
       "      <td>123.63383</td>\n",
       "    </tr>\n",
       "    <tr>\n",
       "      <th>2013-10-03</th>\n",
       "      <td>BTC</td>\n",
       "      <td>108.58483</td>\n",
       "      <td>125.45500</td>\n",
       "      <td>125.66566</td>\n",
       "      <td>83.32833</td>\n",
       "    </tr>\n",
       "    <tr>\n",
       "      <th>2013-10-04</th>\n",
       "      <td>BTC</td>\n",
       "      <td>118.67466</td>\n",
       "      <td>108.58483</td>\n",
       "      <td>118.67500</td>\n",
       "      <td>107.05816</td>\n",
       "    </tr>\n",
       "    <tr>\n",
       "      <th>2013-10-05</th>\n",
       "      <td>BTC</td>\n",
       "      <td>121.33866</td>\n",
       "      <td>118.67466</td>\n",
       "      <td>121.93633</td>\n",
       "      <td>118.00566</td>\n",
       "    </tr>\n",
       "  </tbody>\n",
       "</table>\n",
       "</div>"
      ],
      "text/plain": [
       "           Currency  Closing Price (USD)  24h Open (USD)  24h High (USD)  \\\n",
       "Date                                                                       \n",
       "2013-10-01      BTC            123.65499       124.30466       124.75166   \n",
       "2013-10-02      BTC            125.45500       123.65499       125.75850   \n",
       "2013-10-03      BTC            108.58483       125.45500       125.66566   \n",
       "2013-10-04      BTC            118.67466       108.58483       118.67500   \n",
       "2013-10-05      BTC            121.33866       118.67466       121.93633   \n",
       "\n",
       "            24h Low (USD)  \n",
       "Date                       \n",
       "2013-10-01      122.56349  \n",
       "2013-10-02      123.63383  \n",
       "2013-10-03       83.32833  \n",
       "2013-10-04      107.05816  \n",
       "2013-10-05      118.00566  "
      ]
     },
     "execution_count": 2,
     "metadata": {},
     "output_type": "execute_result"
    }
   ],
   "source": [
    "# Import with pandas\n",
    "import pandas as pd\n",
    "# Let's read in our Bitcoin data and parse the dates\n",
    "df = pd.read_csv(\"BTC_USD_2013-10-01_2021-05-18-CoinDesk.csv\",\n",
    "                 parse_dates=[\"Date\"],\n",
    "                 index_col=[\"Date\"]) #Parse the date column and tell pandas column 1 is a datetime\n",
    "df.head()"
   ]
  },
  {
   "cell_type": "code",
   "execution_count": 3,
   "id": "e18216a5",
   "metadata": {},
   "outputs": [
    {
     "name": "stdout",
     "output_type": "stream",
     "text": [
      "<class 'pandas.core.frame.DataFrame'>\n",
      "DatetimeIndex: 2787 entries, 2013-10-01 to 2021-05-18\n",
      "Data columns (total 5 columns):\n",
      " #   Column               Non-Null Count  Dtype  \n",
      "---  ------               --------------  -----  \n",
      " 0   Currency             2787 non-null   object \n",
      " 1   Closing Price (USD)  2787 non-null   float64\n",
      " 2   24h Open (USD)       2787 non-null   float64\n",
      " 3   24h High (USD)       2787 non-null   float64\n",
      " 4   24h Low (USD)        2787 non-null   float64\n",
      "dtypes: float64(4), object(1)\n",
      "memory usage: 130.6+ KB\n"
     ]
    }
   ],
   "source": [
    "df.info()"
   ]
  },
  {
   "cell_type": "code",
   "execution_count": 4,
   "id": "f7d21b73",
   "metadata": {},
   "outputs": [
    {
     "data": {
      "text/plain": [
       "2787"
      ]
     },
     "execution_count": 4,
     "metadata": {},
     "output_type": "execute_result"
    }
   ],
   "source": [
    "# How many samples do we have ?\n",
    "len(df)"
   ]
  },
  {
   "cell_type": "markdown",
   "id": "f5871109",
   "metadata": {},
   "source": [
    "We've collected the historical price of Bitcoin for ~8 years but there's 2787 samples.\n",
    "\n",
    "Typically deep learning models usually like lots and lots and lots of samples (thousands to ten of thousands to millions).\n",
    "\n",
    "A smaller number of samples is something you'll often run into with time series datav problems.\n",
    "\n",
    "> 🔑 **Note:** The seasonality of a time series dataset is referred as the number of samples per year. So for our Bitcoin data, it has a seasonality of daily or value of 365 because we collect one sample per day meaning we'll get 365 samples per year. "
   ]
  },
  {
   "cell_type": "code",
   "execution_count": 4,
   "id": "62ceab37",
   "metadata": {},
   "outputs": [
    {
     "data": {
      "text/html": [
       "<div>\n",
       "<style scoped>\n",
       "    .dataframe tbody tr th:only-of-type {\n",
       "        vertical-align: middle;\n",
       "    }\n",
       "\n",
       "    .dataframe tbody tr th {\n",
       "        vertical-align: top;\n",
       "    }\n",
       "\n",
       "    .dataframe thead th {\n",
       "        text-align: right;\n",
       "    }\n",
       "</style>\n",
       "<table border=\"1\" class=\"dataframe\">\n",
       "  <thead>\n",
       "    <tr style=\"text-align: right;\">\n",
       "      <th></th>\n",
       "      <th>Price</th>\n",
       "    </tr>\n",
       "    <tr>\n",
       "      <th>Date</th>\n",
       "      <th></th>\n",
       "    </tr>\n",
       "  </thead>\n",
       "  <tbody>\n",
       "    <tr>\n",
       "      <th>2013-10-01</th>\n",
       "      <td>123.65499</td>\n",
       "    </tr>\n",
       "    <tr>\n",
       "      <th>2013-10-02</th>\n",
       "      <td>125.45500</td>\n",
       "    </tr>\n",
       "    <tr>\n",
       "      <th>2013-10-03</th>\n",
       "      <td>108.58483</td>\n",
       "    </tr>\n",
       "    <tr>\n",
       "      <th>2013-10-04</th>\n",
       "      <td>118.67466</td>\n",
       "    </tr>\n",
       "    <tr>\n",
       "      <th>2013-10-05</th>\n",
       "      <td>121.33866</td>\n",
       "    </tr>\n",
       "  </tbody>\n",
       "</table>\n",
       "</div>"
      ],
      "text/plain": [
       "                Price\n",
       "Date                 \n",
       "2013-10-01  123.65499\n",
       "2013-10-02  125.45500\n",
       "2013-10-03  108.58483\n",
       "2013-10-04  118.67466\n",
       "2013-10-05  121.33866"
      ]
     },
     "execution_count": 4,
     "metadata": {},
     "output_type": "execute_result"
    }
   ],
   "source": [
    "# Only want closing price for each day \n",
    "bitcoin_prices = pd.DataFrame(df[\"Closing Price (USD)\"]).rename(columns={\"Closing Price (USD)\":\"Price\"})\n",
    "bitcoin_prices.head()"
   ]
  },
  {
   "cell_type": "code",
   "execution_count": 6,
   "id": "f7c6cf98",
   "metadata": {},
   "outputs": [
    {
     "data": {
      "image/png": "[encoded data removed]",
      "text/plain": [
       "<Figure size 1000x700 with 1 Axes>"
      ]
     },
     "metadata": {},
     "output_type": "display_data"
    }
   ],
   "source": [
    "import matplotlib.pyplot as plt\n",
    "plt.figure(figsize=(10, 7))\n",
    "plt.plot(bitcoin_prices.index, bitcoin_prices.Price)\n",
    "plt.ylabel(\"BTC Price\")\n",
    "plt.title(\"Price of Bitcoin from 1 Oct 2013 to 18 May 2021\", fontsize=16);"
   ]
  },
  {
   "cell_type": "markdown",
   "id": "a33827a2",
   "metadata": {},
   "source": [
    "### Format data part 1: Create train and test sets for our time series data"
   ]
  },
  {
   "cell_type": "code",
   "execution_count": 5,
   "id": "931e75e5",
   "metadata": {},
   "outputs": [],
   "source": [
    "# Get bitcoin date  array \n",
    "timesteps = bitcoin_prices.index.to_numpy()\n",
    "prices = bitcoin_prices[\"Price\"].to_numpy()"
   ]
  },
  {
   "cell_type": "code",
   "execution_count": 6,
   "id": "fedce28c",
   "metadata": {},
   "outputs": [
    {
     "data": {
      "text/plain": [
       "(2229, 2229, 558, 558)"
      ]
     },
     "execution_count": 6,
     "metadata": {},
     "output_type": "execute_result"
    }
   ],
   "source": [
    "# Create train & test splits the wright way for time series data\n",
    "split_size = int(0.8 * len(prices)) # train\n",
    "\n",
    "# Create train data split (everything before the split)\n",
    "X_train, y_train = timesteps[:split_size], prices[:split_size]\n",
    "\n",
    "# Create test data split\n",
    "X_test, y_test = timesteps[split_size:], prices[split_size:]\n",
    "\n",
    "len(X_train), len(y_train), len(X_test), len(y_test)"
   ]
  },
  {
   "cell_type": "code",
   "execution_count": 9,
   "id": "cf7153c0",
   "metadata": {},
   "outputs": [
    {
     "data": {
      "image/png": "[encoded data removed]",
      "text/plain": [
       "<Figure size 1000x700 with 1 Axes>"
      ]
     },
     "metadata": {},
     "output_type": "display_data"
    }
   ],
   "source": [
    "# Plot splits\n",
    "plt.figure(figsize=(10, 7))\n",
    "plt.scatter(X_train, y_train, s=5, label=\"Train data\")\n",
    "plt.scatter(X_test, y_test, s=5, label=\"Test data\")\n",
    "plt.xlabel(\"Date\")\n",
    "plt.ylabel(\"BTC Price\")\n",
    "plt.legend(fontsize = 14)\n",
    "plt.show();"
   ]
  },
  {
   "cell_type": "markdown",
   "id": "ca9166d3",
   "metadata": {},
   "source": [
    "### Create a plotting function"
   ]
  },
  {
   "cell_type": "code",
   "execution_count": 7,
   "id": "320ded39",
   "metadata": {},
   "outputs": [],
   "source": [
    "# Create a function to plot time series data \n",
    "def plot_time_series(timesteps, values, format=\".\", start=0, end=None, label=None):\n",
    "    \"\"\"\n",
    "    Plots timesteps (a series of points in time) against values (a series of values across timesteps).\n",
    "    \n",
    "    Parameters\n",
    "    ----------\n",
    "    timesteps : array of timestep values\n",
    "    values : array of values across times\n",
    "    format : style of plot, default \".\" \n",
    "    start : where to start the plot (setting a value will index from start of timesteps & values) \n",
    "    end : where to end the plot (similar to start but for the end) \n",
    "    label: label to show on plot about values, default None\n",
    "    \"\"\"   \n",
    "    # Plot the series\n",
    "    plt.plot(timesteps[start:end], values[start:end], format, label=label)\n",
    "    plt.xlabel(\"Time\")\n",
    "    plt.ylabel(\"BTC Price\")\n",
    "    if label:\n",
    "        plt.legend(fontsize=14) # make label bigger\n",
    "    plt.grid(True)"
   ]
  },
  {
   "cell_type": "code",
   "execution_count": 11,
   "id": "36c7fa9b",
   "metadata": {},
   "outputs": [
    {
     "data": {
      "image/png": "[encoded data removed]",
      "text/plain": [
       "<Figure size 1000x700 with 1 Axes>"
      ]
     },
     "metadata": {},
     "output_type": "display_data"
    }
   ],
   "source": [
    "# Test out plotting function\n",
    "plt.figure(figsize=(10, 7))\n",
    "plot_time_series(timesteps=X_train, values=y_train, start=1000, label=\"Train data\")\n",
    "plot_time_series(timesteps=X_test, values=y_test, label=\"Test data\")"
   ]
  },
  {
   "cell_type": "markdown",
   "id": "2274ec6e",
   "metadata": {},
   "source": [
    "### Modelling experiments"
   ]
  },
  {
   "cell_type": "markdown",
   "id": "b408a804",
   "metadata": {},
   "source": [
    "## Format Data Part 2: Windowing our dataset\n",
    "\n",
    "Why do we window ?\n",
    "\n",
    "We window our time series dataset to turn our data into a supervised learning problem.\n",
    "\n",
    "```\n",
    "Windowing for one week\n",
    "[0, 1, 2, 3, 4, 5, 6] -> [7] \n",
    "[1, 2, 3, 4, 5, 6, 7] -> [8]\n",
    "[2, 3, 4, 5, 6, 7, 8] -> [9]\n",
    "```"
   ]
  },
  {
   "cell_type": "code",
   "execution_count": 8,
   "id": "4e71bc99",
   "metadata": {},
   "outputs": [],
   "source": [
    "# Let's setup global variables for window horizon size\n",
    "HORIZON = 1 # predict next 1 day\n",
    "WINDOW_SIZE = 7 # use the past week of Bitcoin data to make the prediction"
   ]
  },
  {
   "cell_type": "code",
   "execution_count": 9,
   "id": "b08e5f2a",
   "metadata": {},
   "outputs": [],
   "source": [
    "# Create function to label windowed data\n",
    "def get_labelled_windows(x, horizon=HORIZON):\n",
    "    \"\"\"\n",
    "    Create labels for windowed dataset.\n",
    "    \n",
    "    E.g if horizon=1\n",
    "    Input: [0, 1, 2, 3, 4, 5, 6, 7] -> Output:([0, 1, 2, 3, 4, 5, 6], [7])\n",
    "    \"\"\"\n",
    "    return x[:, :-horizon], x[:,-horizon: ]   "
   ]
  },
  {
   "cell_type": "code",
   "execution_count": 10,
   "id": "86fa2911",
   "metadata": {},
   "outputs": [],
   "source": [
    "import numpy as np\n",
    "# Create function to view NumPy arrays as windows\n",
    "def make_windows(x, window_size=WINDOW_SIZE, horizon=HORIZON):\n",
    "    \"\"\"\n",
    "    Turns a 1D array into a 2D array of sequential labelled windows of window_size with horizon size labels.\n",
    "    \"\"\"\n",
    "    # 1. Create a window of specific window_size (add the horizon on the end for labelling later)\n",
    "    window_step = np.expand_dims(np.arange(window_size+horizon), axis=0)\n",
    "    \n",
    "    # 2. Create a 2D array of multiple window steps (minus 1 to account for 0 indexing)\n",
    "    window_indexes = window_step + np.expand_dims(np.arange(len(x)-(window_size+horizon-1)), axis=0).T # Create 2D of windows of size window_size\n",
    "    \n",
    "    # 3. Index on the target array (a time series) with 2D array of multiple windows steps\n",
    "    windowed_array = x[window_indexes]\n",
    "    \n",
    "    # 4. Get the labelled windows \n",
    "    windows, labels = get_labelled_windows(windowed_array, horizon)\n",
    "    \n",
    "    return windows, labels"
   ]
  },
  {
   "cell_type": "code",
   "execution_count": 11,
   "id": "e657c05e",
   "metadata": {},
   "outputs": [],
   "source": [
    "# Scale our values between 0 and 1\n",
    "prices = prices / np.max(prices)"
   ]
  },
  {
   "cell_type": "code",
   "execution_count": 12,
   "id": "0348f7b2",
   "metadata": {},
   "outputs": [
    {
     "data": {
      "text/plain": [
       "(2780, 2780)"
      ]
     },
     "execution_count": 12,
     "metadata": {},
     "output_type": "execute_result"
    }
   ],
   "source": [
    "full_windows, full_labels = make_windows(prices)\n",
    "len(full_windows), len(full_labels)"
   ]
  },
  {
   "cell_type": "markdown",
   "id": "b386d386",
   "metadata": {},
   "source": [
    "### Turning windows into training and test sets"
   ]
  },
  {
   "cell_type": "code",
   "execution_count": 13,
   "id": "067328de",
   "metadata": {},
   "outputs": [],
   "source": [
    "# Make the train/test splits\n",
    "def make_train_test_splits(windows, labels, test_split=0.2):\n",
    "    \"\"\"\n",
    "    Splits matching pairs of windows and labels into train and test splits.\n",
    "    \"\"\"\n",
    "    split_size=int(len(windows)* (1-test_split)) # This will default to 80% train/20% test\n",
    "    train_windows = windows[:split_size]\n",
    "    train_labels = labels[:split_size]\n",
    "    test_windows = windows[split_size:]\n",
    "    test_labels = labels[split_size:]\n",
    "    \n",
    "    return train_windows, test_windows, train_labels, test_labels"
   ]
  },
  {
   "cell_type": "code",
   "execution_count": 14,
   "id": "407d196e",
   "metadata": {},
   "outputs": [
    {
     "data": {
      "text/plain": [
       "(2224, 556, 2224, 556)"
      ]
     },
     "execution_count": 14,
     "metadata": {},
     "output_type": "execute_result"
    }
   ],
   "source": [
    "# Create train and test windows\n",
    "train_windows, test_windows, train_labels, test_labels = make_train_test_splits(full_windows, full_labels)\n",
    "len(train_windows), len(test_windows), len(train_labels), len(test_labels)"
   ]
  },
  {
   "cell_type": "markdown",
   "id": "e9eca3ea",
   "metadata": {},
   "source": [
    "### Make a modelling checkpoint callback\n",
    "\n",
    "Because our model's performance will fluctuate from experiment to experiment, we're going to write a model checkpoint so we can compare apples to apples.\n",
    "\n",
    "More specifically, we want to compare each of our model's best performances against the other model's best performances.\n",
    "\n",
    "For example if our model performs the best on epoch 55 (but were training for 100 epochs), we want to load and evaluate the model saved on epoch 55."
   ]
  },
  {
   "cell_type": "code",
   "execution_count": 15,
   "id": "a691bdec",
   "metadata": {},
   "outputs": [],
   "source": [
    "# Import our checkpoint callback function\n",
    "from course_ztm import CreateModelCheckpoint"
   ]
  },
  {
   "cell_type": "markdown",
   "id": "0b2250ef",
   "metadata": {},
   "source": [
    "### Model 1: Dense model (window=7, horizon=1)\n",
    "\n",
    "Our first deep model is going to be a simple dense model:\n",
    "\n",
    "A single dense layer with 128 hidden units and ReLu\n",
    "An output layer with linear activation (no activation)\n",
    "Adam optimizer and MAE loss function\n",
    "Batch size of 128 # Because our data are small only 7 numbers\n",
    "100 epochs\n",
    "Why these values ?\n",
    "\n",
    "From experimentation.\n",
    "\n",
    "Hyperparameters = values a machine learning practionner can adjust themselves.\n",
    "Parameters = values a model learns on its own."
   ]
  },
  {
   "cell_type": "code",
   "execution_count": 20,
   "id": "e908b518",
   "metadata": {},
   "outputs": [
    {
     "name": "stdout",
     "output_type": "stream",
     "text": [
      "Epoch 1/100\n",
      " 1/18 [>.............................] - ETA: 10s - loss: 0.0373 - mae: 0.0373 - mse: 0.0029"
     ]
    },
    {
     "name": "stderr",
     "output_type": "stream",
     "text": [
      "WARNING:absl:Found untraced functions such as _update_step_xla while saving (showing 1 of 1). These functions will not be directly callable after loading.\n"
     ]
    },
    {
     "name": "stdout",
     "output_type": "stream",
     "text": [
      "INFO:tensorflow:Assets written to: C:/Users/User/Time_series/checkpoints/exercices\\model_1_dense\\assets\n"
     ]
    },
    {
     "name": "stderr",
     "output_type": "stream",
     "text": [
      "INFO:tensorflow:Assets written to: C:/Users/User/Time_series/checkpoints/exercices\\model_1_dense\\assets\n"
     ]
    },
    {
     "name": "stdout",
     "output_type": "stream",
     "text": [
      "18/18 [==============================] - 1s 31ms/step - loss: 0.0128 - mae: 0.0128 - mse: 5.4815e-04 - val_loss: 0.0243 - val_mae: 0.0243 - val_mse: 0.0018\n",
      "Epoch 2/100\n",
      " 1/18 [>.............................] - ETA: 0s - loss: 0.0062 - mae: 0.0062 - mse: 1.0797e-04"
     ]
    },
    {
     "name": "stderr",
     "output_type": "stream",
     "text": [
      "WARNING:absl:Found untraced functions such as _update_step_xla while saving (showing 1 of 1). These functions will not be directly callable after loading.\n"
     ]
    },
    {
     "name": "stdout",
     "output_type": "stream",
     "text": [
      "INFO:tensorflow:Assets written to: C:/Users/User/Time_series/checkpoints/exercices\\model_1_dense\\assets\n"
     ]
    },
    {
     "name": "stderr",
     "output_type": "stream",
     "text": [
      "INFO:tensorflow:Assets written to: C:/Users/User/Time_series/checkpoints/exercices\\model_1_dense\\assets\n"
     ]
    },
    {
     "name": "stdout",
     "output_type": "stream",
     "text": [
      "18/18 [==============================] - 0s 15ms/step - loss: 0.0045 - mae: 0.0045 - mse: 7.1434e-05 - val_loss: 0.0170 - val_mae: 0.0170 - val_mse: 9.7363e-04\n",
      "Epoch 3/100\n",
      "18/18 [==============================] - 0s 2ms/step - loss: 0.0034 - mae: 0.0034 - mse: 4.9110e-05 - val_loss: 0.0176 - val_mae: 0.0176 - val_mse: 9.5500e-04\n",
      "Epoch 4/100\n",
      " 1/18 [>.............................] - ETA: 0s - loss: 0.0041 - mae: 0.0041 - mse: 6.6879e-05"
     ]
    },
    {
     "name": "stderr",
     "output_type": "stream",
     "text": [
      "WARNING:absl:Found untraced functions such as _update_step_xla while saving (showing 1 of 1). These functions will not be directly callable after loading.\n"
     ]
    },
    {
     "name": "stdout",
     "output_type": "stream",
     "text": [
      "INFO:tensorflow:Assets written to: C:/Users/User/Time_series/checkpoints/exercices\\model_1_dense\\assets\n"
     ]
    },
    {
     "name": "stderr",
     "output_type": "stream",
     "text": [
      "INFO:tensorflow:Assets written to: C:/Users/User/Time_series/checkpoints/exercices\\model_1_dense\\assets\n"
     ]
    },
    {
     "name": "stdout",
     "output_type": "stream",
     "text": [
      "18/18 [==============================] - 0s 15ms/step - loss: 0.0032 - mae: 0.0032 - mse: 4.8320e-05 - val_loss: 0.0165 - val_mae: 0.0165 - val_mse: 8.8917e-04\n",
      "Epoch 5/100\n",
      "18/18 [==============================] - 0s 2ms/step - loss: 0.0030 - mae: 0.0030 - mse: 4.5194e-05 - val_loss: 0.0167 - val_mae: 0.0167 - val_mse: 8.7703e-04\n",
      "Epoch 6/100\n",
      " 1/18 [>.............................] - ETA: 0s - loss: 0.0022 - mae: 0.0022 - mse: 1.6880e-05"
     ]
    },
    {
     "name": "stderr",
     "output_type": "stream",
     "text": [
      "WARNING:absl:Found untraced functions such as _update_step_xla while saving (showing 1 of 1). These functions will not be directly callable after loading.\n"
     ]
    },
    {
     "name": "stdout",
     "output_type": "stream",
     "text": [
      "INFO:tensorflow:Assets written to: C:/Users/User/Time_series/checkpoints/exercices\\model_1_dense\\assets\n"
     ]
    },
    {
     "name": "stderr",
     "output_type": "stream",
     "text": [
      "INFO:tensorflow:Assets written to: C:/Users/User/Time_series/checkpoints/exercices\\model_1_dense\\assets\n"
     ]
    },
    {
     "name": "stdout",
     "output_type": "stream",
     "text": [
      "18/18 [==============================] - 0s 21ms/step - loss: 0.0029 - mae: 0.0029 - mse: 4.2695e-05 - val_loss: 0.0161 - val_mae: 0.0161 - val_mse: 8.1904e-04\n",
      "Epoch 7/100\n",
      " 1/18 [>.............................] - ETA: 0s - loss: 0.0034 - mae: 0.0034 - mse: 8.4084e-05"
     ]
    },
    {
     "name": "stderr",
     "output_type": "stream",
     "text": [
      "WARNING:absl:Found untraced functions such as _update_step_xla while saving (showing 1 of 1). These functions will not be directly callable after loading.\n"
     ]
    },
    {
     "name": "stdout",
     "output_type": "stream",
     "text": [
      "INFO:tensorflow:Assets written to: C:/Users/User/Time_series/checkpoints/exercices\\model_1_dense\\assets\n"
     ]
    },
    {
     "name": "stderr",
     "output_type": "stream",
     "text": [
      "INFO:tensorflow:Assets written to: C:/Users/User/Time_series/checkpoints/exercices\\model_1_dense\\assets\n"
     ]
    },
    {
     "name": "stdout",
     "output_type": "stream",
     "text": [
      "18/18 [==============================] - 0s 14ms/step - loss: 0.0028 - mae: 0.0028 - mse: 3.9977e-05 - val_loss: 0.0159 - val_mae: 0.0159 - val_mse: 7.8336e-04\n",
      "Epoch 8/100\n",
      " 1/18 [>.............................] - ETA: 0s - loss: 0.0024 - mae: 0.0024 - mse: 2.1774e-05"
     ]
    },
    {
     "name": "stderr",
     "output_type": "stream",
     "text": [
      "WARNING:absl:Found untraced functions such as _update_step_xla while saving (showing 1 of 1). These functions will not be directly callable after loading.\n"
     ]
    },
    {
     "name": "stdout",
     "output_type": "stream",
     "text": [
      "INFO:tensorflow:Assets written to: C:/Users/User/Time_series/checkpoints/exercices\\model_1_dense\\assets\n"
     ]
    },
    {
     "name": "stderr",
     "output_type": "stream",
     "text": [
      "INFO:tensorflow:Assets written to: C:/Users/User/Time_series/checkpoints/exercices\\model_1_dense\\assets\n"
     ]
    },
    {
     "name": "stdout",
     "output_type": "stream",
     "text": [
      "18/18 [==============================] - 0s 14ms/step - loss: 0.0027 - mae: 0.0027 - mse: 3.6948e-05 - val_loss: 0.0153 - val_mae: 0.0153 - val_mse: 7.2326e-04\n",
      "Epoch 9/100\n",
      "18/18 [==============================] - 0s 2ms/step - loss: 0.0026 - mae: 0.0026 - mse: 3.5310e-05 - val_loss: 0.0157 - val_mae: 0.0157 - val_mse: 7.4338e-04\n",
      "Epoch 10/100\n",
      " 1/18 [>.............................] - ETA: 0s - loss: 0.0026 - mae: 0.0026 - mse: 4.8898e-05"
     ]
    },
    {
     "name": "stderr",
     "output_type": "stream",
     "text": [
      "WARNING:absl:Found untraced functions such as _update_step_xla while saving (showing 1 of 1). These functions will not be directly callable after loading.\n"
     ]
    },
    {
     "name": "stdout",
     "output_type": "stream",
     "text": [
      "INFO:tensorflow:Assets written to: C:/Users/User/Time_series/checkpoints/exercices\\model_1_dense\\assets\n"
     ]
    },
    {
     "name": "stderr",
     "output_type": "stream",
     "text": [
      "INFO:tensorflow:Assets written to: C:/Users/User/Time_series/checkpoints/exercices\\model_1_dense\\assets\n"
     ]
    },
    {
     "name": "stdout",
     "output_type": "stream",
     "text": [
      "18/18 [==============================] - 0s 23ms/step - loss: 0.0026 - mae: 0.0026 - mse: 3.3636e-05 - val_loss: 0.0143 - val_mae: 0.0143 - val_mse: 6.4074e-04\n",
      "Epoch 11/100\n",
      "18/18 [==============================] - 0s 2ms/step - loss: 0.0025 - mae: 0.0025 - mse: 3.0642e-05 - val_loss: 0.0145 - val_mae: 0.0145 - val_mse: 6.4349e-04\n",
      "Epoch 12/100\n",
      "18/18 [==============================] - 0s 2ms/step - loss: 0.0024 - mae: 0.0024 - mse: 2.8958e-05 - val_loss: 0.0152 - val_mae: 0.0152 - val_mse: 6.8447e-04\n",
      "Epoch 13/100\n",
      " 1/18 [>.............................] - ETA: 0s - loss: 0.0020 - mae: 0.0020 - mse: 2.2062e-05"
     ]
    },
    {
     "name": "stderr",
     "output_type": "stream",
     "text": [
      "WARNING:absl:Found untraced functions such as _update_step_xla while saving (showing 1 of 1). These functions will not be directly callable after loading.\n"
     ]
    },
    {
     "name": "stdout",
     "output_type": "stream",
     "text": [
      "INFO:tensorflow:Assets written to: C:/Users/User/Time_series/checkpoints/exercices\\model_1_dense\\assets\n"
     ]
    },
    {
     "name": "stderr",
     "output_type": "stream",
     "text": [
      "INFO:tensorflow:Assets written to: C:/Users/User/Time_series/checkpoints/exercices\\model_1_dense\\assets\n"
     ]
    },
    {
     "name": "stdout",
     "output_type": "stream",
     "text": [
      "18/18 [==============================] - 0s 24ms/step - loss: 0.0024 - mae: 0.0024 - mse: 2.8756e-05 - val_loss: 0.0143 - val_mae: 0.0143 - val_mse: 6.1543e-04\n",
      "Epoch 14/100\n",
      " 1/18 [>.............................] - ETA: 0s - loss: 0.0023 - mae: 0.0023 - mse: 2.4214e-05"
     ]
    },
    {
     "name": "stderr",
     "output_type": "stream",
     "text": [
      "WARNING:absl:Found untraced functions such as _update_step_xla while saving (showing 1 of 1). These functions will not be directly callable after loading.\n"
     ]
    },
    {
     "name": "stdout",
     "output_type": "stream",
     "text": [
      "INFO:tensorflow:Assets written to: C:/Users/User/Time_series/checkpoints/exercices\\model_1_dense\\assets\n"
     ]
    },
    {
     "name": "stderr",
     "output_type": "stream",
     "text": [
      "INFO:tensorflow:Assets written to: C:/Users/User/Time_series/checkpoints/exercices\\model_1_dense\\assets\n"
     ]
    },
    {
     "name": "stdout",
     "output_type": "stream",
     "text": [
      "18/18 [==============================] - 0s 14ms/step - loss: 0.0022 - mae: 0.0022 - mse: 2.6753e-05 - val_loss: 0.0135 - val_mae: 0.0135 - val_mse: 5.5271e-04\n",
      "Epoch 15/100\n",
      "18/18 [==============================] - 0s 1ms/step - loss: 0.0023 - mae: 0.0023 - mse: 2.6428e-05 - val_loss: 0.0146 - val_mae: 0.0146 - val_mse: 6.1133e-04\n",
      "Epoch 16/100\n",
      "18/18 [==============================] - 0s 1ms/step - loss: 0.0022 - mae: 0.0022 - mse: 2.4832e-05 - val_loss: 0.0140 - val_mae: 0.0140 - val_mse: 5.7103e-04\n",
      "Epoch 17/100\n",
      " 1/18 [>.............................] - ETA: 0s - loss: 0.0019 - mae: 0.0019 - mse: 1.6534e-05"
     ]
    },
    {
     "name": "stderr",
     "output_type": "stream",
     "text": [
      "WARNING:absl:Found untraced functions such as _update_step_xla while saving (showing 1 of 1). These functions will not be directly callable after loading.\n"
     ]
    },
    {
     "name": "stdout",
     "output_type": "stream",
     "text": [
      "INFO:tensorflow:Assets written to: C:/Users/User/Time_series/checkpoints/exercices\\model_1_dense\\assets\n"
     ]
    },
    {
     "name": "stderr",
     "output_type": "stream",
     "text": [
      "INFO:tensorflow:Assets written to: C:/Users/User/Time_series/checkpoints/exercices\\model_1_dense\\assets\n"
     ]
    },
    {
     "name": "stdout",
     "output_type": "stream",
     "text": [
      "18/18 [==============================] - 0s 14ms/step - loss: 0.0022 - mae: 0.0022 - mse: 2.3757e-05 - val_loss: 0.0131 - val_mae: 0.0131 - val_mse: 5.1808e-04\n",
      "Epoch 18/100\n",
      " 1/18 [>.............................] - ETA: 0s - loss: 0.0026 - mae: 0.0026 - mse: 2.9810e-05"
     ]
    },
    {
     "name": "stderr",
     "output_type": "stream",
     "text": [
      "WARNING:absl:Found untraced functions such as _update_step_xla while saving (showing 1 of 1). These functions will not be directly callable after loading.\n"
     ]
    },
    {
     "name": "stdout",
     "output_type": "stream",
     "text": [
      "INFO:tensorflow:Assets written to: C:/Users/User/Time_series/checkpoints/exercices\\model_1_dense\\assets\n"
     ]
    },
    {
     "name": "stderr",
     "output_type": "stream",
     "text": [
      "INFO:tensorflow:Assets written to: C:/Users/User/Time_series/checkpoints/exercices\\model_1_dense\\assets\n"
     ]
    },
    {
     "name": "stdout",
     "output_type": "stream",
     "text": [
      "18/18 [==============================] - 0s 14ms/step - loss: 0.0022 - mae: 0.0022 - mse: 2.3717e-05 - val_loss: 0.0121 - val_mae: 0.0121 - val_mse: 4.7552e-04\n",
      "Epoch 19/100\n",
      "18/18 [==============================] - 0s 2ms/step - loss: 0.0020 - mae: 0.0020 - mse: 2.2418e-05 - val_loss: 0.0125 - val_mae: 0.0125 - val_mse: 4.8906e-04\n",
      "Epoch 20/100\n",
      " 1/18 [>.............................] - ETA: 0s - loss: 0.0021 - mae: 0.0021 - mse: 2.5400e-05"
     ]
    },
    {
     "name": "stderr",
     "output_type": "stream",
     "text": [
      "WARNING:absl:Found untraced functions such as _update_step_xla while saving (showing 1 of 1). These functions will not be directly callable after loading.\n"
     ]
    },
    {
     "name": "stdout",
     "output_type": "stream",
     "text": [
      "INFO:tensorflow:Assets written to: C:/Users/User/Time_series/checkpoints/exercices\\model_1_dense\\assets\n"
     ]
    },
    {
     "name": "stderr",
     "output_type": "stream",
     "text": [
      "INFO:tensorflow:Assets written to: C:/Users/User/Time_series/checkpoints/exercices\\model_1_dense\\assets\n"
     ]
    },
    {
     "name": "stdout",
     "output_type": "stream",
     "text": [
      "18/18 [==============================] - 0s 14ms/step - loss: 0.0020 - mae: 0.0020 - mse: 2.2167e-05 - val_loss: 0.0111 - val_mae: 0.0111 - val_mse: 4.0052e-04\n",
      "Epoch 21/100\n",
      "18/18 [==============================] - 0s 2ms/step - loss: 0.0021 - mae: 0.0021 - mse: 2.1832e-05 - val_loss: 0.0116 - val_mae: 0.0116 - val_mse: 4.3665e-04\n",
      "Epoch 22/100\n",
      "18/18 [==============================] - 0s 2ms/step - loss: 0.0022 - mae: 0.0022 - mse: 2.2540e-05 - val_loss: 0.0111 - val_mae: 0.0111 - val_mse: 4.0814e-04\n",
      "Epoch 23/100\n",
      " 1/18 [>.............................] - ETA: 0s - loss: 0.0021 - mae: 0.0021 - mse: 1.6494e-05"
     ]
    },
    {
     "name": "stderr",
     "output_type": "stream",
     "text": [
      "WARNING:absl:Found untraced functions such as _update_step_xla while saving (showing 1 of 1). These functions will not be directly callable after loading.\n"
     ]
    },
    {
     "name": "stdout",
     "output_type": "stream",
     "text": [
      "INFO:tensorflow:Assets written to: C:/Users/User/Time_series/checkpoints/exercices\\model_1_dense\\assets\n"
     ]
    },
    {
     "name": "stderr",
     "output_type": "stream",
     "text": [
      "INFO:tensorflow:Assets written to: C:/Users/User/Time_series/checkpoints/exercices\\model_1_dense\\assets\n"
     ]
    },
    {
     "name": "stdout",
     "output_type": "stream",
     "text": [
      "18/18 [==============================] - 0s 14ms/step - loss: 0.0020 - mae: 0.0020 - mse: 2.1331e-05 - val_loss: 0.0107 - val_mae: 0.0107 - val_mse: 3.7684e-04\n",
      "Epoch 24/100\n",
      "18/18 [==============================] - 0s 1ms/step - loss: 0.0020 - mae: 0.0020 - mse: 2.1109e-05 - val_loss: 0.0113 - val_mae: 0.0113 - val_mse: 4.2417e-04\n",
      "Epoch 25/100\n",
      " 1/18 [>.............................] - ETA: 0s - loss: 0.0023 - mae: 0.0023 - mse: 1.6667e-05"
     ]
    },
    {
     "name": "stderr",
     "output_type": "stream",
     "text": [
      "WARNING:absl:Found untraced functions such as _update_step_xla while saving (showing 1 of 1). These functions will not be directly callable after loading.\n"
     ]
    },
    {
     "name": "stdout",
     "output_type": "stream",
     "text": [
      "INFO:tensorflow:Assets written to: C:/Users/User/Time_series/checkpoints/exercices\\model_1_dense\\assets\n"
     ]
    },
    {
     "name": "stderr",
     "output_type": "stream",
     "text": [
      "INFO:tensorflow:Assets written to: C:/Users/User/Time_series/checkpoints/exercices\\model_1_dense\\assets\n"
     ]
    },
    {
     "name": "stdout",
     "output_type": "stream",
     "text": [
      "18/18 [==============================] - 0s 14ms/step - loss: 0.0023 - mae: 0.0023 - mse: 2.1815e-05 - val_loss: 0.0107 - val_mae: 0.0107 - val_mse: 3.6824e-04\n",
      "Epoch 26/100\n",
      "18/18 [==============================] - 0s 1ms/step - loss: 0.0021 - mae: 0.0021 - mse: 2.0822e-05 - val_loss: 0.0111 - val_mae: 0.0111 - val_mse: 3.9997e-04\n",
      "Epoch 27/100\n",
      "18/18 [==============================] - 0s 2ms/step - loss: 0.0022 - mae: 0.0022 - mse: 2.0555e-05 - val_loss: 0.0117 - val_mae: 0.0117 - val_mse: 4.4219e-04\n",
      "Epoch 28/100\n",
      "18/18 [==============================] - 0s 1ms/step - loss: 0.0021 - mae: 0.0021 - mse: 2.0179e-05 - val_loss: 0.0114 - val_mae: 0.0114 - val_mse: 4.3130e-04\n",
      "Epoch 29/100\n",
      "18/18 [==============================] - 0s 1ms/step - loss: 0.0019 - mae: 0.0019 - mse: 1.9549e-05 - val_loss: 0.0111 - val_mae: 0.0111 - val_mse: 4.0702e-04\n",
      "Epoch 30/100\n",
      "18/18 [==============================] - 0s 1ms/step - loss: 0.0020 - mae: 0.0020 - mse: 1.9591e-05 - val_loss: 0.0142 - val_mae: 0.0142 - val_mse: 5.9501e-04\n",
      "Epoch 31/100\n",
      "18/18 [==============================] - 0s 2ms/step - loss: 0.0021 - mae: 0.0021 - mse: 2.0866e-05 - val_loss: 0.0155 - val_mae: 0.0155 - val_mse: 6.8364e-04\n",
      "Epoch 32/100\n",
      "18/18 [==============================] - 0s 2ms/step - loss: 0.0020 - mae: 0.0020 - mse: 1.9930e-05 - val_loss: 0.0130 - val_mae: 0.0130 - val_mse: 5.4263e-04\n",
      "Epoch 33/100\n",
      "18/18 [==============================] - 0s 2ms/step - loss: 0.0018 - mae: 0.0018 - mse: 1.8865e-05 - val_loss: 0.0115 - val_mae: 0.0115 - val_mse: 4.2521e-04\n",
      "Epoch 34/100\n",
      "18/18 [==============================] - 0s 2ms/step - loss: 0.0019 - mae: 0.0019 - mse: 1.9419e-05 - val_loss: 0.0111 - val_mae: 0.0111 - val_mse: 4.1480e-04\n",
      "Epoch 35/100\n",
      "18/18 [==============================] - 0s 2ms/step - loss: 0.0019 - mae: 0.0019 - mse: 1.9451e-05 - val_loss: 0.0111 - val_mae: 0.0111 - val_mse: 4.1708e-04\n",
      "Epoch 36/100\n",
      "18/18 [==============================] - 0s 2ms/step - loss: 0.0020 - mae: 0.0020 - mse: 1.9793e-05 - val_loss: 0.0139 - val_mae: 0.0139 - val_mse: 5.9332e-04\n",
      "Epoch 37/100\n",
      " 1/18 [>.............................] - ETA: 0s - loss: 0.0023 - mae: 0.0023 - mse: 2.8728e-05"
     ]
    },
    {
     "name": "stderr",
     "output_type": "stream",
     "text": [
      "WARNING:absl:Found untraced functions such as _update_step_xla while saving (showing 1 of 1). These functions will not be directly callable after loading.\n"
     ]
    },
    {
     "name": "stdout",
     "output_type": "stream",
     "text": [
      "INFO:tensorflow:Assets written to: C:/Users/User/Time_series/checkpoints/exercices\\model_1_dense\\assets\n"
     ]
    },
    {
     "name": "stderr",
     "output_type": "stream",
     "text": [
      "INFO:tensorflow:Assets written to: C:/Users/User/Time_series/checkpoints/exercices\\model_1_dense\\assets\n"
     ]
    },
    {
     "name": "stdout",
     "output_type": "stream",
     "text": [
      "18/18 [==============================] - 0s 14ms/step - loss: 0.0019 - mae: 0.0019 - mse: 1.9001e-05 - val_loss: 0.0106 - val_mae: 0.0106 - val_mse: 3.8301e-04\n",
      "Epoch 38/100\n",
      " 1/18 [>.............................] - ETA: 0s - loss: 0.0017 - mae: 0.0017 - mse: 1.7085e-05"
     ]
    },
    {
     "name": "stderr",
     "output_type": "stream",
     "text": [
      "WARNING:absl:Found untraced functions such as _update_step_xla while saving (showing 1 of 1). These functions will not be directly callable after loading.\n"
     ]
    },
    {
     "name": "stdout",
     "output_type": "stream",
     "text": [
      "INFO:tensorflow:Assets written to: C:/Users/User/Time_series/checkpoints/exercices\\model_1_dense\\assets\n"
     ]
    },
    {
     "name": "stderr",
     "output_type": "stream",
     "text": [
      "INFO:tensorflow:Assets written to: C:/Users/User/Time_series/checkpoints/exercices\\model_1_dense\\assets\n"
     ]
    },
    {
     "name": "stdout",
     "output_type": "stream",
     "text": [
      "18/18 [==============================] - 0s 14ms/step - loss: 0.0018 - mae: 0.0018 - mse: 1.8899e-05 - val_loss: 0.0101 - val_mae: 0.0101 - val_mse: 3.4537e-04\n",
      "Epoch 39/100\n",
      " 1/18 [>.............................] - ETA: 0s - loss: 0.0021 - mae: 0.0021 - mse: 2.8741e-05"
     ]
    },
    {
     "name": "stderr",
     "output_type": "stream",
     "text": [
      "WARNING:absl:Found untraced functions such as _update_step_xla while saving (showing 1 of 1). These functions will not be directly callable after loading.\n"
     ]
    },
    {
     "name": "stdout",
     "output_type": "stream",
     "text": [
      "INFO:tensorflow:Assets written to: C:/Users/User/Time_series/checkpoints/exercices\\model_1_dense\\assets\n"
     ]
    },
    {
     "name": "stderr",
     "output_type": "stream",
     "text": [
      "INFO:tensorflow:Assets written to: C:/Users/User/Time_series/checkpoints/exercices\\model_1_dense\\assets\n"
     ]
    },
    {
     "name": "stdout",
     "output_type": "stream",
     "text": [
      "18/18 [==============================] - 0s 14ms/step - loss: 0.0019 - mae: 0.0019 - mse: 1.9164e-05 - val_loss: 0.0098 - val_mae: 0.0098 - val_mse: 3.2681e-04\n",
      "Epoch 40/100\n",
      "18/18 [==============================] - 0s 1ms/step - loss: 0.0020 - mae: 0.0020 - mse: 1.9346e-05 - val_loss: 0.0099 - val_mae: 0.0099 - val_mse: 3.3477e-04\n",
      "Epoch 41/100\n",
      "18/18 [==============================] - 0s 2ms/step - loss: 0.0019 - mae: 0.0019 - mse: 1.8930e-05 - val_loss: 0.0099 - val_mae: 0.0099 - val_mse: 3.1939e-04\n",
      "Epoch 42/100\n",
      " 1/18 [>.............................] - ETA: 0s - loss: 0.0020 - mae: 0.0020 - mse: 1.5491e-05"
     ]
    },
    {
     "name": "stderr",
     "output_type": "stream",
     "text": [
      "WARNING:absl:Found untraced functions such as _update_step_xla while saving (showing 1 of 1). These functions will not be directly callable after loading.\n"
     ]
    },
    {
     "name": "stdout",
     "output_type": "stream",
     "text": [
      "INFO:tensorflow:Assets written to: C:/Users/User/Time_series/checkpoints/exercices\\model_1_dense\\assets\n"
     ]
    },
    {
     "name": "stderr",
     "output_type": "stream",
     "text": [
      "INFO:tensorflow:Assets written to: C:/Users/User/Time_series/checkpoints/exercices\\model_1_dense\\assets\n"
     ]
    },
    {
     "name": "stdout",
     "output_type": "stream",
     "text": [
      "18/18 [==============================] - 0s 20ms/step - loss: 0.0019 - mae: 0.0019 - mse: 1.9216e-05 - val_loss: 0.0098 - val_mae: 0.0098 - val_mse: 3.2222e-04\n",
      "Epoch 43/100\n",
      "18/18 [==============================] - 0s 1ms/step - loss: 0.0019 - mae: 0.0019 - mse: 1.9046e-05 - val_loss: 0.0100 - val_mae: 0.0100 - val_mse: 3.3608e-04\n",
      "Epoch 44/100\n",
      "18/18 [==============================] - 0s 1ms/step - loss: 0.0019 - mae: 0.0019 - mse: 1.8857e-05 - val_loss: 0.0101 - val_mae: 0.0101 - val_mse: 3.5112e-04\n",
      "Epoch 45/100\n",
      "18/18 [==============================] - 0s 1ms/step - loss: 0.0018 - mae: 0.0018 - mse: 1.8532e-05 - val_loss: 0.0106 - val_mae: 0.0106 - val_mse: 3.8077e-04\n",
      "Epoch 46/100\n",
      " 1/18 [>.............................] - ETA: 0s - loss: 0.0013 - mae: 0.0013 - mse: 1.1259e-05"
     ]
    },
    {
     "name": "stderr",
     "output_type": "stream",
     "text": [
      "WARNING:absl:Found untraced functions such as _update_step_xla while saving (showing 1 of 1). These functions will not be directly callable after loading.\n"
     ]
    },
    {
     "name": "stdout",
     "output_type": "stream",
     "text": [
      "INFO:tensorflow:Assets written to: C:/Users/User/Time_series/checkpoints/exercices\\model_1_dense\\assets\n"
     ]
    },
    {
     "name": "stderr",
     "output_type": "stream",
     "text": [
      "INFO:tensorflow:Assets written to: C:/Users/User/Time_series/checkpoints/exercices\\model_1_dense\\assets\n"
     ]
    },
    {
     "name": "stdout",
     "output_type": "stream",
     "text": [
      "18/18 [==============================] - 0s 14ms/step - loss: 0.0019 - mae: 0.0019 - mse: 1.8729e-05 - val_loss: 0.0097 - val_mae: 0.0097 - val_mse: 3.2487e-04\n",
      "Epoch 47/100\n",
      "18/18 [==============================] - 0s 1ms/step - loss: 0.0018 - mae: 0.0018 - mse: 1.8883e-05 - val_loss: 0.0120 - val_mae: 0.0120 - val_mse: 4.6450e-04\n",
      "Epoch 48/100\n",
      "18/18 [==============================] - 0s 2ms/step - loss: 0.0019 - mae: 0.0019 - mse: 1.8969e-05 - val_loss: 0.0111 - val_mae: 0.0111 - val_mse: 4.1479e-04\n",
      "Epoch 49/100\n",
      "18/18 [==============================] - 0s 1ms/step - loss: 0.0020 - mae: 0.0020 - mse: 1.9294e-05 - val_loss: 0.0098 - val_mae: 0.0098 - val_mse: 3.2862e-04\n",
      "Epoch 50/100\n",
      "18/18 [==============================] - 0s 2ms/step - loss: 0.0018 - mae: 0.0018 - mse: 1.8256e-05 - val_loss: 0.0100 - val_mae: 0.0100 - val_mse: 3.3892e-04\n",
      "Epoch 51/100\n",
      "18/18 [==============================] - 0s 1ms/step - loss: 0.0018 - mae: 0.0018 - mse: 1.8325e-05 - val_loss: 0.0098 - val_mae: 0.0098 - val_mse: 3.3296e-04\n",
      "Epoch 52/100\n",
      "18/18 [==============================] - 0s 1ms/step - loss: 0.0018 - mae: 0.0018 - mse: 1.8709e-05 - val_loss: 0.0099 - val_mae: 0.0099 - val_mse: 3.3487e-04\n",
      "Epoch 53/100\n",
      "18/18 [==============================] - 0s 1ms/step - loss: 0.0019 - mae: 0.0019 - mse: 1.8345e-05 - val_loss: 0.0099 - val_mae: 0.0099 - val_mse: 3.3545e-04\n",
      "Epoch 54/100\n",
      "18/18 [==============================] - 0s 1ms/step - loss: 0.0018 - mae: 0.0018 - mse: 1.8376e-05 - val_loss: 0.0100 - val_mae: 0.0100 - val_mse: 3.3842e-04\n",
      "Epoch 55/100\n",
      "18/18 [==============================] - 0s 1ms/step - loss: 0.0018 - mae: 0.0018 - mse: 1.8139e-05 - val_loss: 0.0103 - val_mae: 0.0103 - val_mse: 3.5872e-04\n",
      "Epoch 56/100\n",
      " 1/18 [>.............................] - ETA: 0s - loss: 0.0018 - mae: 0.0018 - mse: 2.5514e-05"
     ]
    },
    {
     "name": "stderr",
     "output_type": "stream",
     "text": [
      "WARNING:absl:Found untraced functions such as _update_step_xla while saving (showing 1 of 1). These functions will not be directly callable after loading.\n"
     ]
    },
    {
     "name": "stdout",
     "output_type": "stream",
     "text": [
      "INFO:tensorflow:Assets written to: C:/Users/User/Time_series/checkpoints/exercices\\model_1_dense\\assets\n"
     ]
    },
    {
     "name": "stderr",
     "output_type": "stream",
     "text": [
      "INFO:tensorflow:Assets written to: C:/Users/User/Time_series/checkpoints/exercices\\model_1_dense\\assets\n"
     ]
    },
    {
     "name": "stdout",
     "output_type": "stream",
     "text": [
      "18/18 [==============================] - 0s 14ms/step - loss: 0.0018 - mae: 0.0018 - mse: 1.7962e-05 - val_loss: 0.0094 - val_mae: 0.0094 - val_mse: 3.0432e-04\n",
      "Epoch 57/100\n",
      "18/18 [==============================] - 0s 1ms/step - loss: 0.0020 - mae: 0.0020 - mse: 2.0160e-05 - val_loss: 0.0094 - val_mae: 0.0094 - val_mse: 3.0505e-04\n",
      "Epoch 58/100\n",
      "18/18 [==============================] - 0s 1ms/step - loss: 0.0021 - mae: 0.0021 - mse: 1.9396e-05 - val_loss: 0.0098 - val_mae: 0.0098 - val_mse: 3.3499e-04\n",
      "Epoch 59/100\n",
      "18/18 [==============================] - 0s 1ms/step - loss: 0.0019 - mae: 0.0019 - mse: 1.8334e-05 - val_loss: 0.0103 - val_mae: 0.0103 - val_mse: 3.5668e-04\n",
      "Epoch 60/100\n",
      "18/18 [==============================] - 0s 1ms/step - loss: 0.0020 - mae: 0.0020 - mse: 1.8321e-05 - val_loss: 0.0102 - val_mae: 0.0102 - val_mse: 3.5206e-04\n",
      "Epoch 61/100\n",
      "18/18 [==============================] - 0s 1ms/step - loss: 0.0019 - mae: 0.0019 - mse: 1.8929e-05 - val_loss: 0.0128 - val_mae: 0.0128 - val_mse: 5.0485e-04\n",
      "Epoch 62/100\n",
      "18/18 [==============================] - 0s 2ms/step - loss: 0.0019 - mae: 0.0019 - mse: 1.8310e-05 - val_loss: 0.0100 - val_mae: 0.0100 - val_mse: 3.4250e-04\n",
      "Epoch 63/100\n",
      "18/18 [==============================] - 0s 1ms/step - loss: 0.0018 - mae: 0.0018 - mse: 1.8073e-05 - val_loss: 0.0099 - val_mae: 0.0099 - val_mse: 3.3704e-04\n",
      "Epoch 64/100\n",
      "18/18 [==============================] - 0s 1ms/step - loss: 0.0018 - mae: 0.0018 - mse: 1.8034e-05 - val_loss: 0.0121 - val_mae: 0.0121 - val_mse: 4.4582e-04\n",
      "Epoch 65/100\n",
      "18/18 [==============================] - 0s 2ms/step - loss: 0.0020 - mae: 0.0020 - mse: 1.8658e-05 - val_loss: 0.0095 - val_mae: 0.0095 - val_mse: 3.1219e-04\n",
      "Epoch 66/100\n",
      "18/18 [==============================] - 0s 1ms/step - loss: 0.0018 - mae: 0.0018 - mse: 1.7955e-05 - val_loss: 0.0102 - val_mae: 0.0102 - val_mse: 3.5518e-04\n",
      "Epoch 67/100\n",
      "18/18 [==============================] - 0s 1ms/step - loss: 0.0018 - mae: 0.0018 - mse: 1.7843e-05 - val_loss: 0.0099 - val_mae: 0.0099 - val_mse: 3.3598e-04\n",
      "Epoch 68/100\n",
      " 1/18 [>.............................] - ETA: 0s - loss: 0.0014 - mae: 0.0014 - mse: 8.6729e-06"
     ]
    },
    {
     "name": "stderr",
     "output_type": "stream",
     "text": [
      "WARNING:absl:Found untraced functions such as _update_step_xla while saving (showing 1 of 1). These functions will not be directly callable after loading.\n"
     ]
    },
    {
     "name": "stdout",
     "output_type": "stream",
     "text": [
      "INFO:tensorflow:Assets written to: C:/Users/User/Time_series/checkpoints/exercices\\model_1_dense\\assets\n"
     ]
    },
    {
     "name": "stderr",
     "output_type": "stream",
     "text": [
      "INFO:tensorflow:Assets written to: C:/Users/User/Time_series/checkpoints/exercices\\model_1_dense\\assets\n"
     ]
    },
    {
     "name": "stdout",
     "output_type": "stream",
     "text": [
      "18/18 [==============================] - 0s 14ms/step - loss: 0.0020 - mae: 0.0020 - mse: 1.8682e-05 - val_loss: 0.0093 - val_mae: 0.0093 - val_mse: 3.0097e-04\n",
      "Epoch 69/100\n",
      "18/18 [==============================] - 0s 1ms/step - loss: 0.0021 - mae: 0.0021 - mse: 1.9781e-05 - val_loss: 0.0105 - val_mae: 0.0105 - val_mse: 3.6837e-04\n",
      "Epoch 70/100\n",
      "18/18 [==============================] - 0s 1ms/step - loss: 0.0019 - mae: 0.0019 - mse: 1.8283e-05 - val_loss: 0.0099 - val_mae: 0.0099 - val_mse: 3.3832e-04\n",
      "Epoch 71/100\n",
      "18/18 [==============================] - 0s 1ms/step - loss: 0.0021 - mae: 0.0021 - mse: 1.9386e-05 - val_loss: 0.0098 - val_mae: 0.0098 - val_mse: 3.3220e-04\n",
      "Epoch 72/100\n",
      "18/18 [==============================] - 0s 1ms/step - loss: 0.0020 - mae: 0.0020 - mse: 1.8657e-05 - val_loss: 0.0095 - val_mae: 0.0095 - val_mse: 3.0622e-04\n",
      "Epoch 73/100\n",
      "18/18 [==============================] - 0s 1ms/step - loss: 0.0019 - mae: 0.0019 - mse: 1.8275e-05 - val_loss: 0.0119 - val_mae: 0.0119 - val_mse: 4.3400e-04\n",
      "Epoch 74/100\n",
      "18/18 [==============================] - 0s 1ms/step - loss: 0.0019 - mae: 0.0019 - mse: 1.8344e-05 - val_loss: 0.0100 - val_mae: 0.0100 - val_mse: 3.4510e-04\n",
      "Epoch 75/100\n",
      "18/18 [==============================] - 0s 2ms/step - loss: 0.0018 - mae: 0.0018 - mse: 1.7684e-05 - val_loss: 0.0104 - val_mae: 0.0104 - val_mse: 3.5889e-04\n",
      "Epoch 76/100\n",
      "18/18 [==============================] - 0s 1ms/step - loss: 0.0020 - mae: 0.0020 - mse: 1.8504e-05 - val_loss: 0.0098 - val_mae: 0.0098 - val_mse: 3.3347e-04\n",
      "Epoch 77/100\n",
      "18/18 [==============================] - 0s 1ms/step - loss: 0.0019 - mae: 0.0019 - mse: 1.7554e-05 - val_loss: 0.0115 - val_mae: 0.0115 - val_mse: 4.3115e-04\n",
      "Epoch 78/100\n",
      "18/18 [==============================] - 0s 1ms/step - loss: 0.0018 - mae: 0.0018 - mse: 1.8019e-05 - val_loss: 0.0102 - val_mae: 0.0102 - val_mse: 3.5204e-04\n",
      "Epoch 79/100\n",
      "18/18 [==============================] - 0s 1ms/step - loss: 0.0019 - mae: 0.0019 - mse: 1.8545e-05 - val_loss: 0.0094 - val_mae: 0.0094 - val_mse: 3.1396e-04\n",
      "Epoch 80/100\n",
      "18/18 [==============================] - 0s 1ms/step - loss: 0.0019 - mae: 0.0019 - mse: 1.9273e-05 - val_loss: 0.0130 - val_mae: 0.0130 - val_mse: 5.1214e-04\n",
      "Epoch 81/100\n",
      "18/18 [==============================] - 0s 1ms/step - loss: 0.0018 - mae: 0.0018 - mse: 1.8049e-05 - val_loss: 0.0107 - val_mae: 0.0107 - val_mse: 3.8653e-04\n",
      "Epoch 82/100\n",
      "18/18 [==============================] - 0s 1ms/step - loss: 0.0018 - mae: 0.0018 - mse: 1.7825e-05 - val_loss: 0.0102 - val_mae: 0.0102 - val_mse: 3.5757e-04\n",
      "Epoch 83/100\n",
      "18/18 [==============================] - 0s 1ms/step - loss: 0.0018 - mae: 0.0018 - mse: 1.7932e-05 - val_loss: 0.0094 - val_mae: 0.0094 - val_mse: 3.0568e-04\n",
      "Epoch 84/100\n",
      "18/18 [==============================] - 0s 1ms/step - loss: 0.0018 - mae: 0.0018 - mse: 1.7908e-05 - val_loss: 0.0096 - val_mae: 0.0096 - val_mse: 3.2356e-04\n",
      "Epoch 85/100\n",
      "18/18 [==============================] - 0s 1ms/step - loss: 0.0019 - mae: 0.0019 - mse: 1.7781e-05 - val_loss: 0.0117 - val_mae: 0.0117 - val_mse: 4.3525e-04\n",
      "Epoch 86/100\n",
      "18/18 [==============================] - 0s 2ms/step - loss: 0.0018 - mae: 0.0018 - mse: 1.7903e-05 - val_loss: 0.0123 - val_mae: 0.0123 - val_mse: 4.6789e-04\n",
      "Epoch 87/100\n",
      "18/18 [==============================] - 0s 1ms/step - loss: 0.0018 - mae: 0.0018 - mse: 1.7681e-05 - val_loss: 0.0099 - val_mae: 0.0099 - val_mse: 3.4147e-04\n",
      "Epoch 88/100\n",
      "18/18 [==============================] - 0s 1ms/step - loss: 0.0018 - mae: 0.0018 - mse: 1.7580e-05 - val_loss: 0.0100 - val_mae: 0.0100 - val_mse: 3.4737e-04\n",
      "Epoch 89/100\n",
      "18/18 [==============================] - 0s 1ms/step - loss: 0.0018 - mae: 0.0018 - mse: 1.7561e-05 - val_loss: 0.0102 - val_mae: 0.0102 - val_mse: 3.5006e-04\n",
      "Epoch 90/100\n",
      "18/18 [==============================] - 0s 1ms/step - loss: 0.0018 - mae: 0.0018 - mse: 1.7486e-05 - val_loss: 0.0114 - val_mae: 0.0114 - val_mse: 4.1801e-04\n",
      "Epoch 91/100\n",
      "18/18 [==============================] - 0s 2ms/step - loss: 0.0018 - mae: 0.0018 - mse: 1.8214e-05 - val_loss: 0.0097 - val_mae: 0.0097 - val_mse: 3.3051e-04\n",
      "Epoch 92/100\n",
      "18/18 [==============================] - 0s 1ms/step - loss: 0.0018 - mae: 0.0018 - mse: 1.8250e-05 - val_loss: 0.0099 - val_mae: 0.0099 - val_mse: 3.3951e-04\n",
      "Epoch 93/100\n",
      "18/18 [==============================] - 0s 1ms/step - loss: 0.0018 - mae: 0.0018 - mse: 1.7996e-05 - val_loss: 0.0095 - val_mae: 0.0095 - val_mse: 3.2097e-04\n",
      "Epoch 94/100\n",
      "18/18 [==============================] - 0s 1ms/step - loss: 0.0018 - mae: 0.0018 - mse: 1.7831e-05 - val_loss: 0.0101 - val_mae: 0.0101 - val_mse: 3.4979e-04\n",
      "Epoch 95/100\n",
      "18/18 [==============================] - 0s 1ms/step - loss: 0.0017 - mae: 0.0017 - mse: 1.7289e-05 - val_loss: 0.0095 - val_mae: 0.0095 - val_mse: 3.1565e-04\n",
      "Epoch 96/100\n",
      "18/18 [==============================] - 0s 1ms/step - loss: 0.0018 - mae: 0.0018 - mse: 1.7793e-05 - val_loss: 0.0095 - val_mae: 0.0095 - val_mse: 3.1848e-04\n",
      "Epoch 97/100\n",
      "18/18 [==============================] - 0s 1ms/step - loss: 0.0017 - mae: 0.0017 - mse: 1.7338e-05 - val_loss: 0.0098 - val_mae: 0.0098 - val_mse: 3.3637e-04\n",
      "Epoch 98/100\n",
      "18/18 [==============================] - 0s 1ms/step - loss: 0.0017 - mae: 0.0017 - mse: 1.7677e-05 - val_loss: 0.0099 - val_mae: 0.0099 - val_mse: 3.3719e-04\n",
      "Epoch 99/100\n",
      "18/18 [==============================] - 0s 1ms/step - loss: 0.0019 - mae: 0.0019 - mse: 1.8247e-05 - val_loss: 0.0095 - val_mae: 0.0095 - val_mse: 3.1736e-04\n",
      "Epoch 100/100\n",
      " 1/18 [>.............................] - ETA: 0s - loss: 0.0022 - mae: 0.0022 - mse: 1.5006e-05"
     ]
    },
    {
     "name": "stderr",
     "output_type": "stream",
     "text": [
      "WARNING:absl:Found untraced functions such as _update_step_xla while saving (showing 1 of 1). These functions will not be directly callable after loading.\n"
     ]
    },
    {
     "name": "stdout",
     "output_type": "stream",
     "text": [
      "INFO:tensorflow:Assets written to: C:/Users/User/Time_series/checkpoints/exercices\\model_1_dense\\assets\n"
     ]
    },
    {
     "name": "stderr",
     "output_type": "stream",
     "text": [
      "INFO:tensorflow:Assets written to: C:/Users/User/Time_series/checkpoints/exercices\\model_1_dense\\assets\n"
     ]
    },
    {
     "name": "stdout",
     "output_type": "stream",
     "text": [
      "18/18 [==============================] - 0s 14ms/step - loss: 0.0019 - mae: 0.0019 - mse: 1.8254e-05 - val_loss: 0.0092 - val_mae: 0.0092 - val_mse: 2.9731e-04\n"
     ]
    },
    {
     "data": {
      "text/plain": [
       "<keras.callbacks.History at 0x1e47dcab910>"
      ]
     },
     "execution_count": 20,
     "metadata": {},
     "output_type": "execute_result"
    }
   ],
   "source": [
    "import tensorflow as tf\n",
    "from tensorflow.keras import layers\n",
    "\n",
    "# Set random seed for a reproducible results as possible\n",
    "tf.random.set_seed(42)\n",
    "\n",
    "# 1. Construct model \n",
    "model_1 = tf.keras.Sequential([\n",
    "    layers.Dense(128, activation=\"relu\"),\n",
    "    layers.Dense(HORIZON, activation=\"linear\") # linear activation is the same as having no activation.\n",
    "], name=\"model_1_dense\") # name our model so we can save it.\n",
    "\n",
    "# 2. Compile\n",
    "model_1.compile(loss=\"mae\",\n",
    "                optimizer=tf.keras.optimizers.Adam(),\n",
    "                metrics=[\"mae\", \"mse\"])\n",
    "\n",
    "# 3. Fit the model\n",
    "model_1.fit(x=train_windows,\n",
    "            y=train_labels,\n",
    "            epochs=100,\n",
    "            verbose=1,\n",
    "            batch_size=128,\n",
    "            validation_data=(test_windows, test_labels),\n",
    "            callbacks=[CreateModelCheckpoint(\"C:/Users/User/Time_series/checkpoints/exercices/\"+model_1.name,\"val_loss\", False)])"
   ]
  },
  {
   "cell_type": "code",
   "execution_count": 21,
   "id": "f9dbf674",
   "metadata": {},
   "outputs": [
    {
     "name": "stdout",
     "output_type": "stream",
     "text": [
      "18/18 [==============================] - 0s 587us/step - loss: 0.0092 - mae: 0.0092 - mse: 2.9731e-04\n"
     ]
    },
    {
     "data": {
      "text/plain": [
       "[0.00922426488250494, 0.00922426488250494, 0.0002973054361063987]"
      ]
     },
     "execution_count": 21,
     "metadata": {},
     "output_type": "execute_result"
    }
   ],
   "source": [
    "# Evaluate model on test data\n",
    "model_1.evaluate(test_windows, test_labels)"
   ]
  },
  {
   "cell_type": "code",
   "execution_count": 22,
   "id": "69fac68c",
   "metadata": {},
   "outputs": [
    {
     "name": "stdout",
     "output_type": "stream",
     "text": [
      "18/18 [==============================] - 0s 637us/step - loss: 0.0092 - mae: 0.0092 - mse: 2.9731e-04\n"
     ]
    },
    {
     "data": {
      "text/plain": [
       "[0.00922426488250494, 0.00922426488250494, 0.0002973054361063987]"
      ]
     },
     "execution_count": 22,
     "metadata": {},
     "output_type": "execute_result"
    }
   ],
   "source": [
    "# Load in saved best performing model_1 and evaluate it on test data\n",
    "model_1 = tf.keras.models.load_model(\"C:/Users/User/Time_series/checkpoints/exercices/model_1_dense/\")\n",
    "model_1.evaluate(test_windows, test_labels)"
   ]
  },
  {
   "cell_type": "markdown",
   "id": "c5e075f2",
   "metadata": {},
   "source": [
    "### Making forecasts with the model (on the test dataset)\n",
    "\n",
    "To make \"forecasts\" on the test dataset (note: these won't be actual forecasts, they're only pseudo forecasts because actual forecasts are into the future), let's write a function to:\n",
    "\n",
    "1. Take in a train model\n",
    "2. Takes in some input data (same kind of data the model was trained on)\n",
    "3. Passes the input data to the model's `predict()` method\n",
    "4. Returns the predictions."
   ]
  },
  {
   "cell_type": "code",
   "execution_count": 16,
   "id": "b57206b3",
   "metadata": {},
   "outputs": [],
   "source": [
    "def make_preds(model, input_data):\n",
    "    \"\"\"\n",
    "    Uses model to make prediction on input_data.\n",
    "    \"\"\"\n",
    "    forecast = model.predict(input_data)\n",
    "    return tf.squeeze(forecast) # Return 1D array of predictions "
   ]
  },
  {
   "cell_type": "code",
   "execution_count": 24,
   "id": "39fc452f",
   "metadata": {},
   "outputs": [
    {
     "name": "stdout",
     "output_type": "stream",
     "text": [
      "18/18 [==============================] - 0s 413us/step\n"
     ]
    },
    {
     "data": {
      "text/plain": [
       "(556,\n",
       " <tf.Tensor: shape=(10,), dtype=float32, numpy=\n",
       " array([0.14170459, 0.1399974 , 0.14400892, 0.1405407 , 0.13921517,\n",
       "        0.1394969 , 0.13889465, 0.13587868, 0.13520494, 0.13610896],\n",
       "       dtype=float32)>)"
      ]
     },
     "execution_count": 24,
     "metadata": {},
     "output_type": "execute_result"
    }
   ],
   "source": [
    "# Make predictions using model_1 on the test dataset and view results\n",
    "model_1_preds = make_preds(model_1, test_windows)\n",
    "len(model_1_preds), model_1_preds[:10]"
   ]
  },
  {
   "cell_type": "markdown",
   "id": "f15a99f9",
   "metadata": {},
   "source": [
    "## Evaluating a time series model\n",
    "\n",
    "Let's look into some evaluation metrics for time series forecasting.\n",
    "\n",
    "What are we doing ?\n",
    "\n",
    "We're predicting a number, so that means we have a form of a regression problem.\n",
    "\n",
    "Because we're working on a regression problem, we'll need some regression-like metrics.\n",
    "\n",
    "A few common regression metrics (which can also be used for time series forecasting):\n",
    "* MAE - mean absolute error\n",
    "* MSE - mean squarred error\n",
    "* RMSE - root mean squarred error\n",
    "* MAPE/sMAPE - (symmetric) mean absolute percentage error \n",
    "* MASE - mean absolute scaled error\n",
    "\n",
    "The main thing we're evaluating here is: how do our model's forecasts (y_pred) compare against the actual values (y_true or ground truth values)?\n",
    "\n",
    "For all of the above metrics, **lower is better**, for example, an MAE of 0 that is better than a MAE of 100. \n",
    "\n",
    "> 📖 **Resources:** For a deeper dive into the various kinds of time series forecasting methods see: [Forecasting: Principles and Practice chapter 5.8](https://otexts.com/fpp3/accuracy.html)"
   ]
  },
  {
   "cell_type": "code",
   "execution_count": 17,
   "id": "3d3af9ea",
   "metadata": {},
   "outputs": [],
   "source": [
    "# MASE implementation\n",
    "def mean_absolute_scaled_error(y_true, y_pred):\n",
    "    \"\"\"\n",
    "    Implement MASE (assuming no seasonality).\n",
    "    \"\"\"\n",
    "    mae = tf.reduce_mean(tf.abs(y_true - y_pred))\n",
    "    \n",
    "    # Find MAE of naive forecast (no seasonality)\n",
    "    mae_naive_no_season = tf.reduce_mean(tf.abs(y_true[1:] - y_true[:-1])) # Our seasonality is 1 day (hence the shift of 1)\n",
    "    \n",
    "    return mae / mae_naive_no_season"
   ]
  },
  {
   "cell_type": "code",
   "execution_count": 18,
   "id": "82ecb3e8",
   "metadata": {},
   "outputs": [],
   "source": [
    "from tensorflow.keras import metrics"
   ]
  },
  {
   "cell_type": "code",
   "execution_count": 19,
   "id": "a58ac110",
   "metadata": {},
   "outputs": [],
   "source": [
    "# Create a function to take in model prediction and truth values and return evaluation metrics\n",
    "def evaluate_preds(y_true, y_pred):\n",
    "    # Make sure float32 datatype (for metric calculations)\n",
    "    y_true = tf.cast(y_true, dtype=tf.float32)\n",
    "    y_pred = tf.cast(y_pred, dtype=tf.float32)\n",
    "    \n",
    "    # Calculate various evaluation metrics\n",
    "    mae = metrics.mean_absolute_error(y_true, y_pred)\n",
    "    mse = metrics.mean_squared_error(y_true, y_pred)\n",
    "    rmse = tf.sqrt(mse)\n",
    "    mape = metrics.mean_absolute_percentage_error(y_true, y_pred)\n",
    "    mase = mean_absolute_scaled_error(y_true, y_pred)\n",
    "    \n",
    "    return {\"mae\": mae.numpy(),\n",
    "            \"mse\": mse.numpy(),\n",
    "            \"rmse\": rmse.numpy(),\n",
    "            \"mape\": mape.numpy(),\n",
    "            \"mase\": mase.numpy()}"
   ]
  },
  {
   "cell_type": "code",
   "execution_count": 28,
   "id": "9f813333",
   "metadata": {},
   "outputs": [
    {
     "data": {
      "text/plain": [
       "{'mae': 0.009224263,\n",
       " 'mse': 0.00029730544,\n",
       " 'rmse': 0.017242547,\n",
       " 'mape': 2.7004735,\n",
       " 'mase': 1.0265014}"
      ]
     },
     "execution_count": 28,
     "metadata": {},
     "output_type": "execute_result"
    }
   ],
   "source": [
    "# Evaluate preds\n",
    "model_1_results = evaluate_preds(y_true=tf.squeeze(test_labels),\n",
    "                                 y_pred=model_1_preds)\n",
    "model_1_results"
   ]
  },
  {
   "cell_type": "code",
   "execution_count": 29,
   "id": "1dd7b0ec",
   "metadata": {},
   "outputs": [
    {
     "data": {
      "image/png": "[encoded data removed]",
      "text/plain": [
       "<Figure size 1000x700 with 1 Axes>"
      ]
     },
     "metadata": {},
     "output_type": "display_data"
    }
   ],
   "source": [
    "# Let's plot our model 1 predictions\n",
    "offset=450\n",
    "plt.figure(figsize=(10, 7))\n",
    "# Account for the test_window offset and index into test_labels to ensure correct plotting\n",
    "plot_time_series(timesteps=X_test[-len(test_windows):], \n",
    "                 values=test_labels[:,0],\n",
    "                 start=offset,\n",
    "                 label=\"Test Data\")\n",
    "\n",
    "plot_time_series(timesteps=X_test[-len(test_windows):],\n",
    "                 values=model_1_preds,\n",
    "                 start=offset,\n",
    "                 format=\"-\", \n",
    "                 label=\"model 1 preds\")"
   ]
  },
  {
   "cell_type": "markdown",
   "id": "987affc3",
   "metadata": {},
   "source": [
    "### Make a multivariate time series dataset"
   ]
  },
  {
   "cell_type": "code",
   "execution_count": 20,
   "id": "0a86a063",
   "metadata": {},
   "outputs": [],
   "source": [
    "# Let's add the bitcoin halving events to our dataset\n",
    "block_reward_1 = 50 # 3 January 2009 - this block reward isn't in our dataset (our data starts from 01 October 2013)\n",
    "block_reward_2 = 25 # 8 November 2012\n",
    "block_reward_3 = 12.5 # 9 July 2016\n",
    "block_reward_4 = 6.25 # 18 May 2020\n",
    "\n",
    "# Block reward dates \n",
    "block_reward_2_datetime = np.datetime64(\"2012-11-28\")\n",
    "block_reward_3_datetime = np.datetime64(\"2016-07-09\")\n",
    "block_reward_4_datetime = np.datetime64(\"2020-05-18\")"
   ]
  },
  {
   "cell_type": "code",
   "execution_count": 21,
   "id": "64b6ce5d",
   "metadata": {},
   "outputs": [
    {
     "data": {
      "text/html": [
       "<div>\n",
       "<style scoped>\n",
       "    .dataframe tbody tr th:only-of-type {\n",
       "        vertical-align: middle;\n",
       "    }\n",
       "\n",
       "    .dataframe tbody tr th {\n",
       "        vertical-align: top;\n",
       "    }\n",
       "\n",
       "    .dataframe thead th {\n",
       "        text-align: right;\n",
       "    }\n",
       "</style>\n",
       "<table border=\"1\" class=\"dataframe\">\n",
       "  <thead>\n",
       "    <tr style=\"text-align: right;\">\n",
       "      <th></th>\n",
       "      <th>Price</th>\n",
       "      <th>block_reward</th>\n",
       "    </tr>\n",
       "    <tr>\n",
       "      <th>Date</th>\n",
       "      <th></th>\n",
       "      <th></th>\n",
       "    </tr>\n",
       "  </thead>\n",
       "  <tbody>\n",
       "    <tr>\n",
       "      <th>2013-10-01</th>\n",
       "      <td>123.654990</td>\n",
       "      <td>25.00</td>\n",
       "    </tr>\n",
       "    <tr>\n",
       "      <th>2013-10-02</th>\n",
       "      <td>125.455000</td>\n",
       "      <td>25.00</td>\n",
       "    </tr>\n",
       "    <tr>\n",
       "      <th>2013-10-03</th>\n",
       "      <td>108.584830</td>\n",
       "      <td>25.00</td>\n",
       "    </tr>\n",
       "    <tr>\n",
       "      <th>2013-10-04</th>\n",
       "      <td>118.674660</td>\n",
       "      <td>25.00</td>\n",
       "    </tr>\n",
       "    <tr>\n",
       "      <th>2013-10-05</th>\n",
       "      <td>121.338660</td>\n",
       "      <td>25.00</td>\n",
       "    </tr>\n",
       "    <tr>\n",
       "      <th>...</th>\n",
       "      <td>...</td>\n",
       "      <td>...</td>\n",
       "    </tr>\n",
       "    <tr>\n",
       "      <th>2021-05-14</th>\n",
       "      <td>49764.132082</td>\n",
       "      <td>6.25</td>\n",
       "    </tr>\n",
       "    <tr>\n",
       "      <th>2021-05-15</th>\n",
       "      <td>50032.693137</td>\n",
       "      <td>6.25</td>\n",
       "    </tr>\n",
       "    <tr>\n",
       "      <th>2021-05-16</th>\n",
       "      <td>47885.625255</td>\n",
       "      <td>6.25</td>\n",
       "    </tr>\n",
       "    <tr>\n",
       "      <th>2021-05-17</th>\n",
       "      <td>45604.615754</td>\n",
       "      <td>6.25</td>\n",
       "    </tr>\n",
       "    <tr>\n",
       "      <th>2021-05-18</th>\n",
       "      <td>43144.471291</td>\n",
       "      <td>6.25</td>\n",
       "    </tr>\n",
       "  </tbody>\n",
       "</table>\n",
       "<p>2787 rows × 2 columns</p>\n",
       "</div>"
      ],
      "text/plain": [
       "                   Price  block_reward\n",
       "Date                                  \n",
       "2013-10-01    123.654990         25.00\n",
       "2013-10-02    125.455000         25.00\n",
       "2013-10-03    108.584830         25.00\n",
       "2013-10-04    118.674660         25.00\n",
       "2013-10-05    121.338660         25.00\n",
       "...                  ...           ...\n",
       "2021-05-14  49764.132082          6.25\n",
       "2021-05-15  50032.693137          6.25\n",
       "2021-05-16  47885.625255          6.25\n",
       "2021-05-17  45604.615754          6.25\n",
       "2021-05-18  43144.471291          6.25\n",
       "\n",
       "[2787 rows x 2 columns]"
      ]
     },
     "execution_count": 21,
     "metadata": {},
     "output_type": "execute_result"
    }
   ],
   "source": [
    "# Create date range of where specific block_reward values should be\n",
    "bitcoin_prices.loc[(bitcoin_prices.index >= bitcoin_prices.index[0]) & (bitcoin_prices.index < block_reward_3_datetime) , 'block_reward'] = block_reward_2\n",
    "bitcoin_prices.loc[(bitcoin_prices.index >= block_reward_3_datetime) & (bitcoin_prices.index < block_reward_4_datetime) , 'block_reward'] = block_reward_3\n",
    "bitcoin_prices.loc[bitcoin_prices.index >= block_reward_4_datetime, 'block_reward'] = block_reward_4\n",
    "bitcoin_prices"
   ]
  },
  {
   "cell_type": "code",
   "execution_count": 32,
   "id": "17090f53",
   "metadata": {},
   "outputs": [
    {
     "data": {
      "image/png": "[encoded data removed]",
      "text/plain": [
       "<Figure size 1000x700 with 1 Axes>"
      ]
     },
     "metadata": {},
     "output_type": "display_data"
    }
   ],
   "source": [
    "# Plot the block reward vs price over time\n",
    "from sklearn.preprocessing import minmax_scale\n",
    "scaled_price_block_df = pd.DataFrame(minmax_scale(bitcoin_prices[[\"Price\", \"block_reward\"]]),\n",
    "                                    columns=bitcoin_prices.columns,\n",
    "                                   index=bitcoin_prices.index)\n",
    "scaled_price_block_df.plot(figsize=(10,7));"
   ]
  },
  {
   "cell_type": "code",
   "execution_count": 22,
   "id": "b6f454be",
   "metadata": {},
   "outputs": [
    {
     "data": {
      "text/html": [
       "<div>\n",
       "<style scoped>\n",
       "    .dataframe tbody tr th:only-of-type {\n",
       "        vertical-align: middle;\n",
       "    }\n",
       "\n",
       "    .dataframe tbody tr th {\n",
       "        vertical-align: top;\n",
       "    }\n",
       "\n",
       "    .dataframe thead th {\n",
       "        text-align: right;\n",
       "    }\n",
       "</style>\n",
       "<table border=\"1\" class=\"dataframe\">\n",
       "  <thead>\n",
       "    <tr style=\"text-align: right;\">\n",
       "      <th></th>\n",
       "      <th>Price</th>\n",
       "      <th>block_reward</th>\n",
       "    </tr>\n",
       "    <tr>\n",
       "      <th>Date</th>\n",
       "      <th></th>\n",
       "      <th></th>\n",
       "    </tr>\n",
       "  </thead>\n",
       "  <tbody>\n",
       "    <tr>\n",
       "      <th>2013-10-01</th>\n",
       "      <td>0.001952</td>\n",
       "      <td>1.00</td>\n",
       "    </tr>\n",
       "    <tr>\n",
       "      <th>2013-10-02</th>\n",
       "      <td>0.001980</td>\n",
       "      <td>1.00</td>\n",
       "    </tr>\n",
       "    <tr>\n",
       "      <th>2013-10-03</th>\n",
       "      <td>0.001714</td>\n",
       "      <td>1.00</td>\n",
       "    </tr>\n",
       "    <tr>\n",
       "      <th>2013-10-04</th>\n",
       "      <td>0.001873</td>\n",
       "      <td>1.00</td>\n",
       "    </tr>\n",
       "    <tr>\n",
       "      <th>2013-10-05</th>\n",
       "      <td>0.001915</td>\n",
       "      <td>1.00</td>\n",
       "    </tr>\n",
       "    <tr>\n",
       "      <th>...</th>\n",
       "      <td>...</td>\n",
       "      <td>...</td>\n",
       "    </tr>\n",
       "    <tr>\n",
       "      <th>2021-05-14</th>\n",
       "      <td>0.785583</td>\n",
       "      <td>0.25</td>\n",
       "    </tr>\n",
       "    <tr>\n",
       "      <th>2021-05-15</th>\n",
       "      <td>0.789822</td>\n",
       "      <td>0.25</td>\n",
       "    </tr>\n",
       "    <tr>\n",
       "      <th>2021-05-16</th>\n",
       "      <td>0.755928</td>\n",
       "      <td>0.25</td>\n",
       "    </tr>\n",
       "    <tr>\n",
       "      <th>2021-05-17</th>\n",
       "      <td>0.719920</td>\n",
       "      <td>0.25</td>\n",
       "    </tr>\n",
       "    <tr>\n",
       "      <th>2021-05-18</th>\n",
       "      <td>0.681084</td>\n",
       "      <td>0.25</td>\n",
       "    </tr>\n",
       "  </tbody>\n",
       "</table>\n",
       "<p>2787 rows × 2 columns</p>\n",
       "</div>"
      ],
      "text/plain": [
       "               Price  block_reward\n",
       "Date                              \n",
       "2013-10-01  0.001952          1.00\n",
       "2013-10-02  0.001980          1.00\n",
       "2013-10-03  0.001714          1.00\n",
       "2013-10-04  0.001873          1.00\n",
       "2013-10-05  0.001915          1.00\n",
       "...              ...           ...\n",
       "2021-05-14  0.785583          0.25\n",
       "2021-05-15  0.789822          0.25\n",
       "2021-05-16  0.755928          0.25\n",
       "2021-05-17  0.719920          0.25\n",
       "2021-05-18  0.681084          0.25\n",
       "\n",
       "[2787 rows x 2 columns]"
      ]
     },
     "execution_count": 22,
     "metadata": {},
     "output_type": "execute_result"
    }
   ],
   "source": [
    "# Scale Price and block_reward\n",
    "bitcoin_prices.Price = bitcoin_prices.Price / np.max(bitcoin_prices.Price)\n",
    "bitcoin_prices.block_reward = bitcoin_prices.block_reward / np.max(bitcoin_prices.block_reward)\n",
    "bitcoin_prices"
   ]
  },
  {
   "cell_type": "markdown",
   "id": "278e4ba0",
   "metadata": {},
   "source": [
    "## Making a windowed dataset with pandas"
   ]
  },
  {
   "cell_type": "code",
   "execution_count": 23,
   "id": "a763104c",
   "metadata": {},
   "outputs": [],
   "source": [
    "# Setup dataset hyperparameters\n",
    "HORIZON = 1\n",
    "WINDOW_SIZE = 7"
   ]
  },
  {
   "cell_type": "code",
   "execution_count": 24,
   "id": "5edd3e14",
   "metadata": {},
   "outputs": [
    {
     "data": {
      "text/html": [
       "<div>\n",
       "<style scoped>\n",
       "    .dataframe tbody tr th:only-of-type {\n",
       "        vertical-align: middle;\n",
       "    }\n",
       "\n",
       "    .dataframe tbody tr th {\n",
       "        vertical-align: top;\n",
       "    }\n",
       "\n",
       "    .dataframe thead th {\n",
       "        text-align: right;\n",
       "    }\n",
       "</style>\n",
       "<table border=\"1\" class=\"dataframe\">\n",
       "  <thead>\n",
       "    <tr style=\"text-align: right;\">\n",
       "      <th></th>\n",
       "      <th>Price</th>\n",
       "      <th>block_reward</th>\n",
       "      <th>Price+1</th>\n",
       "      <th>Price+2</th>\n",
       "      <th>Price+3</th>\n",
       "      <th>Price+4</th>\n",
       "      <th>Price+5</th>\n",
       "      <th>Price+6</th>\n",
       "      <th>Price+7</th>\n",
       "    </tr>\n",
       "    <tr>\n",
       "      <th>Date</th>\n",
       "      <th></th>\n",
       "      <th></th>\n",
       "      <th></th>\n",
       "      <th></th>\n",
       "      <th></th>\n",
       "      <th></th>\n",
       "      <th></th>\n",
       "      <th></th>\n",
       "      <th></th>\n",
       "    </tr>\n",
       "  </thead>\n",
       "  <tbody>\n",
       "    <tr>\n",
       "      <th>2013-10-01</th>\n",
       "      <td>0.001952</td>\n",
       "      <td>1.0</td>\n",
       "      <td>NaN</td>\n",
       "      <td>NaN</td>\n",
       "      <td>NaN</td>\n",
       "      <td>NaN</td>\n",
       "      <td>NaN</td>\n",
       "      <td>NaN</td>\n",
       "      <td>NaN</td>\n",
       "    </tr>\n",
       "    <tr>\n",
       "      <th>2013-10-02</th>\n",
       "      <td>0.001980</td>\n",
       "      <td>1.0</td>\n",
       "      <td>0.001952</td>\n",
       "      <td>NaN</td>\n",
       "      <td>NaN</td>\n",
       "      <td>NaN</td>\n",
       "      <td>NaN</td>\n",
       "      <td>NaN</td>\n",
       "      <td>NaN</td>\n",
       "    </tr>\n",
       "    <tr>\n",
       "      <th>2013-10-03</th>\n",
       "      <td>0.001714</td>\n",
       "      <td>1.0</td>\n",
       "      <td>0.001980</td>\n",
       "      <td>0.001952</td>\n",
       "      <td>NaN</td>\n",
       "      <td>NaN</td>\n",
       "      <td>NaN</td>\n",
       "      <td>NaN</td>\n",
       "      <td>NaN</td>\n",
       "    </tr>\n",
       "    <tr>\n",
       "      <th>2013-10-04</th>\n",
       "      <td>0.001873</td>\n",
       "      <td>1.0</td>\n",
       "      <td>0.001714</td>\n",
       "      <td>0.001980</td>\n",
       "      <td>0.001952</td>\n",
       "      <td>NaN</td>\n",
       "      <td>NaN</td>\n",
       "      <td>NaN</td>\n",
       "      <td>NaN</td>\n",
       "    </tr>\n",
       "    <tr>\n",
       "      <th>2013-10-05</th>\n",
       "      <td>0.001915</td>\n",
       "      <td>1.0</td>\n",
       "      <td>0.001873</td>\n",
       "      <td>0.001714</td>\n",
       "      <td>0.001980</td>\n",
       "      <td>0.001952</td>\n",
       "      <td>NaN</td>\n",
       "      <td>NaN</td>\n",
       "      <td>NaN</td>\n",
       "    </tr>\n",
       "    <tr>\n",
       "      <th>2013-10-06</th>\n",
       "      <td>0.001905</td>\n",
       "      <td>1.0</td>\n",
       "      <td>0.001915</td>\n",
       "      <td>0.001873</td>\n",
       "      <td>0.001714</td>\n",
       "      <td>0.001980</td>\n",
       "      <td>0.001952</td>\n",
       "      <td>NaN</td>\n",
       "      <td>NaN</td>\n",
       "    </tr>\n",
       "    <tr>\n",
       "      <th>2013-10-07</th>\n",
       "      <td>0.001923</td>\n",
       "      <td>1.0</td>\n",
       "      <td>0.001905</td>\n",
       "      <td>0.001915</td>\n",
       "      <td>0.001873</td>\n",
       "      <td>0.001714</td>\n",
       "      <td>0.001980</td>\n",
       "      <td>0.001952</td>\n",
       "      <td>NaN</td>\n",
       "    </tr>\n",
       "    <tr>\n",
       "      <th>2013-10-08</th>\n",
       "      <td>0.001942</td>\n",
       "      <td>1.0</td>\n",
       "      <td>0.001923</td>\n",
       "      <td>0.001905</td>\n",
       "      <td>0.001915</td>\n",
       "      <td>0.001873</td>\n",
       "      <td>0.001714</td>\n",
       "      <td>0.001980</td>\n",
       "      <td>0.001952</td>\n",
       "    </tr>\n",
       "    <tr>\n",
       "      <th>2013-10-09</th>\n",
       "      <td>0.001958</td>\n",
       "      <td>1.0</td>\n",
       "      <td>0.001942</td>\n",
       "      <td>0.001923</td>\n",
       "      <td>0.001905</td>\n",
       "      <td>0.001915</td>\n",
       "      <td>0.001873</td>\n",
       "      <td>0.001714</td>\n",
       "      <td>0.001980</td>\n",
       "    </tr>\n",
       "    <tr>\n",
       "      <th>2013-10-10</th>\n",
       "      <td>0.001988</td>\n",
       "      <td>1.0</td>\n",
       "      <td>0.001958</td>\n",
       "      <td>0.001942</td>\n",
       "      <td>0.001923</td>\n",
       "      <td>0.001905</td>\n",
       "      <td>0.001915</td>\n",
       "      <td>0.001873</td>\n",
       "      <td>0.001714</td>\n",
       "    </tr>\n",
       "  </tbody>\n",
       "</table>\n",
       "</div>"
      ],
      "text/plain": [
       "               Price  block_reward   Price+1   Price+2   Price+3   Price+4  \\\n",
       "Date                                                                         \n",
       "2013-10-01  0.001952           1.0       NaN       NaN       NaN       NaN   \n",
       "2013-10-02  0.001980           1.0  0.001952       NaN       NaN       NaN   \n",
       "2013-10-03  0.001714           1.0  0.001980  0.001952       NaN       NaN   \n",
       "2013-10-04  0.001873           1.0  0.001714  0.001980  0.001952       NaN   \n",
       "2013-10-05  0.001915           1.0  0.001873  0.001714  0.001980  0.001952   \n",
       "2013-10-06  0.001905           1.0  0.001915  0.001873  0.001714  0.001980   \n",
       "2013-10-07  0.001923           1.0  0.001905  0.001915  0.001873  0.001714   \n",
       "2013-10-08  0.001942           1.0  0.001923  0.001905  0.001915  0.001873   \n",
       "2013-10-09  0.001958           1.0  0.001942  0.001923  0.001905  0.001915   \n",
       "2013-10-10  0.001988           1.0  0.001958  0.001942  0.001923  0.001905   \n",
       "\n",
       "             Price+5   Price+6   Price+7  \n",
       "Date                                      \n",
       "2013-10-01       NaN       NaN       NaN  \n",
       "2013-10-02       NaN       NaN       NaN  \n",
       "2013-10-03       NaN       NaN       NaN  \n",
       "2013-10-04       NaN       NaN       NaN  \n",
       "2013-10-05       NaN       NaN       NaN  \n",
       "2013-10-06  0.001952       NaN       NaN  \n",
       "2013-10-07  0.001980  0.001952       NaN  \n",
       "2013-10-08  0.001714  0.001980  0.001952  \n",
       "2013-10-09  0.001873  0.001714  0.001980  \n",
       "2013-10-10  0.001915  0.001873  0.001714  "
      ]
     },
     "execution_count": 24,
     "metadata": {},
     "output_type": "execute_result"
    }
   ],
   "source": [
    "# Make a copy of the Bitcoin historical data with block reward feature\n",
    "bitcoin_prices_windowed = bitcoin_prices.copy()\n",
    "\n",
    "# Add windowed columns\n",
    "for i in range(WINDOW_SIZE): # Shift values for each step in WINDOW_SIZE\n",
    "    bitcoin_prices_windowed[f\"Price+{i+1}\"] = bitcoin_prices_windowed[\"Price\"].shift(periods=i+1)\n",
    "bitcoin_prices_windowed.head(10)"
   ]
  },
  {
   "cell_type": "code",
   "execution_count": 25,
   "id": "95946007",
   "metadata": {},
   "outputs": [
    {
     "data": {
      "text/html": [
       "<div>\n",
       "<style scoped>\n",
       "    .dataframe tbody tr th:only-of-type {\n",
       "        vertical-align: middle;\n",
       "    }\n",
       "\n",
       "    .dataframe tbody tr th {\n",
       "        vertical-align: top;\n",
       "    }\n",
       "\n",
       "    .dataframe thead th {\n",
       "        text-align: right;\n",
       "    }\n",
       "</style>\n",
       "<table border=\"1\" class=\"dataframe\">\n",
       "  <thead>\n",
       "    <tr style=\"text-align: right;\">\n",
       "      <th></th>\n",
       "      <th>block_reward</th>\n",
       "      <th>Price+1</th>\n",
       "      <th>Price+2</th>\n",
       "      <th>Price+3</th>\n",
       "      <th>Price+4</th>\n",
       "      <th>Price+5</th>\n",
       "      <th>Price+6</th>\n",
       "      <th>Price+7</th>\n",
       "    </tr>\n",
       "    <tr>\n",
       "      <th>Date</th>\n",
       "      <th></th>\n",
       "      <th></th>\n",
       "      <th></th>\n",
       "      <th></th>\n",
       "      <th></th>\n",
       "      <th></th>\n",
       "      <th></th>\n",
       "      <th></th>\n",
       "    </tr>\n",
       "  </thead>\n",
       "  <tbody>\n",
       "    <tr>\n",
       "      <th>2013-10-08</th>\n",
       "      <td>1.0</td>\n",
       "      <td>0.001923</td>\n",
       "      <td>0.001905</td>\n",
       "      <td>0.001915</td>\n",
       "      <td>0.001873</td>\n",
       "      <td>0.001714</td>\n",
       "      <td>0.001980</td>\n",
       "      <td>0.001952</td>\n",
       "    </tr>\n",
       "    <tr>\n",
       "      <th>2013-10-09</th>\n",
       "      <td>1.0</td>\n",
       "      <td>0.001942</td>\n",
       "      <td>0.001923</td>\n",
       "      <td>0.001905</td>\n",
       "      <td>0.001915</td>\n",
       "      <td>0.001873</td>\n",
       "      <td>0.001714</td>\n",
       "      <td>0.001980</td>\n",
       "    </tr>\n",
       "    <tr>\n",
       "      <th>2013-10-10</th>\n",
       "      <td>1.0</td>\n",
       "      <td>0.001958</td>\n",
       "      <td>0.001942</td>\n",
       "      <td>0.001923</td>\n",
       "      <td>0.001905</td>\n",
       "      <td>0.001915</td>\n",
       "      <td>0.001873</td>\n",
       "      <td>0.001714</td>\n",
       "    </tr>\n",
       "    <tr>\n",
       "      <th>2013-10-11</th>\n",
       "      <td>1.0</td>\n",
       "      <td>0.001988</td>\n",
       "      <td>0.001958</td>\n",
       "      <td>0.001942</td>\n",
       "      <td>0.001923</td>\n",
       "      <td>0.001905</td>\n",
       "      <td>0.001915</td>\n",
       "      <td>0.001873</td>\n",
       "    </tr>\n",
       "    <tr>\n",
       "      <th>2013-10-12</th>\n",
       "      <td>1.0</td>\n",
       "      <td>0.001978</td>\n",
       "      <td>0.001988</td>\n",
       "      <td>0.001958</td>\n",
       "      <td>0.001942</td>\n",
       "      <td>0.001923</td>\n",
       "      <td>0.001905</td>\n",
       "      <td>0.001915</td>\n",
       "    </tr>\n",
       "  </tbody>\n",
       "</table>\n",
       "</div>"
      ],
      "text/plain": [
       "            block_reward   Price+1   Price+2   Price+3   Price+4   Price+5  \\\n",
       "Date                                                                         \n",
       "2013-10-08           1.0  0.001923  0.001905  0.001915  0.001873  0.001714   \n",
       "2013-10-09           1.0  0.001942  0.001923  0.001905  0.001915  0.001873   \n",
       "2013-10-10           1.0  0.001958  0.001942  0.001923  0.001905  0.001915   \n",
       "2013-10-11           1.0  0.001988  0.001958  0.001942  0.001923  0.001905   \n",
       "2013-10-12           1.0  0.001978  0.001988  0.001958  0.001942  0.001923   \n",
       "\n",
       "             Price+6   Price+7  \n",
       "Date                            \n",
       "2013-10-08  0.001980  0.001952  \n",
       "2013-10-09  0.001714  0.001980  \n",
       "2013-10-10  0.001873  0.001714  \n",
       "2013-10-11  0.001915  0.001873  \n",
       "2013-10-12  0.001905  0.001915  "
      ]
     },
     "execution_count": 25,
     "metadata": {},
     "output_type": "execute_result"
    }
   ],
   "source": [
    "# Create X (windows) and y (horizons) features\n",
    "X = bitcoin_prices_windowed.dropna().drop(\"Price\", axis=1).astype(np.float32)\n",
    "y = bitcoin_prices_windowed.dropna()[\"Price\"].astype(np.float32)\n",
    "X.head()"
   ]
  },
  {
   "cell_type": "code",
   "execution_count": 26,
   "id": "2a6cf1da",
   "metadata": {},
   "outputs": [
    {
     "data": {
      "text/plain": [
       "(2224, 2224, 556, 556)"
      ]
     },
     "execution_count": 26,
     "metadata": {},
     "output_type": "execute_result"
    }
   ],
   "source": [
    "# Make train and test sets using indexing\n",
    "split_size = int(len(X) * 0.8)\n",
    "X_train, y_train = X[:split_size], y[:split_size]\n",
    "X_test, y_test = X[split_size:], y[split_size:]\n",
    "len(X_train), len(y_train), len(X_test), len(y_test)"
   ]
  },
  {
   "cell_type": "markdown",
   "id": "d56a5ac6",
   "metadata": {},
   "source": [
    "### Model 6: Dense (multivariate time series)"
   ]
  },
  {
   "cell_type": "code",
   "execution_count": 48,
   "id": "0623a9a2",
   "metadata": {},
   "outputs": [
    {
     "name": "stdout",
     "output_type": "stream",
     "text": [
      "Epoch 1/100\n",
      " 1/18 [>.............................] - ETA: 4s - loss: 0.0576 - mae: 0.0576 - mse: 0.0052"
     ]
    },
    {
     "name": "stderr",
     "output_type": "stream",
     "text": [
      "WARNING:absl:Found untraced functions such as _update_step_xla while saving (showing 1 of 1). These functions will not be directly callable after loading.\n"
     ]
    },
    {
     "name": "stdout",
     "output_type": "stream",
     "text": [
      "INFO:tensorflow:Assets written to: C:/Users/User/Time_series/checkpoints/exercices\\model_6_multivariate\\assets\n"
     ]
    },
    {
     "name": "stderr",
     "output_type": "stream",
     "text": [
      "INFO:tensorflow:Assets written to: C:/Users/User/Time_series/checkpoints/exercices\\model_6_multivariate\\assets\n"
     ]
    },
    {
     "name": "stdout",
     "output_type": "stream",
     "text": [
      "18/18 [==============================] - 1s 21ms/step - loss: 0.0214 - mae: 0.0214 - mse: 9.5019e-04 - val_loss: 0.0539 - val_mae: 0.0539 - val_mse: 0.0095\n",
      "Epoch 2/100\n",
      " 1/18 [>.............................] - ETA: 0s - loss: 0.0053 - mae: 0.0053 - mse: 6.0447e-05"
     ]
    },
    {
     "name": "stderr",
     "output_type": "stream",
     "text": [
      "WARNING:absl:Found untraced functions such as _update_step_xla while saving (showing 1 of 1). These functions will not be directly callable after loading.\n"
     ]
    },
    {
     "name": "stdout",
     "output_type": "stream",
     "text": [
      "INFO:tensorflow:Assets written to: C:/Users/User/Time_series/checkpoints/exercices\\model_6_multivariate\\assets\n"
     ]
    },
    {
     "name": "stderr",
     "output_type": "stream",
     "text": [
      "INFO:tensorflow:Assets written to: C:/Users/User/Time_series/checkpoints/exercices\\model_6_multivariate\\assets\n"
     ]
    },
    {
     "name": "stdout",
     "output_type": "stream",
     "text": [
      "18/18 [==============================] - 0s 17ms/step - loss: 0.0065 - mae: 0.0065 - mse: 7.7098e-05 - val_loss: 0.0476 - val_mae: 0.0476 - val_mse: 0.0074\n",
      "Epoch 3/100\n",
      "18/18 [==============================] - 0s 2ms/step - loss: 0.0056 - mae: 0.0056 - mse: 6.0316e-05 - val_loss: 0.0563 - val_mae: 0.0563 - val_mse: 0.0097\n",
      "Epoch 4/100\n",
      "18/18 [==============================] - 0s 2ms/step - loss: 0.0047 - mae: 0.0047 - mse: 5.1335e-05 - val_loss: 0.0567 - val_mae: 0.0567 - val_mse: 0.0101\n",
      "Epoch 5/100\n",
      "18/18 [==============================] - 0s 2ms/step - loss: 0.0034 - mae: 0.0034 - mse: 4.0512e-05 - val_loss: 0.0576 - val_mae: 0.0576 - val_mse: 0.0104\n",
      "Epoch 6/100\n",
      "18/18 [==============================] - 0s 2ms/step - loss: 0.0041 - mae: 0.0041 - mse: 4.1524e-05 - val_loss: 0.0633 - val_mae: 0.0633 - val_mse: 0.0123\n",
      "Epoch 7/100\n",
      "18/18 [==============================] - 0s 2ms/step - loss: 0.0061 - mae: 0.0061 - mse: 6.6960e-05 - val_loss: 0.0632 - val_mae: 0.0632 - val_mse: 0.0121\n",
      "Epoch 8/100\n",
      "18/18 [==============================] - 0s 2ms/step - loss: 0.0030 - mae: 0.0030 - mse: 3.2442e-05 - val_loss: 0.0547 - val_mae: 0.0547 - val_mse: 0.0095\n",
      "Epoch 9/100\n",
      "18/18 [==============================] - 0s 2ms/step - loss: 0.0044 - mae: 0.0044 - mse: 4.3985e-05 - val_loss: 0.0507 - val_mae: 0.0507 - val_mse: 0.0082\n",
      "Epoch 10/100\n",
      "18/18 [==============================] - 0s 2ms/step - loss: 0.0042 - mae: 0.0042 - mse: 3.9879e-05 - val_loss: 0.0557 - val_mae: 0.0557 - val_mse: 0.0098\n",
      "Epoch 11/100\n",
      "18/18 [==============================] - 0s 2ms/step - loss: 0.0040 - mae: 0.0040 - mse: 3.6832e-05 - val_loss: 0.0601 - val_mae: 0.0601 - val_mse: 0.0110\n",
      "Epoch 12/100\n",
      "18/18 [==============================] - 0s 2ms/step - loss: 0.0046 - mae: 0.0046 - mse: 4.3128e-05 - val_loss: 0.0694 - val_mae: 0.0694 - val_mse: 0.0144\n",
      "Epoch 13/100\n",
      "18/18 [==============================] - 0s 2ms/step - loss: 0.0039 - mae: 0.0039 - mse: 3.3346e-05 - val_loss: 0.0607 - val_mae: 0.0607 - val_mse: 0.0115\n",
      "Epoch 14/100\n",
      "18/18 [==============================] - 0s 2ms/step - loss: 0.0038 - mae: 0.0038 - mse: 3.5501e-05 - val_loss: 0.0572 - val_mae: 0.0572 - val_mse: 0.0103\n",
      "Epoch 15/100\n",
      "18/18 [==============================] - 0s 2ms/step - loss: 0.0062 - mae: 0.0062 - mse: 5.9335e-05 - val_loss: 0.0558 - val_mae: 0.0558 - val_mse: 0.0098\n",
      "Epoch 16/100\n",
      "18/18 [==============================] - 0s 2ms/step - loss: 0.0043 - mae: 0.0043 - mse: 3.7275e-05 - val_loss: 0.0566 - val_mae: 0.0566 - val_mse: 0.0102\n",
      "Epoch 17/100\n",
      "18/18 [==============================] - 0s 2ms/step - loss: 0.0037 - mae: 0.0037 - mse: 3.0888e-05 - val_loss: 0.0601 - val_mae: 0.0601 - val_mse: 0.0113\n",
      "Epoch 18/100\n",
      "18/18 [==============================] - 0s 2ms/step - loss: 0.0034 - mae: 0.0034 - mse: 2.8469e-05 - val_loss: 0.0577 - val_mae: 0.0577 - val_mse: 0.0103\n",
      "Epoch 19/100\n",
      "18/18 [==============================] - 0s 2ms/step - loss: 0.0034 - mae: 0.0034 - mse: 2.7915e-05 - val_loss: 0.0624 - val_mae: 0.0624 - val_mse: 0.0116\n",
      "Epoch 20/100\n",
      "18/18 [==============================] - 0s 2ms/step - loss: 0.0028 - mae: 0.0028 - mse: 2.5442e-05 - val_loss: 0.0490 - val_mae: 0.0490 - val_mse: 0.0074\n",
      "Epoch 21/100\n",
      "18/18 [==============================] - 0s 2ms/step - loss: 0.0032 - mae: 0.0032 - mse: 2.9487e-05 - val_loss: 0.0692 - val_mae: 0.0692 - val_mse: 0.0141\n",
      "Epoch 22/100\n",
      "18/18 [==============================] - 0s 2ms/step - loss: 0.0037 - mae: 0.0037 - mse: 2.9319e-05 - val_loss: 0.0622 - val_mae: 0.0622 - val_mse: 0.0120\n",
      "Epoch 23/100\n",
      "18/18 [==============================] - 0s 2ms/step - loss: 0.0029 - mae: 0.0029 - mse: 2.4967e-05 - val_loss: 0.0576 - val_mae: 0.0576 - val_mse: 0.0104\n",
      "Epoch 24/100\n",
      "18/18 [==============================] - 0s 2ms/step - loss: 0.0028 - mae: 0.0028 - mse: 2.4409e-05 - val_loss: 0.0542 - val_mae: 0.0542 - val_mse: 0.0092\n",
      "Epoch 25/100\n",
      "18/18 [==============================] - 0s 2ms/step - loss: 0.0025 - mae: 0.0025 - mse: 2.2500e-05 - val_loss: 0.0558 - val_mae: 0.0558 - val_mse: 0.0099\n",
      "Epoch 26/100\n",
      "18/18 [==============================] - 0s 2ms/step - loss: 0.0030 - mae: 0.0030 - mse: 2.6909e-05 - val_loss: 0.0540 - val_mae: 0.0540 - val_mse: 0.0094\n",
      "Epoch 27/100\n",
      "18/18 [==============================] - 0s 2ms/step - loss: 0.0036 - mae: 0.0036 - mse: 3.0044e-05 - val_loss: 0.0549 - val_mae: 0.0549 - val_mse: 0.0096\n",
      "Epoch 28/100\n",
      "18/18 [==============================] - 0s 2ms/step - loss: 0.0056 - mae: 0.0056 - mse: 4.9940e-05 - val_loss: 0.0488 - val_mae: 0.0488 - val_mse: 0.0078\n",
      "Epoch 29/100\n",
      "18/18 [==============================] - 0s 2ms/step - loss: 0.0054 - mae: 0.0054 - mse: 5.0941e-05 - val_loss: 0.0674 - val_mae: 0.0674 - val_mse: 0.0126\n",
      "Epoch 30/100\n",
      "18/18 [==============================] - 0s 2ms/step - loss: 0.0048 - mae: 0.0048 - mse: 3.9938e-05 - val_loss: 0.0588 - val_mae: 0.0588 - val_mse: 0.0104\n",
      "Epoch 31/100\n",
      "18/18 [==============================] - 0s 2ms/step - loss: 0.0041 - mae: 0.0041 - mse: 3.2449e-05 - val_loss: 0.0632 - val_mae: 0.0632 - val_mse: 0.0121\n",
      "Epoch 32/100\n",
      "18/18 [==============================] - 0s 2ms/step - loss: 0.0031 - mae: 0.0031 - mse: 2.4624e-05 - val_loss: 0.0548 - val_mae: 0.0548 - val_mse: 0.0095\n",
      "Epoch 33/100\n",
      " 1/18 [>.............................] - ETA: 0s - loss: 0.0034 - mae: 0.0034 - mse: 3.8395e-05"
     ]
    },
    {
     "name": "stderr",
     "output_type": "stream",
     "text": [
      "WARNING:absl:Found untraced functions such as _update_step_xla while saving (showing 1 of 1). These functions will not be directly callable after loading.\n"
     ]
    },
    {
     "name": "stdout",
     "output_type": "stream",
     "text": [
      "INFO:tensorflow:Assets written to: C:/Users/User/Time_series/checkpoints/exercices\\model_6_multivariate\\assets\n"
     ]
    },
    {
     "name": "stderr",
     "output_type": "stream",
     "text": [
      "INFO:tensorflow:Assets written to: C:/Users/User/Time_series/checkpoints/exercices\\model_6_multivariate\\assets\n"
     ]
    },
    {
     "name": "stdout",
     "output_type": "stream",
     "text": [
      "18/18 [==============================] - 0s 17ms/step - loss: 0.0044 - mae: 0.0044 - mse: 3.5859e-05 - val_loss: 0.0458 - val_mae: 0.0458 - val_mse: 0.0068\n",
      "Epoch 34/100\n",
      "18/18 [==============================] - 0s 2ms/step - loss: 0.0044 - mae: 0.0044 - mse: 3.7486e-05 - val_loss: 0.0549 - val_mae: 0.0549 - val_mse: 0.0093\n",
      "Epoch 35/100\n",
      "18/18 [==============================] - 0s 2ms/step - loss: 0.0029 - mae: 0.0029 - mse: 2.4454e-05 - val_loss: 0.0606 - val_mae: 0.0606 - val_mse: 0.0110\n",
      "Epoch 36/100\n",
      "18/18 [==============================] - 0s 2ms/step - loss: 0.0034 - mae: 0.0034 - mse: 2.7370e-05 - val_loss: 0.0495 - val_mae: 0.0495 - val_mse: 0.0076\n",
      "Epoch 37/100\n",
      "18/18 [==============================] - 0s 2ms/step - loss: 0.0065 - mae: 0.0065 - mse: 6.4544e-05 - val_loss: 0.0574 - val_mae: 0.0574 - val_mse: 0.0095\n",
      "Epoch 38/100\n",
      " 1/18 [>.............................] - ETA: 0s - loss: 0.0065 - mae: 0.0065 - mse: 5.4971e-05"
     ]
    },
    {
     "name": "stderr",
     "output_type": "stream",
     "text": [
      "WARNING:absl:Found untraced functions such as _update_step_xla while saving (showing 1 of 1). These functions will not be directly callable after loading.\n"
     ]
    },
    {
     "name": "stdout",
     "output_type": "stream",
     "text": [
      "INFO:tensorflow:Assets written to: C:/Users/User/Time_series/checkpoints/exercices\\model_6_multivariate\\assets\n"
     ]
    },
    {
     "name": "stderr",
     "output_type": "stream",
     "text": [
      "INFO:tensorflow:Assets written to: C:/Users/User/Time_series/checkpoints/exercices\\model_6_multivariate\\assets\n"
     ]
    },
    {
     "name": "stdout",
     "output_type": "stream",
     "text": [
      "18/18 [==============================] - 0s 17ms/step - loss: 0.0058 - mae: 0.0058 - mse: 5.4657e-05 - val_loss: 0.0456 - val_mae: 0.0456 - val_mse: 0.0065\n",
      "Epoch 39/100\n",
      "18/18 [==============================] - 0s 2ms/step - loss: 0.0041 - mae: 0.0041 - mse: 3.4505e-05 - val_loss: 0.0552 - val_mae: 0.0552 - val_mse: 0.0090\n",
      "Epoch 40/100\n",
      "18/18 [==============================] - 0s 2ms/step - loss: 0.0028 - mae: 0.0028 - mse: 2.2725e-05 - val_loss: 0.0595 - val_mae: 0.0595 - val_mse: 0.0104\n",
      "Epoch 41/100\n",
      "18/18 [==============================] - 0s 2ms/step - loss: 0.0029 - mae: 0.0029 - mse: 2.2436e-05 - val_loss: 0.0572 - val_mae: 0.0572 - val_mse: 0.0099\n",
      "Epoch 42/100\n",
      "18/18 [==============================] - 0s 2ms/step - loss: 0.0049 - mae: 0.0049 - mse: 4.0438e-05 - val_loss: 0.0548 - val_mae: 0.0548 - val_mse: 0.0092\n",
      "Epoch 43/100\n",
      "18/18 [==============================] - 0s 2ms/step - loss: 0.0042 - mae: 0.0042 - mse: 3.4314e-05 - val_loss: 0.0526 - val_mae: 0.0526 - val_mse: 0.0085\n",
      "Epoch 44/100\n",
      " 1/18 [>.............................] - ETA: 0s - loss: 0.0033 - mae: 0.0033 - mse: 1.3483e-05"
     ]
    },
    {
     "name": "stderr",
     "output_type": "stream",
     "text": [
      "WARNING:absl:Found untraced functions such as _update_step_xla while saving (showing 1 of 1). These functions will not be directly callable after loading.\n"
     ]
    },
    {
     "name": "stdout",
     "output_type": "stream",
     "text": [
      "INFO:tensorflow:Assets written to: C:/Users/User/Time_series/checkpoints/exercices\\model_6_multivariate\\assets\n"
     ]
    },
    {
     "name": "stderr",
     "output_type": "stream",
     "text": [
      "INFO:tensorflow:Assets written to: C:/Users/User/Time_series/checkpoints/exercices\\model_6_multivariate\\assets\n"
     ]
    },
    {
     "name": "stdout",
     "output_type": "stream",
     "text": [
      "18/18 [==============================] - 0s 17ms/step - loss: 0.0043 - mae: 0.0043 - mse: 3.3272e-05 - val_loss: 0.0441 - val_mae: 0.0441 - val_mse: 0.0061\n",
      "Epoch 45/100\n",
      "18/18 [==============================] - 0s 2ms/step - loss: 0.0039 - mae: 0.0039 - mse: 3.2804e-05 - val_loss: 0.0540 - val_mae: 0.0540 - val_mse: 0.0087\n",
      "Epoch 46/100\n",
      "18/18 [==============================] - 0s 2ms/step - loss: 0.0040 - mae: 0.0040 - mse: 3.2063e-05 - val_loss: 0.0583 - val_mae: 0.0583 - val_mse: 0.0092\n",
      "Epoch 47/100\n",
      " 1/18 [>.............................] - ETA: 0s - loss: 0.0037 - mae: 0.0037 - mse: 2.5952e-05"
     ]
    },
    {
     "name": "stderr",
     "output_type": "stream",
     "text": [
      "WARNING:absl:Found untraced functions such as _update_step_xla while saving (showing 1 of 1). These functions will not be directly callable after loading.\n"
     ]
    },
    {
     "name": "stdout",
     "output_type": "stream",
     "text": [
      "INFO:tensorflow:Assets written to: C:/Users/User/Time_series/checkpoints/exercices\\model_6_multivariate\\assets\n"
     ]
    },
    {
     "name": "stderr",
     "output_type": "stream",
     "text": [
      "INFO:tensorflow:Assets written to: C:/Users/User/Time_series/checkpoints/exercices\\model_6_multivariate\\assets\n"
     ]
    },
    {
     "name": "stdout",
     "output_type": "stream",
     "text": [
      "18/18 [==============================] - 0s 17ms/step - loss: 0.0036 - mae: 0.0036 - mse: 2.9697e-05 - val_loss: 0.0402 - val_mae: 0.0402 - val_mse: 0.0051\n",
      "Epoch 48/100\n",
      "18/18 [==============================] - 0s 2ms/step - loss: 0.0028 - mae: 0.0028 - mse: 2.3854e-05 - val_loss: 0.0458 - val_mae: 0.0458 - val_mse: 0.0064\n",
      "Epoch 49/100\n",
      "18/18 [==============================] - 0s 2ms/step - loss: 0.0032 - mae: 0.0032 - mse: 2.5213e-05 - val_loss: 0.0549 - val_mae: 0.0549 - val_mse: 0.0088\n",
      "Epoch 50/100\n",
      "18/18 [==============================] - 0s 2ms/step - loss: 0.0037 - mae: 0.0037 - mse: 2.8973e-05 - val_loss: 0.0464 - val_mae: 0.0464 - val_mse: 0.0066\n",
      "Epoch 51/100\n",
      "18/18 [==============================] - 0s 2ms/step - loss: 0.0031 - mae: 0.0031 - mse: 2.5513e-05 - val_loss: 0.0601 - val_mae: 0.0601 - val_mse: 0.0098\n",
      "Epoch 52/100\n",
      "18/18 [==============================] - 0s 2ms/step - loss: 0.0033 - mae: 0.0033 - mse: 2.5217e-05 - val_loss: 0.0477 - val_mae: 0.0477 - val_mse: 0.0070\n",
      "Epoch 53/100\n",
      "18/18 [==============================] - 0s 2ms/step - loss: 0.0034 - mae: 0.0034 - mse: 2.6417e-05 - val_loss: 0.0508 - val_mae: 0.0508 - val_mse: 0.0079\n",
      "Epoch 54/100\n",
      "18/18 [==============================] - 0s 2ms/step - loss: 0.0062 - mae: 0.0062 - mse: 5.9342e-05 - val_loss: 0.0412 - val_mae: 0.0412 - val_mse: 0.0053\n",
      "Epoch 55/100\n",
      "18/18 [==============================] - 0s 2ms/step - loss: 0.0038 - mae: 0.0038 - mse: 3.3067e-05 - val_loss: 0.0495 - val_mae: 0.0495 - val_mse: 0.0073\n",
      "Epoch 56/100\n",
      "18/18 [==============================] - 0s 2ms/step - loss: 0.0021 - mae: 0.0021 - mse: 1.9732e-05 - val_loss: 0.0494 - val_mae: 0.0494 - val_mse: 0.0075\n",
      "Epoch 57/100\n",
      "18/18 [==============================] - 0s 2ms/step - loss: 0.0037 - mae: 0.0037 - mse: 2.9569e-05 - val_loss: 0.0495 - val_mae: 0.0495 - val_mse: 0.0076\n",
      "Epoch 58/100\n",
      "18/18 [==============================] - 0s 2ms/step - loss: 0.0030 - mae: 0.0030 - mse: 2.4604e-05 - val_loss: 0.0564 - val_mae: 0.0564 - val_mse: 0.0095\n",
      "Epoch 59/100\n",
      "18/18 [==============================] - 0s 2ms/step - loss: 0.0029 - mae: 0.0029 - mse: 2.4544e-05 - val_loss: 0.0546 - val_mae: 0.0546 - val_mse: 0.0090\n",
      "Epoch 60/100\n",
      "18/18 [==============================] - 0s 2ms/step - loss: 0.0025 - mae: 0.0025 - mse: 2.0634e-05 - val_loss: 0.0507 - val_mae: 0.0507 - val_mse: 0.0080\n",
      "Epoch 61/100\n",
      "18/18 [==============================] - 0s 2ms/step - loss: 0.0026 - mae: 0.0026 - mse: 2.1415e-05 - val_loss: 0.0559 - val_mae: 0.0559 - val_mse: 0.0092\n",
      "Epoch 62/100\n",
      "18/18 [==============================] - 0s 2ms/step - loss: 0.0030 - mae: 0.0030 - mse: 2.3565e-05 - val_loss: 0.0503 - val_mae: 0.0503 - val_mse: 0.0079\n",
      "Epoch 63/100\n",
      "18/18 [==============================] - 0s 2ms/step - loss: 0.0028 - mae: 0.0028 - mse: 2.1805e-05 - val_loss: 0.0559 - val_mae: 0.0559 - val_mse: 0.0095\n",
      "Epoch 64/100\n",
      "18/18 [==============================] - 0s 2ms/step - loss: 0.0022 - mae: 0.0022 - mse: 1.9397e-05 - val_loss: 0.0592 - val_mae: 0.0592 - val_mse: 0.0100\n",
      "Epoch 65/100\n",
      "18/18 [==============================] - 0s 2ms/step - loss: 0.0031 - mae: 0.0031 - mse: 2.6531e-05 - val_loss: 0.0473 - val_mae: 0.0473 - val_mse: 0.0072\n",
      "Epoch 66/100\n",
      "18/18 [==============================] - 0s 2ms/step - loss: 0.0033 - mae: 0.0033 - mse: 2.7339e-05 - val_loss: 0.0628 - val_mae: 0.0628 - val_mse: 0.0114\n",
      "Epoch 67/100\n",
      "18/18 [==============================] - 0s 2ms/step - loss: 0.0039 - mae: 0.0039 - mse: 3.0125e-05 - val_loss: 0.0539 - val_mae: 0.0539 - val_mse: 0.0088\n",
      "Epoch 68/100\n",
      "18/18 [==============================] - 0s 2ms/step - loss: 0.0038 - mae: 0.0038 - mse: 2.9548e-05 - val_loss: 0.0567 - val_mae: 0.0567 - val_mse: 0.0097\n",
      "Epoch 69/100\n",
      "18/18 [==============================] - 0s 2ms/step - loss: 0.0039 - mae: 0.0039 - mse: 2.8974e-05 - val_loss: 0.0521 - val_mae: 0.0521 - val_mse: 0.0083\n",
      "Epoch 70/100\n",
      "18/18 [==============================] - 0s 2ms/step - loss: 0.0040 - mae: 0.0040 - mse: 3.0589e-05 - val_loss: 0.0490 - val_mae: 0.0490 - val_mse: 0.0074\n",
      "Epoch 71/100\n",
      "18/18 [==============================] - 0s 2ms/step - loss: 0.0048 - mae: 0.0048 - mse: 4.1154e-05 - val_loss: 0.0616 - val_mae: 0.0616 - val_mse: 0.0105\n",
      "Epoch 72/100\n",
      "18/18 [==============================] - 0s 2ms/step - loss: 0.0043 - mae: 0.0043 - mse: 3.4640e-05 - val_loss: 0.0619 - val_mae: 0.0619 - val_mse: 0.0107\n",
      "Epoch 73/100\n",
      "18/18 [==============================] - 0s 2ms/step - loss: 0.0028 - mae: 0.0028 - mse: 2.1598e-05 - val_loss: 0.0530 - val_mae: 0.0530 - val_mse: 0.0084\n",
      "Epoch 74/100\n",
      "18/18 [==============================] - 0s 2ms/step - loss: 0.0024 - mae: 0.0024 - mse: 1.9639e-05 - val_loss: 0.0509 - val_mae: 0.0509 - val_mse: 0.0080\n",
      "Epoch 75/100\n",
      "18/18 [==============================] - 0s 2ms/step - loss: 0.0026 - mae: 0.0026 - mse: 2.1353e-05 - val_loss: 0.0515 - val_mae: 0.0515 - val_mse: 0.0081\n",
      "Epoch 76/100\n",
      "18/18 [==============================] - 0s 2ms/step - loss: 0.0031 - mae: 0.0031 - mse: 2.4786e-05 - val_loss: 0.0467 - val_mae: 0.0467 - val_mse: 0.0068\n",
      "Epoch 77/100\n",
      "18/18 [==============================] - 0s 2ms/step - loss: 0.0032 - mae: 0.0032 - mse: 2.5749e-05 - val_loss: 0.0501 - val_mae: 0.0501 - val_mse: 0.0075\n",
      "Epoch 78/100\n",
      "18/18 [==============================] - 0s 2ms/step - loss: 0.0027 - mae: 0.0027 - mse: 2.3019e-05 - val_loss: 0.0512 - val_mae: 0.0512 - val_mse: 0.0079\n",
      "Epoch 79/100\n",
      "18/18 [==============================] - 0s 2ms/step - loss: 0.0024 - mae: 0.0024 - mse: 1.9896e-05 - val_loss: 0.0493 - val_mae: 0.0493 - val_mse: 0.0074\n",
      "Epoch 80/100\n",
      "18/18 [==============================] - 0s 2ms/step - loss: 0.0027 - mae: 0.0027 - mse: 2.1450e-05 - val_loss: 0.0499 - val_mae: 0.0499 - val_mse: 0.0076\n",
      "Epoch 81/100\n",
      "18/18 [==============================] - 0s 2ms/step - loss: 0.0025 - mae: 0.0025 - mse: 2.0449e-05 - val_loss: 0.0511 - val_mae: 0.0511 - val_mse: 0.0079\n",
      "Epoch 82/100\n",
      "18/18 [==============================] - 0s 2ms/step - loss: 0.0025 - mae: 0.0025 - mse: 2.0504e-05 - val_loss: 0.0543 - val_mae: 0.0543 - val_mse: 0.0090\n",
      "Epoch 83/100\n",
      "18/18 [==============================] - 0s 2ms/step - loss: 0.0029 - mae: 0.0029 - mse: 2.2414e-05 - val_loss: 0.0452 - val_mae: 0.0452 - val_mse: 0.0065\n",
      "Epoch 84/100\n",
      "18/18 [==============================] - 0s 2ms/step - loss: 0.0034 - mae: 0.0034 - mse: 2.5942e-05 - val_loss: 0.0520 - val_mae: 0.0520 - val_mse: 0.0083\n",
      "Epoch 85/100\n",
      "18/18 [==============================] - 0s 2ms/step - loss: 0.0030 - mae: 0.0030 - mse: 2.4118e-05 - val_loss: 0.0475 - val_mae: 0.0475 - val_mse: 0.0071\n",
      "Epoch 86/100\n",
      "18/18 [==============================] - 0s 2ms/step - loss: 0.0021 - mae: 0.0021 - mse: 1.8716e-05 - val_loss: 0.0500 - val_mae: 0.0500 - val_mse: 0.0077\n",
      "Epoch 87/100\n",
      "18/18 [==============================] - 0s 2ms/step - loss: 0.0027 - mae: 0.0027 - mse: 2.2879e-05 - val_loss: 0.0508 - val_mae: 0.0508 - val_mse: 0.0079\n",
      "Epoch 88/100\n",
      "18/18 [==============================] - 0s 2ms/step - loss: 0.0025 - mae: 0.0025 - mse: 1.9513e-05 - val_loss: 0.0463 - val_mae: 0.0463 - val_mse: 0.0067\n",
      "Epoch 89/100\n",
      "18/18 [==============================] - 0s 2ms/step - loss: 0.0025 - mae: 0.0025 - mse: 1.9927e-05 - val_loss: 0.0539 - val_mae: 0.0539 - val_mse: 0.0089\n",
      "Epoch 90/100\n",
      "18/18 [==============================] - 0s 2ms/step - loss: 0.0028 - mae: 0.0028 - mse: 2.1848e-05 - val_loss: 0.0559 - val_mae: 0.0559 - val_mse: 0.0097\n",
      "Epoch 91/100\n",
      "18/18 [==============================] - 0s 2ms/step - loss: 0.0027 - mae: 0.0027 - mse: 2.1004e-05 - val_loss: 0.0453 - val_mae: 0.0453 - val_mse: 0.0065\n",
      "Epoch 92/100\n",
      "18/18 [==============================] - 0s 2ms/step - loss: 0.0031 - mae: 0.0031 - mse: 2.3972e-05 - val_loss: 0.0654 - val_mae: 0.0654 - val_mse: 0.0121\n",
      "Epoch 93/100\n",
      "18/18 [==============================] - 0s 2ms/step - loss: 0.0027 - mae: 0.0027 - mse: 2.1652e-05 - val_loss: 0.0497 - val_mae: 0.0497 - val_mse: 0.0077\n",
      "Epoch 94/100\n",
      "18/18 [==============================] - 0s 2ms/step - loss: 0.0022 - mae: 0.0022 - mse: 2.0349e-05 - val_loss: 0.0514 - val_mae: 0.0514 - val_mse: 0.0082\n",
      "Epoch 95/100\n",
      "18/18 [==============================] - 0s 2ms/step - loss: 0.0020 - mae: 0.0020 - mse: 1.8648e-05 - val_loss: 0.0485 - val_mae: 0.0485 - val_mse: 0.0074\n",
      "Epoch 96/100\n",
      "18/18 [==============================] - 0s 2ms/step - loss: 0.0031 - mae: 0.0031 - mse: 2.3613e-05 - val_loss: 0.0630 - val_mae: 0.0630 - val_mse: 0.0118\n",
      "Epoch 97/100\n",
      "18/18 [==============================] - 0s 2ms/step - loss: 0.0025 - mae: 0.0025 - mse: 2.0650e-05 - val_loss: 0.0505 - val_mae: 0.0505 - val_mse: 0.0079\n",
      "Epoch 98/100\n",
      "18/18 [==============================] - 0s 2ms/step - loss: 0.0032 - mae: 0.0032 - mse: 2.4542e-05 - val_loss: 0.0507 - val_mae: 0.0507 - val_mse: 0.0080\n",
      "Epoch 99/100\n",
      "18/18 [==============================] - 0s 2ms/step - loss: 0.0029 - mae: 0.0029 - mse: 2.3519e-05 - val_loss: 0.0481 - val_mae: 0.0481 - val_mse: 0.0071\n",
      "Epoch 100/100\n",
      "18/18 [==============================] - 0s 2ms/step - loss: 0.0028 - mae: 0.0028 - mse: 2.1443e-05 - val_loss: 0.0517 - val_mae: 0.0517 - val_mse: 0.0081\n"
     ]
    },
    {
     "data": {
      "text/plain": [
       "<keras.callbacks.History at 0x1e401444cd0>"
      ]
     },
     "execution_count": 48,
     "metadata": {},
     "output_type": "execute_result"
    }
   ],
   "source": [
    "# Set random seed for a reproducible results as possible\n",
    "tf.random.set_seed(42)\n",
    "\n",
    "# 1. Construct model \n",
    "model_6 = tf.keras.Sequential([\n",
    "    layers.Dense(128, activation=\"relu\"),\n",
    "    layers.Dense(128, activation=\"relu\"),\n",
    "    layers.Dense(HORIZON, activation=\"linear\") # linear activation is the same as having no activation.\n",
    "], name=\"model_6_multivariate\") # name our model so we can save it.\n",
    "\n",
    "# 2. Compile\n",
    "model_6.compile(loss=\"mae\",\n",
    "                optimizer=tf.keras.optimizers.Adam(),\n",
    "                metrics=[\"mae\", \"mse\"])\n",
    "\n",
    "# 3. Fit the model\n",
    "model_6.fit(x=X_train,\n",
    "            y=y_train,\n",
    "            epochs=100,\n",
    "            verbose=1,\n",
    "            batch_size=128,\n",
    "            validation_data=(X_test, y_test),\n",
    "            callbacks=[CreateModelCheckpoint(\"C:/Users/User/Time_series/checkpoints/exercices/\"+model_6.name,\"val_loss\", False)])"
   ]
  },
  {
   "cell_type": "code",
   "execution_count": 49,
   "id": "55295a40",
   "metadata": {},
   "outputs": [
    {
     "name": "stdout",
     "output_type": "stream",
     "text": [
      "18/18 [==============================] - 0s 528us/step - loss: 0.0517 - mae: 0.0517 - mse: 0.0081\n"
     ]
    },
    {
     "data": {
      "text/plain": [
       "[0.05170131474733353, 0.05170131474733353, 0.008079834282398224]"
      ]
     },
     "execution_count": 49,
     "metadata": {},
     "output_type": "execute_result"
    }
   ],
   "source": [
    "# Evaluate multivariate model\n",
    "model_6.evaluate(X_test, y_test)"
   ]
  },
  {
   "cell_type": "code",
   "execution_count": 50,
   "id": "f5c1f1e2",
   "metadata": {},
   "outputs": [
    {
     "name": "stdout",
     "output_type": "stream",
     "text": [
      "18/18 [==============================] - 0s 645us/step - loss: 0.0402 - mae: 0.0402 - mse: 0.0051\n"
     ]
    },
    {
     "data": {
      "text/plain": [
       "[0.04015642777085304, 0.04015642777085304, 0.005084615666419268]"
      ]
     },
     "execution_count": 50,
     "metadata": {},
     "output_type": "execute_result"
    }
   ],
   "source": [
    "# Load in and evaluate best performing model\n",
    "model_6 = tf.keras.models.load_model(\"C:/Users/User/Time_series/checkpoints/exercices/model_6_multivariate\")\n",
    "model_6.evaluate(X_test, y_test)"
   ]
  },
  {
   "cell_type": "code",
   "execution_count": 51,
   "id": "0f1cc630",
   "metadata": {},
   "outputs": [
    {
     "name": "stdout",
     "output_type": "stream",
     "text": [
      "18/18 [==============================] - 0s 469us/step\n"
     ]
    },
    {
     "data": {
      "text/plain": [
       "<tf.Tensor: shape=(10,), dtype=float32, numpy=\n",
       "array([0.14434619, 0.14241277, 0.14376737, 0.14104739, 0.1413402 ,\n",
       "       0.1408001 , 0.13929607, 0.13793819, 0.13678631, 0.13674133],\n",
       "      dtype=float32)>"
      ]
     },
     "execution_count": 51,
     "metadata": {},
     "output_type": "execute_result"
    }
   ],
   "source": [
    "# Make predictions with multivariate model\n",
    "model_6_preds = make_preds(model_6, X_test)\n",
    "model_6_preds[:10]"
   ]
  },
  {
   "cell_type": "code",
   "execution_count": 52,
   "id": "82218eb3",
   "metadata": {},
   "outputs": [
    {
     "data": {
      "text/plain": [
       "{'mae': 0.040156428,\n",
       " 'mse': 0.005084616,\n",
       " 'rmse': 0.0713065,\n",
       " 'mape': 7.6818542,\n",
       " 'mase': 4.468718}"
      ]
     },
     "execution_count": 52,
     "metadata": {},
     "output_type": "execute_result"
    }
   ],
   "source": [
    "# Evaluate predictions to get eval metrics\n",
    "model_6_results = evaluate_preds(y_true=y_test,\n",
    "                                 y_pred=model_6_preds)\n",
    "model_6_results"
   ]
  },
  {
   "cell_type": "code",
   "execution_count": 53,
   "id": "a478d3f4",
   "metadata": {},
   "outputs": [
    {
     "data": {
      "text/plain": [
       "{'mae': 0.009224263,\n",
       " 'mse': 0.00029730544,\n",
       " 'rmse': 0.017242547,\n",
       " 'mape': 2.7004735,\n",
       " 'mase': 1.0265014}"
      ]
     },
     "execution_count": 53,
     "metadata": {},
     "output_type": "execute_result"
    }
   ],
   "source": [
    "model_1_results"
   ]
  },
  {
   "cell_type": "markdown",
   "id": "566176a6",
   "metadata": {},
   "source": [
    "## 3. Make models with windows varying from start_WINDOW_SIZE to end_WINDOW_SIZE"
   ]
  },
  {
   "cell_type": "code",
   "execution_count": 27,
   "id": "c10c1df3",
   "metadata": {},
   "outputs": [],
   "source": [
    "# Let's make a function which will test for us the WINDOW_SIZE with model 1\n",
    "def get_metrics_by_window_size(x , start_WINDOW_SIZE, end_WINDOW_SIZE, HORIZON):\n",
    "    \n",
    "    \"\"\"\n",
    "    Turn a 1D array into \"end_WINDOW_SIZE - start_WINDOW_SIZE + 1\" 2D arrays sequential labelled windows of size \n",
    "    from \"start_WINDOW_SIZE\" to \"end_WINDOW_SIZE\" with labels of size \"HORIZON\". Builds a model for each one, train them\n",
    "    and returns their metrics under the format of a dataframe.\n",
    "    \"\"\"  \n",
    "    \n",
    "    preds_results = []\n",
    "    pred_results_dict = {}\n",
    "    \n",
    "    for i in range(end_WINDOW_SIZE - start_WINDOW_SIZE + 1):\n",
    "        WINDOW_SIZE = i + start_WINDOW_SIZE\n",
    "        full_windows, full_labels = make_windows(x, window_size=WINDOW_SIZE, horizon=HORIZON)\n",
    "        train_windows, test_windows, train_labels, test_labels = make_train_test_splits(full_windows, full_labels)\n",
    "        \n",
    "        # Set random seed for a reproducible results as possible\n",
    "        tf.random.set_seed(42)\n",
    "\n",
    "        #  Construct model \n",
    "        globals()[\"model_1_window_size_{}\".format(i+start_WINDOW_SIZE)] = tf.keras.Sequential([\n",
    "            layers.Dense(128, activation=\"relu\"),\n",
    "            layers.Dense(HORIZON, activation=\"linear\") \n",
    "            ], name=\"model_1_window_size_{}_dense\".format(i+start_WINDOW_SIZE)) \n",
    "\n",
    "        #  Compile\n",
    "        globals()[\"model_1_window_size_{}\".format(i+start_WINDOW_SIZE)].compile(loss=\"mae\",\n",
    "                                                                optimizer=tf.keras.optimizers.Adam(),\n",
    "                                                                metrics=[\"mae\", \"mse\"])\n",
    "\n",
    "        #  Fit the model\n",
    "        globals()[\"model_1_window_size_{}\".format(i+start_WINDOW_SIZE)].fit(x=train_windows,\n",
    "                                                                            y=train_labels,\n",
    "                                                                            epochs=100,\n",
    "                                                                            verbose=0,\n",
    "                                                                            batch_size=128,\n",
    "                                                                            validation_data=(test_windows, test_labels),\n",
    "                                                                            callbacks=[CreateModelCheckpoint(\"C:/Users/User/Time_series/checkpoints/exercices/\"+globals()[\"model_1_window_size_{}\".format(i+start_WINDOW_SIZE)].name,\"val_loss\", False)])\n",
    "        \n",
    "        # Load in and evaluate best performing model\n",
    "        globals()[\"model_1_window_size_{}\".format(i+start_WINDOW_SIZE)] = tf.keras.models.load_model(\"C:/Users/User/Time_series/checkpoints/exercices/model_1_window_size_{}_dense\".format(i+start_WINDOW_SIZE))\n",
    "        \n",
    "        # Make predictions \n",
    "        globals()[\"model_1_window_size_{}_preds\".format(i+start_WINDOW_SIZE)] = make_preds(globals()[\"model_1_window_size_{}\".format(i+start_WINDOW_SIZE)], test_windows)\n",
    "        \n",
    "        # Evaluate predictions to get eval metrics\n",
    "        globals()[\"model_1_window_size_{}_preds_results\".format(i+start_WINDOW_SIZE)] = evaluate_preds(y_true=tf.squeeze(test_labels), y_pred=globals()[\"model_1_window_size_{}_preds\".format(i+start_WINDOW_SIZE)])\n",
    "        \n",
    "        # Add metrics results to our list\n",
    "        preds_results.append(globals()[\"model_1_window_size_{}_preds_results\".format(i+start_WINDOW_SIZE)])\n",
    "        \n",
    "        # Create a dictionnary with size of windows and metrics\n",
    "        pred_results_dict.update({\"window_{}\".format(i+start_WINDOW_SIZE): preds_results[i]})\n",
    "        \n",
    "        \n",
    "    return pd.DataFrame(pred_results_dict).T"
   ]
  },
  {
   "cell_type": "code",
   "execution_count": 154,
   "id": "512ded4c",
   "metadata": {},
   "outputs": [
    {
     "name": "stderr",
     "output_type": "stream",
     "text": [
      "WARNING:absl:Found untraced functions such as _update_step_xla while saving (showing 1 of 1). These functions will not be directly callable after loading.\n"
     ]
    },
    {
     "name": "stdout",
     "output_type": "stream",
     "text": [
      "INFO:tensorflow:Assets written to: C:/Users/User/Time_series/checkpoints/exercices\\model_1_window_size_2_dense\\assets\n"
     ]
    },
    {
     "name": "stderr",
     "output_type": "stream",
     "text": [
      "INFO:tensorflow:Assets written to: C:/Users/User/Time_series/checkpoints/exercices\\model_1_window_size_2_dense\\assets\n",
      "WARNING:absl:Found untraced functions such as _update_step_xla while saving (showing 1 of 1). These functions will not be directly callable after loading.\n"
     ]
    },
    {
     "name": "stdout",
     "output_type": "stream",
     "text": [
      "INFO:tensorflow:Assets written to: C:/Users/User/Time_series/checkpoints/exercices\\model_1_window_size_2_dense\\assets\n"
     ]
    },
    {
     "name": "stderr",
     "output_type": "stream",
     "text": [
      "INFO:tensorflow:Assets written to: C:/Users/User/Time_series/checkpoints/exercices\\model_1_window_size_2_dense\\assets\n",
      "WARNING:absl:Found untraced functions such as _update_step_xla while saving (showing 1 of 1). These functions will not be directly callable after loading.\n"
     ]
    },
    {
     "name": "stdout",
     "output_type": "stream",
     "text": [
      "INFO:tensorflow:Assets written to: C:/Users/User/Time_series/checkpoints/exercices\\model_1_window_size_2_dense\\assets\n"
     ]
    },
    {
     "name": "stderr",
     "output_type": "stream",
     "text": [
      "INFO:tensorflow:Assets written to: C:/Users/User/Time_series/checkpoints/exercices\\model_1_window_size_2_dense\\assets\n",
      "WARNING:absl:Found untraced functions such as _update_step_xla while saving (showing 1 of 1). These functions will not be directly callable after loading.\n"
     ]
    },
    {
     "name": "stdout",
     "output_type": "stream",
     "text": [
      "INFO:tensorflow:Assets written to: C:/Users/User/Time_series/checkpoints/exercices\\model_1_window_size_2_dense\\assets\n"
     ]
    },
    {
     "name": "stderr",
     "output_type": "stream",
     "text": [
      "INFO:tensorflow:Assets written to: C:/Users/User/Time_series/checkpoints/exercices\\model_1_window_size_2_dense\\assets\n",
      "WARNING:absl:Found untraced functions such as _update_step_xla while saving (showing 1 of 1). These functions will not be directly callable after loading.\n"
     ]
    },
    {
     "name": "stdout",
     "output_type": "stream",
     "text": [
      "INFO:tensorflow:Assets written to: C:/Users/User/Time_series/checkpoints/exercices\\model_1_window_size_2_dense\\assets\n"
     ]
    },
    {
     "name": "stderr",
     "output_type": "stream",
     "text": [
      "INFO:tensorflow:Assets written to: C:/Users/User/Time_series/checkpoints/exercices\\model_1_window_size_2_dense\\assets\n",
      "WARNING:absl:Found untraced functions such as _update_step_xla while saving (showing 1 of 1). These functions will not be directly callable after loading.\n"
     ]
    },
    {
     "name": "stdout",
     "output_type": "stream",
     "text": [
      "INFO:tensorflow:Assets written to: C:/Users/User/Time_series/checkpoints/exercices\\model_1_window_size_2_dense\\assets\n"
     ]
    },
    {
     "name": "stderr",
     "output_type": "stream",
     "text": [
      "INFO:tensorflow:Assets written to: C:/Users/User/Time_series/checkpoints/exercices\\model_1_window_size_2_dense\\assets\n",
      "WARNING:absl:Found untraced functions such as _update_step_xla while saving (showing 1 of 1). These functions will not be directly callable after loading.\n"
     ]
    },
    {
     "name": "stdout",
     "output_type": "stream",
     "text": [
      "INFO:tensorflow:Assets written to: C:/Users/User/Time_series/checkpoints/exercices\\model_1_window_size_2_dense\\assets\n"
     ]
    },
    {
     "name": "stderr",
     "output_type": "stream",
     "text": [
      "INFO:tensorflow:Assets written to: C:/Users/User/Time_series/checkpoints/exercices\\model_1_window_size_2_dense\\assets\n",
      "WARNING:absl:Found untraced functions such as _update_step_xla while saving (showing 1 of 1). These functions will not be directly callable after loading.\n"
     ]
    },
    {
     "name": "stdout",
     "output_type": "stream",
     "text": [
      "INFO:tensorflow:Assets written to: C:/Users/User/Time_series/checkpoints/exercices\\model_1_window_size_2_dense\\assets\n"
     ]
    },
    {
     "name": "stderr",
     "output_type": "stream",
     "text": [
      "INFO:tensorflow:Assets written to: C:/Users/User/Time_series/checkpoints/exercices\\model_1_window_size_2_dense\\assets\n",
      "WARNING:absl:Found untraced functions such as _update_step_xla while saving (showing 1 of 1). These functions will not be directly callable after loading.\n"
     ]
    },
    {
     "name": "stdout",
     "output_type": "stream",
     "text": [
      "INFO:tensorflow:Assets written to: C:/Users/User/Time_series/checkpoints/exercices\\model_1_window_size_2_dense\\assets\n"
     ]
    },
    {
     "name": "stderr",
     "output_type": "stream",
     "text": [
      "INFO:tensorflow:Assets written to: C:/Users/User/Time_series/checkpoints/exercices\\model_1_window_size_2_dense\\assets\n",
      "WARNING:absl:Found untraced functions such as _update_step_xla while saving (showing 1 of 1). These functions will not be directly callable after loading.\n"
     ]
    },
    {
     "name": "stdout",
     "output_type": "stream",
     "text": [
      "INFO:tensorflow:Assets written to: C:/Users/User/Time_series/checkpoints/exercices\\model_1_window_size_2_dense\\assets\n"
     ]
    },
    {
     "name": "stderr",
     "output_type": "stream",
     "text": [
      "INFO:tensorflow:Assets written to: C:/Users/User/Time_series/checkpoints/exercices\\model_1_window_size_2_dense\\assets\n",
      "WARNING:absl:Found untraced functions such as _update_step_xla while saving (showing 1 of 1). These functions will not be directly callable after loading.\n"
     ]
    },
    {
     "name": "stdout",
     "output_type": "stream",
     "text": [
      "INFO:tensorflow:Assets written to: C:/Users/User/Time_series/checkpoints/exercices\\model_1_window_size_2_dense\\assets\n"
     ]
    },
    {
     "name": "stderr",
     "output_type": "stream",
     "text": [
      "INFO:tensorflow:Assets written to: C:/Users/User/Time_series/checkpoints/exercices\\model_1_window_size_2_dense\\assets\n",
      "WARNING:absl:Found untraced functions such as _update_step_xla while saving (showing 1 of 1). These functions will not be directly callable after loading.\n"
     ]
    },
    {
     "name": "stdout",
     "output_type": "stream",
     "text": [
      "INFO:tensorflow:Assets written to: C:/Users/User/Time_series/checkpoints/exercices\\model_1_window_size_2_dense\\assets\n"
     ]
    },
    {
     "name": "stderr",
     "output_type": "stream",
     "text": [
      "INFO:tensorflow:Assets written to: C:/Users/User/Time_series/checkpoints/exercices\\model_1_window_size_2_dense\\assets\n",
      "WARNING:absl:Found untraced functions such as _update_step_xla while saving (showing 1 of 1). These functions will not be directly callable after loading.\n"
     ]
    },
    {
     "name": "stdout",
     "output_type": "stream",
     "text": [
      "INFO:tensorflow:Assets written to: C:/Users/User/Time_series/checkpoints/exercices\\model_1_window_size_2_dense\\assets\n"
     ]
    },
    {
     "name": "stderr",
     "output_type": "stream",
     "text": [
      "INFO:tensorflow:Assets written to: C:/Users/User/Time_series/checkpoints/exercices\\model_1_window_size_2_dense\\assets\n",
      "WARNING:absl:Found untraced functions such as _update_step_xla while saving (showing 1 of 1). These functions will not be directly callable after loading.\n"
     ]
    },
    {
     "name": "stdout",
     "output_type": "stream",
     "text": [
      "INFO:tensorflow:Assets written to: C:/Users/User/Time_series/checkpoints/exercices\\model_1_window_size_2_dense\\assets\n"
     ]
    },
    {
     "name": "stderr",
     "output_type": "stream",
     "text": [
      "INFO:tensorflow:Assets written to: C:/Users/User/Time_series/checkpoints/exercices\\model_1_window_size_2_dense\\assets\n",
      "WARNING:absl:Found untraced functions such as _update_step_xla while saving (showing 1 of 1). These functions will not be directly callable after loading.\n"
     ]
    },
    {
     "name": "stdout",
     "output_type": "stream",
     "text": [
      "INFO:tensorflow:Assets written to: C:/Users/User/Time_series/checkpoints/exercices\\model_1_window_size_2_dense\\assets\n"
     ]
    },
    {
     "name": "stderr",
     "output_type": "stream",
     "text": [
      "INFO:tensorflow:Assets written to: C:/Users/User/Time_series/checkpoints/exercices\\model_1_window_size_2_dense\\assets\n"
     ]
    },
    {
     "name": "stdout",
     "output_type": "stream",
     "text": [
      "18/18 [==============================] - 0s 452us/step\n"
     ]
    },
    {
     "name": "stderr",
     "output_type": "stream",
     "text": [
      "WARNING:absl:Found untraced functions such as _update_step_xla while saving (showing 1 of 1). These functions will not be directly callable after loading.\n"
     ]
    },
    {
     "name": "stdout",
     "output_type": "stream",
     "text": [
      "INFO:tensorflow:Assets written to: C:/Users/User/Time_series/checkpoints/exercices\\model_1_window_size_3_dense\\assets\n"
     ]
    },
    {
     "name": "stderr",
     "output_type": "stream",
     "text": [
      "INFO:tensorflow:Assets written to: C:/Users/User/Time_series/checkpoints/exercices\\model_1_window_size_3_dense\\assets\n",
      "WARNING:absl:Found untraced functions such as _update_step_xla while saving (showing 1 of 1). These functions will not be directly callable after loading.\n"
     ]
    },
    {
     "name": "stdout",
     "output_type": "stream",
     "text": [
      "INFO:tensorflow:Assets written to: C:/Users/User/Time_series/checkpoints/exercices\\model_1_window_size_3_dense\\assets\n"
     ]
    },
    {
     "name": "stderr",
     "output_type": "stream",
     "text": [
      "INFO:tensorflow:Assets written to: C:/Users/User/Time_series/checkpoints/exercices\\model_1_window_size_3_dense\\assets\n",
      "WARNING:absl:Found untraced functions such as _update_step_xla while saving (showing 1 of 1). These functions will not be directly callable after loading.\n"
     ]
    },
    {
     "name": "stdout",
     "output_type": "stream",
     "text": [
      "INFO:tensorflow:Assets written to: C:/Users/User/Time_series/checkpoints/exercices\\model_1_window_size_3_dense\\assets\n"
     ]
    },
    {
     "name": "stderr",
     "output_type": "stream",
     "text": [
      "INFO:tensorflow:Assets written to: C:/Users/User/Time_series/checkpoints/exercices\\model_1_window_size_3_dense\\assets\n",
      "WARNING:absl:Found untraced functions such as _update_step_xla while saving (showing 1 of 1). These functions will not be directly callable after loading.\n"
     ]
    },
    {
     "name": "stdout",
     "output_type": "stream",
     "text": [
      "INFO:tensorflow:Assets written to: C:/Users/User/Time_series/checkpoints/exercices\\model_1_window_size_3_dense\\assets\n"
     ]
    },
    {
     "name": "stderr",
     "output_type": "stream",
     "text": [
      "INFO:tensorflow:Assets written to: C:/Users/User/Time_series/checkpoints/exercices\\model_1_window_size_3_dense\\assets\n",
      "WARNING:absl:Found untraced functions such as _update_step_xla while saving (showing 1 of 1). These functions will not be directly callable after loading.\n"
     ]
    },
    {
     "name": "stdout",
     "output_type": "stream",
     "text": [
      "INFO:tensorflow:Assets written to: C:/Users/User/Time_series/checkpoints/exercices\\model_1_window_size_3_dense\\assets\n"
     ]
    },
    {
     "name": "stderr",
     "output_type": "stream",
     "text": [
      "INFO:tensorflow:Assets written to: C:/Users/User/Time_series/checkpoints/exercices\\model_1_window_size_3_dense\\assets\n",
      "WARNING:absl:Found untraced functions such as _update_step_xla while saving (showing 1 of 1). These functions will not be directly callable after loading.\n"
     ]
    },
    {
     "name": "stdout",
     "output_type": "stream",
     "text": [
      "INFO:tensorflow:Assets written to: C:/Users/User/Time_series/checkpoints/exercices\\model_1_window_size_3_dense\\assets\n"
     ]
    },
    {
     "name": "stderr",
     "output_type": "stream",
     "text": [
      "INFO:tensorflow:Assets written to: C:/Users/User/Time_series/checkpoints/exercices\\model_1_window_size_3_dense\\assets\n",
      "WARNING:absl:Found untraced functions such as _update_step_xla while saving (showing 1 of 1). These functions will not be directly callable after loading.\n"
     ]
    },
    {
     "name": "stdout",
     "output_type": "stream",
     "text": [
      "INFO:tensorflow:Assets written to: C:/Users/User/Time_series/checkpoints/exercices\\model_1_window_size_3_dense\\assets\n"
     ]
    },
    {
     "name": "stderr",
     "output_type": "stream",
     "text": [
      "INFO:tensorflow:Assets written to: C:/Users/User/Time_series/checkpoints/exercices\\model_1_window_size_3_dense\\assets\n",
      "WARNING:absl:Found untraced functions such as _update_step_xla while saving (showing 1 of 1). These functions will not be directly callable after loading.\n"
     ]
    },
    {
     "name": "stdout",
     "output_type": "stream",
     "text": [
      "INFO:tensorflow:Assets written to: C:/Users/User/Time_series/checkpoints/exercices\\model_1_window_size_3_dense\\assets\n"
     ]
    },
    {
     "name": "stderr",
     "output_type": "stream",
     "text": [
      "INFO:tensorflow:Assets written to: C:/Users/User/Time_series/checkpoints/exercices\\model_1_window_size_3_dense\\assets\n",
      "WARNING:absl:Found untraced functions such as _update_step_xla while saving (showing 1 of 1). These functions will not be directly callable after loading.\n"
     ]
    },
    {
     "name": "stdout",
     "output_type": "stream",
     "text": [
      "INFO:tensorflow:Assets written to: C:/Users/User/Time_series/checkpoints/exercices\\model_1_window_size_3_dense\\assets\n"
     ]
    },
    {
     "name": "stderr",
     "output_type": "stream",
     "text": [
      "INFO:tensorflow:Assets written to: C:/Users/User/Time_series/checkpoints/exercices\\model_1_window_size_3_dense\\assets\n",
      "WARNING:absl:Found untraced functions such as _update_step_xla while saving (showing 1 of 1). These functions will not be directly callable after loading.\n"
     ]
    },
    {
     "name": "stdout",
     "output_type": "stream",
     "text": [
      "INFO:tensorflow:Assets written to: C:/Users/User/Time_series/checkpoints/exercices\\model_1_window_size_3_dense\\assets\n"
     ]
    },
    {
     "name": "stderr",
     "output_type": "stream",
     "text": [
      "INFO:tensorflow:Assets written to: C:/Users/User/Time_series/checkpoints/exercices\\model_1_window_size_3_dense\\assets\n",
      "WARNING:absl:Found untraced functions such as _update_step_xla while saving (showing 1 of 1). These functions will not be directly callable after loading.\n"
     ]
    },
    {
     "name": "stdout",
     "output_type": "stream",
     "text": [
      "INFO:tensorflow:Assets written to: C:/Users/User/Time_series/checkpoints/exercices\\model_1_window_size_3_dense\\assets\n"
     ]
    },
    {
     "name": "stderr",
     "output_type": "stream",
     "text": [
      "INFO:tensorflow:Assets written to: C:/Users/User/Time_series/checkpoints/exercices\\model_1_window_size_3_dense\\assets\n",
      "WARNING:absl:Found untraced functions such as _update_step_xla while saving (showing 1 of 1). These functions will not be directly callable after loading.\n"
     ]
    },
    {
     "name": "stdout",
     "output_type": "stream",
     "text": [
      "INFO:tensorflow:Assets written to: C:/Users/User/Time_series/checkpoints/exercices\\model_1_window_size_3_dense\\assets\n"
     ]
    },
    {
     "name": "stderr",
     "output_type": "stream",
     "text": [
      "INFO:tensorflow:Assets written to: C:/Users/User/Time_series/checkpoints/exercices\\model_1_window_size_3_dense\\assets\n",
      "WARNING:absl:Found untraced functions such as _update_step_xla while saving (showing 1 of 1). These functions will not be directly callable after loading.\n"
     ]
    },
    {
     "name": "stdout",
     "output_type": "stream",
     "text": [
      "INFO:tensorflow:Assets written to: C:/Users/User/Time_series/checkpoints/exercices\\model_1_window_size_3_dense\\assets\n"
     ]
    },
    {
     "name": "stderr",
     "output_type": "stream",
     "text": [
      "INFO:tensorflow:Assets written to: C:/Users/User/Time_series/checkpoints/exercices\\model_1_window_size_3_dense\\assets\n",
      "WARNING:absl:Found untraced functions such as _update_step_xla while saving (showing 1 of 1). These functions will not be directly callable after loading.\n"
     ]
    },
    {
     "name": "stdout",
     "output_type": "stream",
     "text": [
      "INFO:tensorflow:Assets written to: C:/Users/User/Time_series/checkpoints/exercices\\model_1_window_size_3_dense\\assets\n"
     ]
    },
    {
     "name": "stderr",
     "output_type": "stream",
     "text": [
      "INFO:tensorflow:Assets written to: C:/Users/User/Time_series/checkpoints/exercices\\model_1_window_size_3_dense\\assets\n",
      "WARNING:absl:Found untraced functions such as _update_step_xla while saving (showing 1 of 1). These functions will not be directly callable after loading.\n"
     ]
    },
    {
     "name": "stdout",
     "output_type": "stream",
     "text": [
      "INFO:tensorflow:Assets written to: C:/Users/User/Time_series/checkpoints/exercices\\model_1_window_size_3_dense\\assets\n"
     ]
    },
    {
     "name": "stderr",
     "output_type": "stream",
     "text": [
      "INFO:tensorflow:Assets written to: C:/Users/User/Time_series/checkpoints/exercices\\model_1_window_size_3_dense\\assets\n",
      "WARNING:absl:Found untraced functions such as _update_step_xla while saving (showing 1 of 1). These functions will not be directly callable after loading.\n"
     ]
    },
    {
     "name": "stdout",
     "output_type": "stream",
     "text": [
      "INFO:tensorflow:Assets written to: C:/Users/User/Time_series/checkpoints/exercices\\model_1_window_size_3_dense\\assets\n"
     ]
    },
    {
     "name": "stderr",
     "output_type": "stream",
     "text": [
      "INFO:tensorflow:Assets written to: C:/Users/User/Time_series/checkpoints/exercices\\model_1_window_size_3_dense\\assets\n",
      "WARNING:absl:Found untraced functions such as _update_step_xla while saving (showing 1 of 1). These functions will not be directly callable after loading.\n"
     ]
    },
    {
     "name": "stdout",
     "output_type": "stream",
     "text": [
      "INFO:tensorflow:Assets written to: C:/Users/User/Time_series/checkpoints/exercices\\model_1_window_size_3_dense\\assets\n"
     ]
    },
    {
     "name": "stderr",
     "output_type": "stream",
     "text": [
      "INFO:tensorflow:Assets written to: C:/Users/User/Time_series/checkpoints/exercices\\model_1_window_size_3_dense\\assets\n",
      "WARNING:absl:Found untraced functions such as _update_step_xla while saving (showing 1 of 1). These functions will not be directly callable after loading.\n"
     ]
    },
    {
     "name": "stdout",
     "output_type": "stream",
     "text": [
      "INFO:tensorflow:Assets written to: C:/Users/User/Time_series/checkpoints/exercices\\model_1_window_size_3_dense\\assets\n"
     ]
    },
    {
     "name": "stderr",
     "output_type": "stream",
     "text": [
      "INFO:tensorflow:Assets written to: C:/Users/User/Time_series/checkpoints/exercices\\model_1_window_size_3_dense\\assets\n"
     ]
    },
    {
     "name": "stdout",
     "output_type": "stream",
     "text": [
      "18/18 [==============================] - 0s 469us/step\n"
     ]
    },
    {
     "name": "stderr",
     "output_type": "stream",
     "text": [
      "WARNING:absl:Found untraced functions such as _update_step_xla while saving (showing 1 of 1). These functions will not be directly callable after loading.\n"
     ]
    },
    {
     "name": "stdout",
     "output_type": "stream",
     "text": [
      "INFO:tensorflow:Assets written to: C:/Users/User/Time_series/checkpoints/exercices\\model_1_window_size_4_dense\\assets\n"
     ]
    },
    {
     "name": "stderr",
     "output_type": "stream",
     "text": [
      "INFO:tensorflow:Assets written to: C:/Users/User/Time_series/checkpoints/exercices\\model_1_window_size_4_dense\\assets\n",
      "WARNING:absl:Found untraced functions such as _update_step_xla while saving (showing 1 of 1). These functions will not be directly callable after loading.\n"
     ]
    },
    {
     "name": "stdout",
     "output_type": "stream",
     "text": [
      "INFO:tensorflow:Assets written to: C:/Users/User/Time_series/checkpoints/exercices\\model_1_window_size_4_dense\\assets\n"
     ]
    },
    {
     "name": "stderr",
     "output_type": "stream",
     "text": [
      "INFO:tensorflow:Assets written to: C:/Users/User/Time_series/checkpoints/exercices\\model_1_window_size_4_dense\\assets\n",
      "WARNING:absl:Found untraced functions such as _update_step_xla while saving (showing 1 of 1). These functions will not be directly callable after loading.\n"
     ]
    },
    {
     "name": "stdout",
     "output_type": "stream",
     "text": [
      "INFO:tensorflow:Assets written to: C:/Users/User/Time_series/checkpoints/exercices\\model_1_window_size_4_dense\\assets\n"
     ]
    },
    {
     "name": "stderr",
     "output_type": "stream",
     "text": [
      "INFO:tensorflow:Assets written to: C:/Users/User/Time_series/checkpoints/exercices\\model_1_window_size_4_dense\\assets\n",
      "WARNING:absl:Found untraced functions such as _update_step_xla while saving (showing 1 of 1). These functions will not be directly callable after loading.\n"
     ]
    },
    {
     "name": "stdout",
     "output_type": "stream",
     "text": [
      "INFO:tensorflow:Assets written to: C:/Users/User/Time_series/checkpoints/exercices\\model_1_window_size_4_dense\\assets\n"
     ]
    },
    {
     "name": "stderr",
     "output_type": "stream",
     "text": [
      "INFO:tensorflow:Assets written to: C:/Users/User/Time_series/checkpoints/exercices\\model_1_window_size_4_dense\\assets\n",
      "WARNING:absl:Found untraced functions such as _update_step_xla while saving (showing 1 of 1). These functions will not be directly callable after loading.\n"
     ]
    },
    {
     "name": "stdout",
     "output_type": "stream",
     "text": [
      "INFO:tensorflow:Assets written to: C:/Users/User/Time_series/checkpoints/exercices\\model_1_window_size_4_dense\\assets\n"
     ]
    },
    {
     "name": "stderr",
     "output_type": "stream",
     "text": [
      "INFO:tensorflow:Assets written to: C:/Users/User/Time_series/checkpoints/exercices\\model_1_window_size_4_dense\\assets\n",
      "WARNING:absl:Found untraced functions such as _update_step_xla while saving (showing 1 of 1). These functions will not be directly callable after loading.\n"
     ]
    },
    {
     "name": "stdout",
     "output_type": "stream",
     "text": [
      "INFO:tensorflow:Assets written to: C:/Users/User/Time_series/checkpoints/exercices\\model_1_window_size_4_dense\\assets\n"
     ]
    },
    {
     "name": "stderr",
     "output_type": "stream",
     "text": [
      "INFO:tensorflow:Assets written to: C:/Users/User/Time_series/checkpoints/exercices\\model_1_window_size_4_dense\\assets\n",
      "WARNING:absl:Found untraced functions such as _update_step_xla while saving (showing 1 of 1). These functions will not be directly callable after loading.\n"
     ]
    },
    {
     "name": "stdout",
     "output_type": "stream",
     "text": [
      "INFO:tensorflow:Assets written to: C:/Users/User/Time_series/checkpoints/exercices\\model_1_window_size_4_dense\\assets\n"
     ]
    },
    {
     "name": "stderr",
     "output_type": "stream",
     "text": [
      "INFO:tensorflow:Assets written to: C:/Users/User/Time_series/checkpoints/exercices\\model_1_window_size_4_dense\\assets\n",
      "WARNING:absl:Found untraced functions such as _update_step_xla while saving (showing 1 of 1). These functions will not be directly callable after loading.\n"
     ]
    },
    {
     "name": "stdout",
     "output_type": "stream",
     "text": [
      "INFO:tensorflow:Assets written to: C:/Users/User/Time_series/checkpoints/exercices\\model_1_window_size_4_dense\\assets\n"
     ]
    },
    {
     "name": "stderr",
     "output_type": "stream",
     "text": [
      "INFO:tensorflow:Assets written to: C:/Users/User/Time_series/checkpoints/exercices\\model_1_window_size_4_dense\\assets\n",
      "WARNING:absl:Found untraced functions such as _update_step_xla while saving (showing 1 of 1). These functions will not be directly callable after loading.\n"
     ]
    },
    {
     "name": "stdout",
     "output_type": "stream",
     "text": [
      "INFO:tensorflow:Assets written to: C:/Users/User/Time_series/checkpoints/exercices\\model_1_window_size_4_dense\\assets\n"
     ]
    },
    {
     "name": "stderr",
     "output_type": "stream",
     "text": [
      "INFO:tensorflow:Assets written to: C:/Users/User/Time_series/checkpoints/exercices\\model_1_window_size_4_dense\\assets\n",
      "WARNING:absl:Found untraced functions such as _update_step_xla while saving (showing 1 of 1). These functions will not be directly callable after loading.\n"
     ]
    },
    {
     "name": "stdout",
     "output_type": "stream",
     "text": [
      "INFO:tensorflow:Assets written to: C:/Users/User/Time_series/checkpoints/exercices\\model_1_window_size_4_dense\\assets\n"
     ]
    },
    {
     "name": "stderr",
     "output_type": "stream",
     "text": [
      "INFO:tensorflow:Assets written to: C:/Users/User/Time_series/checkpoints/exercices\\model_1_window_size_4_dense\\assets\n",
      "WARNING:absl:Found untraced functions such as _update_step_xla while saving (showing 1 of 1). These functions will not be directly callable after loading.\n"
     ]
    },
    {
     "name": "stdout",
     "output_type": "stream",
     "text": [
      "INFO:tensorflow:Assets written to: C:/Users/User/Time_series/checkpoints/exercices\\model_1_window_size_4_dense\\assets\n"
     ]
    },
    {
     "name": "stderr",
     "output_type": "stream",
     "text": [
      "INFO:tensorflow:Assets written to: C:/Users/User/Time_series/checkpoints/exercices\\model_1_window_size_4_dense\\assets\n",
      "WARNING:absl:Found untraced functions such as _update_step_xla while saving (showing 1 of 1). These functions will not be directly callable after loading.\n"
     ]
    },
    {
     "name": "stdout",
     "output_type": "stream",
     "text": [
      "INFO:tensorflow:Assets written to: C:/Users/User/Time_series/checkpoints/exercices\\model_1_window_size_4_dense\\assets\n"
     ]
    },
    {
     "name": "stderr",
     "output_type": "stream",
     "text": [
      "INFO:tensorflow:Assets written to: C:/Users/User/Time_series/checkpoints/exercices\\model_1_window_size_4_dense\\assets\n",
      "WARNING:absl:Found untraced functions such as _update_step_xla while saving (showing 1 of 1). These functions will not be directly callable after loading.\n"
     ]
    },
    {
     "name": "stdout",
     "output_type": "stream",
     "text": [
      "INFO:tensorflow:Assets written to: C:/Users/User/Time_series/checkpoints/exercices\\model_1_window_size_4_dense\\assets\n"
     ]
    },
    {
     "name": "stderr",
     "output_type": "stream",
     "text": [
      "INFO:tensorflow:Assets written to: C:/Users/User/Time_series/checkpoints/exercices\\model_1_window_size_4_dense\\assets\n",
      "WARNING:absl:Found untraced functions such as _update_step_xla while saving (showing 1 of 1). These functions will not be directly callable after loading.\n"
     ]
    },
    {
     "name": "stdout",
     "output_type": "stream",
     "text": [
      "INFO:tensorflow:Assets written to: C:/Users/User/Time_series/checkpoints/exercices\\model_1_window_size_4_dense\\assets\n"
     ]
    },
    {
     "name": "stderr",
     "output_type": "stream",
     "text": [
      "INFO:tensorflow:Assets written to: C:/Users/User/Time_series/checkpoints/exercices\\model_1_window_size_4_dense\\assets\n",
      "WARNING:absl:Found untraced functions such as _update_step_xla while saving (showing 1 of 1). These functions will not be directly callable after loading.\n"
     ]
    },
    {
     "name": "stdout",
     "output_type": "stream",
     "text": [
      "INFO:tensorflow:Assets written to: C:/Users/User/Time_series/checkpoints/exercices\\model_1_window_size_4_dense\\assets\n"
     ]
    },
    {
     "name": "stderr",
     "output_type": "stream",
     "text": [
      "INFO:tensorflow:Assets written to: C:/Users/User/Time_series/checkpoints/exercices\\model_1_window_size_4_dense\\assets\n",
      "WARNING:absl:Found untraced functions such as _update_step_xla while saving (showing 1 of 1). These functions will not be directly callable after loading.\n"
     ]
    },
    {
     "name": "stdout",
     "output_type": "stream",
     "text": [
      "INFO:tensorflow:Assets written to: C:/Users/User/Time_series/checkpoints/exercices\\model_1_window_size_4_dense\\assets\n"
     ]
    },
    {
     "name": "stderr",
     "output_type": "stream",
     "text": [
      "INFO:tensorflow:Assets written to: C:/Users/User/Time_series/checkpoints/exercices\\model_1_window_size_4_dense\\assets\n",
      "WARNING:absl:Found untraced functions such as _update_step_xla while saving (showing 1 of 1). These functions will not be directly callable after loading.\n"
     ]
    },
    {
     "name": "stdout",
     "output_type": "stream",
     "text": [
      "INFO:tensorflow:Assets written to: C:/Users/User/Time_series/checkpoints/exercices\\model_1_window_size_4_dense\\assets\n"
     ]
    },
    {
     "name": "stderr",
     "output_type": "stream",
     "text": [
      "INFO:tensorflow:Assets written to: C:/Users/User/Time_series/checkpoints/exercices\\model_1_window_size_4_dense\\assets\n",
      "WARNING:absl:Found untraced functions such as _update_step_xla while saving (showing 1 of 1). These functions will not be directly callable after loading.\n"
     ]
    },
    {
     "name": "stdout",
     "output_type": "stream",
     "text": [
      "INFO:tensorflow:Assets written to: C:/Users/User/Time_series/checkpoints/exercices\\model_1_window_size_4_dense\\assets\n"
     ]
    },
    {
     "name": "stderr",
     "output_type": "stream",
     "text": [
      "INFO:tensorflow:Assets written to: C:/Users/User/Time_series/checkpoints/exercices\\model_1_window_size_4_dense\\assets\n",
      "WARNING:absl:Found untraced functions such as _update_step_xla while saving (showing 1 of 1). These functions will not be directly callable after loading.\n"
     ]
    },
    {
     "name": "stdout",
     "output_type": "stream",
     "text": [
      "INFO:tensorflow:Assets written to: C:/Users/User/Time_series/checkpoints/exercices\\model_1_window_size_4_dense\\assets\n"
     ]
    },
    {
     "name": "stderr",
     "output_type": "stream",
     "text": [
      "INFO:tensorflow:Assets written to: C:/Users/User/Time_series/checkpoints/exercices\\model_1_window_size_4_dense\\assets\n"
     ]
    },
    {
     "name": "stdout",
     "output_type": "stream",
     "text": [
      "18/18 [==============================] - 0s 411us/step\n"
     ]
    },
    {
     "name": "stderr",
     "output_type": "stream",
     "text": [
      "WARNING:absl:Found untraced functions such as _update_step_xla while saving (showing 1 of 1). These functions will not be directly callable after loading.\n"
     ]
    },
    {
     "name": "stdout",
     "output_type": "stream",
     "text": [
      "INFO:tensorflow:Assets written to: C:/Users/User/Time_series/checkpoints/exercices\\model_1_window_size_5_dense\\assets\n"
     ]
    },
    {
     "name": "stderr",
     "output_type": "stream",
     "text": [
      "INFO:tensorflow:Assets written to: C:/Users/User/Time_series/checkpoints/exercices\\model_1_window_size_5_dense\\assets\n",
      "WARNING:absl:Found untraced functions such as _update_step_xla while saving (showing 1 of 1). These functions will not be directly callable after loading.\n"
     ]
    },
    {
     "name": "stdout",
     "output_type": "stream",
     "text": [
      "INFO:tensorflow:Assets written to: C:/Users/User/Time_series/checkpoints/exercices\\model_1_window_size_5_dense\\assets\n"
     ]
    },
    {
     "name": "stderr",
     "output_type": "stream",
     "text": [
      "INFO:tensorflow:Assets written to: C:/Users/User/Time_series/checkpoints/exercices\\model_1_window_size_5_dense\\assets\n",
      "WARNING:absl:Found untraced functions such as _update_step_xla while saving (showing 1 of 1). These functions will not be directly callable after loading.\n"
     ]
    },
    {
     "name": "stdout",
     "output_type": "stream",
     "text": [
      "INFO:tensorflow:Assets written to: C:/Users/User/Time_series/checkpoints/exercices\\model_1_window_size_5_dense\\assets\n"
     ]
    },
    {
     "name": "stderr",
     "output_type": "stream",
     "text": [
      "INFO:tensorflow:Assets written to: C:/Users/User/Time_series/checkpoints/exercices\\model_1_window_size_5_dense\\assets\n",
      "WARNING:absl:Found untraced functions such as _update_step_xla while saving (showing 1 of 1). These functions will not be directly callable after loading.\n"
     ]
    },
    {
     "name": "stdout",
     "output_type": "stream",
     "text": [
      "INFO:tensorflow:Assets written to: C:/Users/User/Time_series/checkpoints/exercices\\model_1_window_size_5_dense\\assets\n"
     ]
    },
    {
     "name": "stderr",
     "output_type": "stream",
     "text": [
      "INFO:tensorflow:Assets written to: C:/Users/User/Time_series/checkpoints/exercices\\model_1_window_size_5_dense\\assets\n",
      "WARNING:absl:Found untraced functions such as _update_step_xla while saving (showing 1 of 1). These functions will not be directly callable after loading.\n"
     ]
    },
    {
     "name": "stdout",
     "output_type": "stream",
     "text": [
      "INFO:tensorflow:Assets written to: C:/Users/User/Time_series/checkpoints/exercices\\model_1_window_size_5_dense\\assets\n"
     ]
    },
    {
     "name": "stderr",
     "output_type": "stream",
     "text": [
      "INFO:tensorflow:Assets written to: C:/Users/User/Time_series/checkpoints/exercices\\model_1_window_size_5_dense\\assets\n",
      "WARNING:absl:Found untraced functions such as _update_step_xla while saving (showing 1 of 1). These functions will not be directly callable after loading.\n"
     ]
    },
    {
     "name": "stdout",
     "output_type": "stream",
     "text": [
      "INFO:tensorflow:Assets written to: C:/Users/User/Time_series/checkpoints/exercices\\model_1_window_size_5_dense\\assets\n"
     ]
    },
    {
     "name": "stderr",
     "output_type": "stream",
     "text": [
      "INFO:tensorflow:Assets written to: C:/Users/User/Time_series/checkpoints/exercices\\model_1_window_size_5_dense\\assets\n",
      "WARNING:absl:Found untraced functions such as _update_step_xla while saving (showing 1 of 1). These functions will not be directly callable after loading.\n"
     ]
    },
    {
     "name": "stdout",
     "output_type": "stream",
     "text": [
      "INFO:tensorflow:Assets written to: C:/Users/User/Time_series/checkpoints/exercices\\model_1_window_size_5_dense\\assets\n"
     ]
    },
    {
     "name": "stderr",
     "output_type": "stream",
     "text": [
      "INFO:tensorflow:Assets written to: C:/Users/User/Time_series/checkpoints/exercices\\model_1_window_size_5_dense\\assets\n",
      "WARNING:absl:Found untraced functions such as _update_step_xla while saving (showing 1 of 1). These functions will not be directly callable after loading.\n"
     ]
    },
    {
     "name": "stdout",
     "output_type": "stream",
     "text": [
      "INFO:tensorflow:Assets written to: C:/Users/User/Time_series/checkpoints/exercices\\model_1_window_size_5_dense\\assets\n"
     ]
    },
    {
     "name": "stderr",
     "output_type": "stream",
     "text": [
      "INFO:tensorflow:Assets written to: C:/Users/User/Time_series/checkpoints/exercices\\model_1_window_size_5_dense\\assets\n",
      "WARNING:absl:Found untraced functions such as _update_step_xla while saving (showing 1 of 1). These functions will not be directly callable after loading.\n"
     ]
    },
    {
     "name": "stdout",
     "output_type": "stream",
     "text": [
      "INFO:tensorflow:Assets written to: C:/Users/User/Time_series/checkpoints/exercices\\model_1_window_size_5_dense\\assets\n"
     ]
    },
    {
     "name": "stderr",
     "output_type": "stream",
     "text": [
      "INFO:tensorflow:Assets written to: C:/Users/User/Time_series/checkpoints/exercices\\model_1_window_size_5_dense\\assets\n",
      "WARNING:absl:Found untraced functions such as _update_step_xla while saving (showing 1 of 1). These functions will not be directly callable after loading.\n"
     ]
    },
    {
     "name": "stdout",
     "output_type": "stream",
     "text": [
      "INFO:tensorflow:Assets written to: C:/Users/User/Time_series/checkpoints/exercices\\model_1_window_size_5_dense\\assets\n"
     ]
    },
    {
     "name": "stderr",
     "output_type": "stream",
     "text": [
      "INFO:tensorflow:Assets written to: C:/Users/User/Time_series/checkpoints/exercices\\model_1_window_size_5_dense\\assets\n",
      "WARNING:absl:Found untraced functions such as _update_step_xla while saving (showing 1 of 1). These functions will not be directly callable after loading.\n"
     ]
    },
    {
     "name": "stdout",
     "output_type": "stream",
     "text": [
      "INFO:tensorflow:Assets written to: C:/Users/User/Time_series/checkpoints/exercices\\model_1_window_size_5_dense\\assets\n"
     ]
    },
    {
     "name": "stderr",
     "output_type": "stream",
     "text": [
      "INFO:tensorflow:Assets written to: C:/Users/User/Time_series/checkpoints/exercices\\model_1_window_size_5_dense\\assets\n",
      "WARNING:absl:Found untraced functions such as _update_step_xla while saving (showing 1 of 1). These functions will not be directly callable after loading.\n"
     ]
    },
    {
     "name": "stdout",
     "output_type": "stream",
     "text": [
      "INFO:tensorflow:Assets written to: C:/Users/User/Time_series/checkpoints/exercices\\model_1_window_size_5_dense\\assets\n"
     ]
    },
    {
     "name": "stderr",
     "output_type": "stream",
     "text": [
      "INFO:tensorflow:Assets written to: C:/Users/User/Time_series/checkpoints/exercices\\model_1_window_size_5_dense\\assets\n",
      "WARNING:absl:Found untraced functions such as _update_step_xla while saving (showing 1 of 1). These functions will not be directly callable after loading.\n"
     ]
    },
    {
     "name": "stdout",
     "output_type": "stream",
     "text": [
      "INFO:tensorflow:Assets written to: C:/Users/User/Time_series/checkpoints/exercices\\model_1_window_size_5_dense\\assets\n"
     ]
    },
    {
     "name": "stderr",
     "output_type": "stream",
     "text": [
      "INFO:tensorflow:Assets written to: C:/Users/User/Time_series/checkpoints/exercices\\model_1_window_size_5_dense\\assets\n",
      "WARNING:absl:Found untraced functions such as _update_step_xla while saving (showing 1 of 1). These functions will not be directly callable after loading.\n"
     ]
    },
    {
     "name": "stdout",
     "output_type": "stream",
     "text": [
      "INFO:tensorflow:Assets written to: C:/Users/User/Time_series/checkpoints/exercices\\model_1_window_size_5_dense\\assets\n"
     ]
    },
    {
     "name": "stderr",
     "output_type": "stream",
     "text": [
      "INFO:tensorflow:Assets written to: C:/Users/User/Time_series/checkpoints/exercices\\model_1_window_size_5_dense\\assets\n",
      "WARNING:absl:Found untraced functions such as _update_step_xla while saving (showing 1 of 1). These functions will not be directly callable after loading.\n"
     ]
    },
    {
     "name": "stdout",
     "output_type": "stream",
     "text": [
      "INFO:tensorflow:Assets written to: C:/Users/User/Time_series/checkpoints/exercices\\model_1_window_size_5_dense\\assets\n"
     ]
    },
    {
     "name": "stderr",
     "output_type": "stream",
     "text": [
      "INFO:tensorflow:Assets written to: C:/Users/User/Time_series/checkpoints/exercices\\model_1_window_size_5_dense\\assets\n",
      "WARNING:absl:Found untraced functions such as _update_step_xla while saving (showing 1 of 1). These functions will not be directly callable after loading.\n"
     ]
    },
    {
     "name": "stdout",
     "output_type": "stream",
     "text": [
      "INFO:tensorflow:Assets written to: C:/Users/User/Time_series/checkpoints/exercices\\model_1_window_size_5_dense\\assets\n"
     ]
    },
    {
     "name": "stderr",
     "output_type": "stream",
     "text": [
      "INFO:tensorflow:Assets written to: C:/Users/User/Time_series/checkpoints/exercices\\model_1_window_size_5_dense\\assets\n",
      "WARNING:absl:Found untraced functions such as _update_step_xla while saving (showing 1 of 1). These functions will not be directly callable after loading.\n"
     ]
    },
    {
     "name": "stdout",
     "output_type": "stream",
     "text": [
      "INFO:tensorflow:Assets written to: C:/Users/User/Time_series/checkpoints/exercices\\model_1_window_size_5_dense\\assets\n"
     ]
    },
    {
     "name": "stderr",
     "output_type": "stream",
     "text": [
      "INFO:tensorflow:Assets written to: C:/Users/User/Time_series/checkpoints/exercices\\model_1_window_size_5_dense\\assets\n",
      "WARNING:absl:Found untraced functions such as _update_step_xla while saving (showing 1 of 1). These functions will not be directly callable after loading.\n"
     ]
    },
    {
     "name": "stdout",
     "output_type": "stream",
     "text": [
      "INFO:tensorflow:Assets written to: C:/Users/User/Time_series/checkpoints/exercices\\model_1_window_size_5_dense\\assets\n"
     ]
    },
    {
     "name": "stderr",
     "output_type": "stream",
     "text": [
      "INFO:tensorflow:Assets written to: C:/Users/User/Time_series/checkpoints/exercices\\model_1_window_size_5_dense\\assets\n",
      "WARNING:absl:Found untraced functions such as _update_step_xla while saving (showing 1 of 1). These functions will not be directly callable after loading.\n"
     ]
    },
    {
     "name": "stdout",
     "output_type": "stream",
     "text": [
      "INFO:tensorflow:Assets written to: C:/Users/User/Time_series/checkpoints/exercices\\model_1_window_size_5_dense\\assets\n"
     ]
    },
    {
     "name": "stderr",
     "output_type": "stream",
     "text": [
      "INFO:tensorflow:Assets written to: C:/Users/User/Time_series/checkpoints/exercices\\model_1_window_size_5_dense\\assets\n",
      "WARNING:absl:Found untraced functions such as _update_step_xla while saving (showing 1 of 1). These functions will not be directly callable after loading.\n"
     ]
    },
    {
     "name": "stdout",
     "output_type": "stream",
     "text": [
      "INFO:tensorflow:Assets written to: C:/Users/User/Time_series/checkpoints/exercices\\model_1_window_size_5_dense\\assets\n"
     ]
    },
    {
     "name": "stderr",
     "output_type": "stream",
     "text": [
      "INFO:tensorflow:Assets written to: C:/Users/User/Time_series/checkpoints/exercices\\model_1_window_size_5_dense\\assets\n",
      "WARNING:absl:Found untraced functions such as _update_step_xla while saving (showing 1 of 1). These functions will not be directly callable after loading.\n"
     ]
    },
    {
     "name": "stdout",
     "output_type": "stream",
     "text": [
      "INFO:tensorflow:Assets written to: C:/Users/User/Time_series/checkpoints/exercices\\model_1_window_size_5_dense\\assets\n"
     ]
    },
    {
     "name": "stderr",
     "output_type": "stream",
     "text": [
      "INFO:tensorflow:Assets written to: C:/Users/User/Time_series/checkpoints/exercices\\model_1_window_size_5_dense\\assets\n",
      "WARNING:absl:Found untraced functions such as _update_step_xla while saving (showing 1 of 1). These functions will not be directly callable after loading.\n"
     ]
    },
    {
     "name": "stdout",
     "output_type": "stream",
     "text": [
      "INFO:tensorflow:Assets written to: C:/Users/User/Time_series/checkpoints/exercices\\model_1_window_size_5_dense\\assets\n"
     ]
    },
    {
     "name": "stderr",
     "output_type": "stream",
     "text": [
      "INFO:tensorflow:Assets written to: C:/Users/User/Time_series/checkpoints/exercices\\model_1_window_size_5_dense\\assets\n",
      "WARNING:absl:Found untraced functions such as _update_step_xla while saving (showing 1 of 1). These functions will not be directly callable after loading.\n"
     ]
    },
    {
     "name": "stdout",
     "output_type": "stream",
     "text": [
      "INFO:tensorflow:Assets written to: C:/Users/User/Time_series/checkpoints/exercices\\model_1_window_size_5_dense\\assets\n"
     ]
    },
    {
     "name": "stderr",
     "output_type": "stream",
     "text": [
      "INFO:tensorflow:Assets written to: C:/Users/User/Time_series/checkpoints/exercices\\model_1_window_size_5_dense\\assets\n"
     ]
    },
    {
     "name": "stdout",
     "output_type": "stream",
     "text": [
      "18/18 [==============================] - 0s 410us/step\n"
     ]
    },
    {
     "name": "stderr",
     "output_type": "stream",
     "text": [
      "WARNING:absl:Found untraced functions such as _update_step_xla while saving (showing 1 of 1). These functions will not be directly callable after loading.\n"
     ]
    },
    {
     "name": "stdout",
     "output_type": "stream",
     "text": [
      "INFO:tensorflow:Assets written to: C:/Users/User/Time_series/checkpoints/exercices\\model_1_window_size_6_dense\\assets\n"
     ]
    },
    {
     "name": "stderr",
     "output_type": "stream",
     "text": [
      "INFO:tensorflow:Assets written to: C:/Users/User/Time_series/checkpoints/exercices\\model_1_window_size_6_dense\\assets\n",
      "WARNING:absl:Found untraced functions such as _update_step_xla while saving (showing 1 of 1). These functions will not be directly callable after loading.\n"
     ]
    },
    {
     "name": "stdout",
     "output_type": "stream",
     "text": [
      "INFO:tensorflow:Assets written to: C:/Users/User/Time_series/checkpoints/exercices\\model_1_window_size_6_dense\\assets\n"
     ]
    },
    {
     "name": "stderr",
     "output_type": "stream",
     "text": [
      "INFO:tensorflow:Assets written to: C:/Users/User/Time_series/checkpoints/exercices\\model_1_window_size_6_dense\\assets\n",
      "WARNING:absl:Found untraced functions such as _update_step_xla while saving (showing 1 of 1). These functions will not be directly callable after loading.\n"
     ]
    },
    {
     "name": "stdout",
     "output_type": "stream",
     "text": [
      "INFO:tensorflow:Assets written to: C:/Users/User/Time_series/checkpoints/exercices\\model_1_window_size_6_dense\\assets\n"
     ]
    },
    {
     "name": "stderr",
     "output_type": "stream",
     "text": [
      "INFO:tensorflow:Assets written to: C:/Users/User/Time_series/checkpoints/exercices\\model_1_window_size_6_dense\\assets\n",
      "WARNING:absl:Found untraced functions such as _update_step_xla while saving (showing 1 of 1). These functions will not be directly callable after loading.\n"
     ]
    },
    {
     "name": "stdout",
     "output_type": "stream",
     "text": [
      "INFO:tensorflow:Assets written to: C:/Users/User/Time_series/checkpoints/exercices\\model_1_window_size_6_dense\\assets\n"
     ]
    },
    {
     "name": "stderr",
     "output_type": "stream",
     "text": [
      "INFO:tensorflow:Assets written to: C:/Users/User/Time_series/checkpoints/exercices\\model_1_window_size_6_dense\\assets\n",
      "WARNING:absl:Found untraced functions such as _update_step_xla while saving (showing 1 of 1). These functions will not be directly callable after loading.\n"
     ]
    },
    {
     "name": "stdout",
     "output_type": "stream",
     "text": [
      "INFO:tensorflow:Assets written to: C:/Users/User/Time_series/checkpoints/exercices\\model_1_window_size_6_dense\\assets\n"
     ]
    },
    {
     "name": "stderr",
     "output_type": "stream",
     "text": [
      "INFO:tensorflow:Assets written to: C:/Users/User/Time_series/checkpoints/exercices\\model_1_window_size_6_dense\\assets\n",
      "WARNING:absl:Found untraced functions such as _update_step_xla while saving (showing 1 of 1). These functions will not be directly callable after loading.\n"
     ]
    },
    {
     "name": "stdout",
     "output_type": "stream",
     "text": [
      "INFO:tensorflow:Assets written to: C:/Users/User/Time_series/checkpoints/exercices\\model_1_window_size_6_dense\\assets\n"
     ]
    },
    {
     "name": "stderr",
     "output_type": "stream",
     "text": [
      "INFO:tensorflow:Assets written to: C:/Users/User/Time_series/checkpoints/exercices\\model_1_window_size_6_dense\\assets\n",
      "WARNING:absl:Found untraced functions such as _update_step_xla while saving (showing 1 of 1). These functions will not be directly callable after loading.\n"
     ]
    },
    {
     "name": "stdout",
     "output_type": "stream",
     "text": [
      "INFO:tensorflow:Assets written to: C:/Users/User/Time_series/checkpoints/exercices\\model_1_window_size_6_dense\\assets\n"
     ]
    },
    {
     "name": "stderr",
     "output_type": "stream",
     "text": [
      "INFO:tensorflow:Assets written to: C:/Users/User/Time_series/checkpoints/exercices\\model_1_window_size_6_dense\\assets\n",
      "WARNING:absl:Found untraced functions such as _update_step_xla while saving (showing 1 of 1). These functions will not be directly callable after loading.\n"
     ]
    },
    {
     "name": "stdout",
     "output_type": "stream",
     "text": [
      "INFO:tensorflow:Assets written to: C:/Users/User/Time_series/checkpoints/exercices\\model_1_window_size_6_dense\\assets\n"
     ]
    },
    {
     "name": "stderr",
     "output_type": "stream",
     "text": [
      "INFO:tensorflow:Assets written to: C:/Users/User/Time_series/checkpoints/exercices\\model_1_window_size_6_dense\\assets\n",
      "WARNING:absl:Found untraced functions such as _update_step_xla while saving (showing 1 of 1). These functions will not be directly callable after loading.\n"
     ]
    },
    {
     "name": "stdout",
     "output_type": "stream",
     "text": [
      "INFO:tensorflow:Assets written to: C:/Users/User/Time_series/checkpoints/exercices\\model_1_window_size_6_dense\\assets\n"
     ]
    },
    {
     "name": "stderr",
     "output_type": "stream",
     "text": [
      "INFO:tensorflow:Assets written to: C:/Users/User/Time_series/checkpoints/exercices\\model_1_window_size_6_dense\\assets\n",
      "WARNING:absl:Found untraced functions such as _update_step_xla while saving (showing 1 of 1). These functions will not be directly callable after loading.\n"
     ]
    },
    {
     "name": "stdout",
     "output_type": "stream",
     "text": [
      "INFO:tensorflow:Assets written to: C:/Users/User/Time_series/checkpoints/exercices\\model_1_window_size_6_dense\\assets\n"
     ]
    },
    {
     "name": "stderr",
     "output_type": "stream",
     "text": [
      "INFO:tensorflow:Assets written to: C:/Users/User/Time_series/checkpoints/exercices\\model_1_window_size_6_dense\\assets\n",
      "WARNING:absl:Found untraced functions such as _update_step_xla while saving (showing 1 of 1). These functions will not be directly callable after loading.\n"
     ]
    },
    {
     "name": "stdout",
     "output_type": "stream",
     "text": [
      "INFO:tensorflow:Assets written to: C:/Users/User/Time_series/checkpoints/exercices\\model_1_window_size_6_dense\\assets\n"
     ]
    },
    {
     "name": "stderr",
     "output_type": "stream",
     "text": [
      "INFO:tensorflow:Assets written to: C:/Users/User/Time_series/checkpoints/exercices\\model_1_window_size_6_dense\\assets\n",
      "WARNING:absl:Found untraced functions such as _update_step_xla while saving (showing 1 of 1). These functions will not be directly callable after loading.\n"
     ]
    },
    {
     "name": "stdout",
     "output_type": "stream",
     "text": [
      "INFO:tensorflow:Assets written to: C:/Users/User/Time_series/checkpoints/exercices\\model_1_window_size_6_dense\\assets\n"
     ]
    },
    {
     "name": "stderr",
     "output_type": "stream",
     "text": [
      "INFO:tensorflow:Assets written to: C:/Users/User/Time_series/checkpoints/exercices\\model_1_window_size_6_dense\\assets\n",
      "WARNING:absl:Found untraced functions such as _update_step_xla while saving (showing 1 of 1). These functions will not be directly callable after loading.\n"
     ]
    },
    {
     "name": "stdout",
     "output_type": "stream",
     "text": [
      "INFO:tensorflow:Assets written to: C:/Users/User/Time_series/checkpoints/exercices\\model_1_window_size_6_dense\\assets\n"
     ]
    },
    {
     "name": "stderr",
     "output_type": "stream",
     "text": [
      "INFO:tensorflow:Assets written to: C:/Users/User/Time_series/checkpoints/exercices\\model_1_window_size_6_dense\\assets\n",
      "WARNING:absl:Found untraced functions such as _update_step_xla while saving (showing 1 of 1). These functions will not be directly callable after loading.\n"
     ]
    },
    {
     "name": "stdout",
     "output_type": "stream",
     "text": [
      "INFO:tensorflow:Assets written to: C:/Users/User/Time_series/checkpoints/exercices\\model_1_window_size_6_dense\\assets\n"
     ]
    },
    {
     "name": "stderr",
     "output_type": "stream",
     "text": [
      "INFO:tensorflow:Assets written to: C:/Users/User/Time_series/checkpoints/exercices\\model_1_window_size_6_dense\\assets\n",
      "WARNING:absl:Found untraced functions such as _update_step_xla while saving (showing 1 of 1). These functions will not be directly callable after loading.\n"
     ]
    },
    {
     "name": "stdout",
     "output_type": "stream",
     "text": [
      "INFO:tensorflow:Assets written to: C:/Users/User/Time_series/checkpoints/exercices\\model_1_window_size_6_dense\\assets\n"
     ]
    },
    {
     "name": "stderr",
     "output_type": "stream",
     "text": [
      "INFO:tensorflow:Assets written to: C:/Users/User/Time_series/checkpoints/exercices\\model_1_window_size_6_dense\\assets\n",
      "WARNING:absl:Found untraced functions such as _update_step_xla while saving (showing 1 of 1). These functions will not be directly callable after loading.\n"
     ]
    },
    {
     "name": "stdout",
     "output_type": "stream",
     "text": [
      "INFO:tensorflow:Assets written to: C:/Users/User/Time_series/checkpoints/exercices\\model_1_window_size_6_dense\\assets\n"
     ]
    },
    {
     "name": "stderr",
     "output_type": "stream",
     "text": [
      "INFO:tensorflow:Assets written to: C:/Users/User/Time_series/checkpoints/exercices\\model_1_window_size_6_dense\\assets\n",
      "WARNING:absl:Found untraced functions such as _update_step_xla while saving (showing 1 of 1). These functions will not be directly callable after loading.\n"
     ]
    },
    {
     "name": "stdout",
     "output_type": "stream",
     "text": [
      "INFO:tensorflow:Assets written to: C:/Users/User/Time_series/checkpoints/exercices\\model_1_window_size_6_dense\\assets\n"
     ]
    },
    {
     "name": "stderr",
     "output_type": "stream",
     "text": [
      "INFO:tensorflow:Assets written to: C:/Users/User/Time_series/checkpoints/exercices\\model_1_window_size_6_dense\\assets\n"
     ]
    },
    {
     "name": "stdout",
     "output_type": "stream",
     "text": [
      "18/18 [==============================] - 0s 405us/step\n"
     ]
    },
    {
     "name": "stderr",
     "output_type": "stream",
     "text": [
      "WARNING:absl:Found untraced functions such as _update_step_xla while saving (showing 1 of 1). These functions will not be directly callable after loading.\n"
     ]
    },
    {
     "name": "stdout",
     "output_type": "stream",
     "text": [
      "INFO:tensorflow:Assets written to: C:/Users/User/Time_series/checkpoints/exercices\\model_1_window_size_7_dense\\assets\n"
     ]
    },
    {
     "name": "stderr",
     "output_type": "stream",
     "text": [
      "INFO:tensorflow:Assets written to: C:/Users/User/Time_series/checkpoints/exercices\\model_1_window_size_7_dense\\assets\n",
      "WARNING:absl:Found untraced functions such as _update_step_xla while saving (showing 1 of 1). These functions will not be directly callable after loading.\n"
     ]
    },
    {
     "name": "stdout",
     "output_type": "stream",
     "text": [
      "INFO:tensorflow:Assets written to: C:/Users/User/Time_series/checkpoints/exercices\\model_1_window_size_7_dense\\assets\n"
     ]
    },
    {
     "name": "stderr",
     "output_type": "stream",
     "text": [
      "INFO:tensorflow:Assets written to: C:/Users/User/Time_series/checkpoints/exercices\\model_1_window_size_7_dense\\assets\n",
      "WARNING:absl:Found untraced functions such as _update_step_xla while saving (showing 1 of 1). These functions will not be directly callable after loading.\n"
     ]
    },
    {
     "name": "stdout",
     "output_type": "stream",
     "text": [
      "INFO:tensorflow:Assets written to: C:/Users/User/Time_series/checkpoints/exercices\\model_1_window_size_7_dense\\assets\n"
     ]
    },
    {
     "name": "stderr",
     "output_type": "stream",
     "text": [
      "INFO:tensorflow:Assets written to: C:/Users/User/Time_series/checkpoints/exercices\\model_1_window_size_7_dense\\assets\n",
      "WARNING:absl:Found untraced functions such as _update_step_xla while saving (showing 1 of 1). These functions will not be directly callable after loading.\n"
     ]
    },
    {
     "name": "stdout",
     "output_type": "stream",
     "text": [
      "INFO:tensorflow:Assets written to: C:/Users/User/Time_series/checkpoints/exercices\\model_1_window_size_7_dense\\assets\n"
     ]
    },
    {
     "name": "stderr",
     "output_type": "stream",
     "text": [
      "INFO:tensorflow:Assets written to: C:/Users/User/Time_series/checkpoints/exercices\\model_1_window_size_7_dense\\assets\n",
      "WARNING:absl:Found untraced functions such as _update_step_xla while saving (showing 1 of 1). These functions will not be directly callable after loading.\n"
     ]
    },
    {
     "name": "stdout",
     "output_type": "stream",
     "text": [
      "INFO:tensorflow:Assets written to: C:/Users/User/Time_series/checkpoints/exercices\\model_1_window_size_7_dense\\assets\n"
     ]
    },
    {
     "name": "stderr",
     "output_type": "stream",
     "text": [
      "INFO:tensorflow:Assets written to: C:/Users/User/Time_series/checkpoints/exercices\\model_1_window_size_7_dense\\assets\n",
      "WARNING:absl:Found untraced functions such as _update_step_xla while saving (showing 1 of 1). These functions will not be directly callable after loading.\n"
     ]
    },
    {
     "name": "stdout",
     "output_type": "stream",
     "text": [
      "INFO:tensorflow:Assets written to: C:/Users/User/Time_series/checkpoints/exercices\\model_1_window_size_7_dense\\assets\n"
     ]
    },
    {
     "name": "stderr",
     "output_type": "stream",
     "text": [
      "INFO:tensorflow:Assets written to: C:/Users/User/Time_series/checkpoints/exercices\\model_1_window_size_7_dense\\assets\n",
      "WARNING:absl:Found untraced functions such as _update_step_xla while saving (showing 1 of 1). These functions will not be directly callable after loading.\n"
     ]
    },
    {
     "name": "stdout",
     "output_type": "stream",
     "text": [
      "INFO:tensorflow:Assets written to: C:/Users/User/Time_series/checkpoints/exercices\\model_1_window_size_7_dense\\assets\n"
     ]
    },
    {
     "name": "stderr",
     "output_type": "stream",
     "text": [
      "INFO:tensorflow:Assets written to: C:/Users/User/Time_series/checkpoints/exercices\\model_1_window_size_7_dense\\assets\n",
      "WARNING:absl:Found untraced functions such as _update_step_xla while saving (showing 1 of 1). These functions will not be directly callable after loading.\n"
     ]
    },
    {
     "name": "stdout",
     "output_type": "stream",
     "text": [
      "INFO:tensorflow:Assets written to: C:/Users/User/Time_series/checkpoints/exercices\\model_1_window_size_7_dense\\assets\n"
     ]
    },
    {
     "name": "stderr",
     "output_type": "stream",
     "text": [
      "INFO:tensorflow:Assets written to: C:/Users/User/Time_series/checkpoints/exercices\\model_1_window_size_7_dense\\assets\n",
      "WARNING:absl:Found untraced functions such as _update_step_xla while saving (showing 1 of 1). These functions will not be directly callable after loading.\n"
     ]
    },
    {
     "name": "stdout",
     "output_type": "stream",
     "text": [
      "INFO:tensorflow:Assets written to: C:/Users/User/Time_series/checkpoints/exercices\\model_1_window_size_7_dense\\assets\n"
     ]
    },
    {
     "name": "stderr",
     "output_type": "stream",
     "text": [
      "INFO:tensorflow:Assets written to: C:/Users/User/Time_series/checkpoints/exercices\\model_1_window_size_7_dense\\assets\n",
      "WARNING:absl:Found untraced functions such as _update_step_xla while saving (showing 1 of 1). These functions will not be directly callable after loading.\n"
     ]
    },
    {
     "name": "stdout",
     "output_type": "stream",
     "text": [
      "INFO:tensorflow:Assets written to: C:/Users/User/Time_series/checkpoints/exercices\\model_1_window_size_7_dense\\assets\n"
     ]
    },
    {
     "name": "stderr",
     "output_type": "stream",
     "text": [
      "INFO:tensorflow:Assets written to: C:/Users/User/Time_series/checkpoints/exercices\\model_1_window_size_7_dense\\assets\n",
      "WARNING:absl:Found untraced functions such as _update_step_xla while saving (showing 1 of 1). These functions will not be directly callable after loading.\n"
     ]
    },
    {
     "name": "stdout",
     "output_type": "stream",
     "text": [
      "INFO:tensorflow:Assets written to: C:/Users/User/Time_series/checkpoints/exercices\\model_1_window_size_7_dense\\assets\n"
     ]
    },
    {
     "name": "stderr",
     "output_type": "stream",
     "text": [
      "INFO:tensorflow:Assets written to: C:/Users/User/Time_series/checkpoints/exercices\\model_1_window_size_7_dense\\assets\n",
      "WARNING:absl:Found untraced functions such as _update_step_xla while saving (showing 1 of 1). These functions will not be directly callable after loading.\n"
     ]
    },
    {
     "name": "stdout",
     "output_type": "stream",
     "text": [
      "INFO:tensorflow:Assets written to: C:/Users/User/Time_series/checkpoints/exercices\\model_1_window_size_7_dense\\assets\n"
     ]
    },
    {
     "name": "stderr",
     "output_type": "stream",
     "text": [
      "INFO:tensorflow:Assets written to: C:/Users/User/Time_series/checkpoints/exercices\\model_1_window_size_7_dense\\assets\n",
      "WARNING:absl:Found untraced functions such as _update_step_xla while saving (showing 1 of 1). These functions will not be directly callable after loading.\n"
     ]
    },
    {
     "name": "stdout",
     "output_type": "stream",
     "text": [
      "INFO:tensorflow:Assets written to: C:/Users/User/Time_series/checkpoints/exercices\\model_1_window_size_7_dense\\assets\n"
     ]
    },
    {
     "name": "stderr",
     "output_type": "stream",
     "text": [
      "INFO:tensorflow:Assets written to: C:/Users/User/Time_series/checkpoints/exercices\\model_1_window_size_7_dense\\assets\n",
      "WARNING:absl:Found untraced functions such as _update_step_xla while saving (showing 1 of 1). These functions will not be directly callable after loading.\n"
     ]
    },
    {
     "name": "stdout",
     "output_type": "stream",
     "text": [
      "INFO:tensorflow:Assets written to: C:/Users/User/Time_series/checkpoints/exercices\\model_1_window_size_7_dense\\assets\n"
     ]
    },
    {
     "name": "stderr",
     "output_type": "stream",
     "text": [
      "INFO:tensorflow:Assets written to: C:/Users/User/Time_series/checkpoints/exercices\\model_1_window_size_7_dense\\assets\n",
      "WARNING:absl:Found untraced functions such as _update_step_xla while saving (showing 1 of 1). These functions will not be directly callable after loading.\n"
     ]
    },
    {
     "name": "stdout",
     "output_type": "stream",
     "text": [
      "INFO:tensorflow:Assets written to: C:/Users/User/Time_series/checkpoints/exercices\\model_1_window_size_7_dense\\assets\n"
     ]
    },
    {
     "name": "stderr",
     "output_type": "stream",
     "text": [
      "INFO:tensorflow:Assets written to: C:/Users/User/Time_series/checkpoints/exercices\\model_1_window_size_7_dense\\assets\n",
      "WARNING:absl:Found untraced functions such as _update_step_xla while saving (showing 1 of 1). These functions will not be directly callable after loading.\n"
     ]
    },
    {
     "name": "stdout",
     "output_type": "stream",
     "text": [
      "INFO:tensorflow:Assets written to: C:/Users/User/Time_series/checkpoints/exercices\\model_1_window_size_7_dense\\assets\n"
     ]
    },
    {
     "name": "stderr",
     "output_type": "stream",
     "text": [
      "INFO:tensorflow:Assets written to: C:/Users/User/Time_series/checkpoints/exercices\\model_1_window_size_7_dense\\assets\n",
      "WARNING:absl:Found untraced functions such as _update_step_xla while saving (showing 1 of 1). These functions will not be directly callable after loading.\n"
     ]
    },
    {
     "name": "stdout",
     "output_type": "stream",
     "text": [
      "INFO:tensorflow:Assets written to: C:/Users/User/Time_series/checkpoints/exercices\\model_1_window_size_7_dense\\assets\n"
     ]
    },
    {
     "name": "stderr",
     "output_type": "stream",
     "text": [
      "INFO:tensorflow:Assets written to: C:/Users/User/Time_series/checkpoints/exercices\\model_1_window_size_7_dense\\assets\n",
      "WARNING:absl:Found untraced functions such as _update_step_xla while saving (showing 1 of 1). These functions will not be directly callable after loading.\n"
     ]
    },
    {
     "name": "stdout",
     "output_type": "stream",
     "text": [
      "INFO:tensorflow:Assets written to: C:/Users/User/Time_series/checkpoints/exercices\\model_1_window_size_7_dense\\assets\n"
     ]
    },
    {
     "name": "stderr",
     "output_type": "stream",
     "text": [
      "INFO:tensorflow:Assets written to: C:/Users/User/Time_series/checkpoints/exercices\\model_1_window_size_7_dense\\assets\n",
      "WARNING:absl:Found untraced functions such as _update_step_xla while saving (showing 1 of 1). These functions will not be directly callable after loading.\n"
     ]
    },
    {
     "name": "stdout",
     "output_type": "stream",
     "text": [
      "INFO:tensorflow:Assets written to: C:/Users/User/Time_series/checkpoints/exercices\\model_1_window_size_7_dense\\assets\n"
     ]
    },
    {
     "name": "stderr",
     "output_type": "stream",
     "text": [
      "INFO:tensorflow:Assets written to: C:/Users/User/Time_series/checkpoints/exercices\\model_1_window_size_7_dense\\assets\n",
      "WARNING:absl:Found untraced functions such as _update_step_xla while saving (showing 1 of 1). These functions will not be directly callable after loading.\n"
     ]
    },
    {
     "name": "stdout",
     "output_type": "stream",
     "text": [
      "INFO:tensorflow:Assets written to: C:/Users/User/Time_series/checkpoints/exercices\\model_1_window_size_7_dense\\assets\n"
     ]
    },
    {
     "name": "stderr",
     "output_type": "stream",
     "text": [
      "INFO:tensorflow:Assets written to: C:/Users/User/Time_series/checkpoints/exercices\\model_1_window_size_7_dense\\assets\n",
      "WARNING:absl:Found untraced functions such as _update_step_xla while saving (showing 1 of 1). These functions will not be directly callable after loading.\n"
     ]
    },
    {
     "name": "stdout",
     "output_type": "stream",
     "text": [
      "INFO:tensorflow:Assets written to: C:/Users/User/Time_series/checkpoints/exercices\\model_1_window_size_7_dense\\assets\n"
     ]
    },
    {
     "name": "stderr",
     "output_type": "stream",
     "text": [
      "INFO:tensorflow:Assets written to: C:/Users/User/Time_series/checkpoints/exercices\\model_1_window_size_7_dense\\assets\n",
      "WARNING:absl:Found untraced functions such as _update_step_xla while saving (showing 1 of 1). These functions will not be directly callable after loading.\n"
     ]
    },
    {
     "name": "stdout",
     "output_type": "stream",
     "text": [
      "INFO:tensorflow:Assets written to: C:/Users/User/Time_series/checkpoints/exercices\\model_1_window_size_7_dense\\assets\n"
     ]
    },
    {
     "name": "stderr",
     "output_type": "stream",
     "text": [
      "INFO:tensorflow:Assets written to: C:/Users/User/Time_series/checkpoints/exercices\\model_1_window_size_7_dense\\assets\n",
      "WARNING:absl:Found untraced functions such as _update_step_xla while saving (showing 1 of 1). These functions will not be directly callable after loading.\n"
     ]
    },
    {
     "name": "stdout",
     "output_type": "stream",
     "text": [
      "INFO:tensorflow:Assets written to: C:/Users/User/Time_series/checkpoints/exercices\\model_1_window_size_7_dense\\assets\n"
     ]
    },
    {
     "name": "stderr",
     "output_type": "stream",
     "text": [
      "INFO:tensorflow:Assets written to: C:/Users/User/Time_series/checkpoints/exercices\\model_1_window_size_7_dense\\assets\n",
      "WARNING:absl:Found untraced functions such as _update_step_xla while saving (showing 1 of 1). These functions will not be directly callable after loading.\n"
     ]
    },
    {
     "name": "stdout",
     "output_type": "stream",
     "text": [
      "INFO:tensorflow:Assets written to: C:/Users/User/Time_series/checkpoints/exercices\\model_1_window_size_7_dense\\assets\n"
     ]
    },
    {
     "name": "stderr",
     "output_type": "stream",
     "text": [
      "INFO:tensorflow:Assets written to: C:/Users/User/Time_series/checkpoints/exercices\\model_1_window_size_7_dense\\assets\n",
      "WARNING:absl:Found untraced functions such as _update_step_xla while saving (showing 1 of 1). These functions will not be directly callable after loading.\n"
     ]
    },
    {
     "name": "stdout",
     "output_type": "stream",
     "text": [
      "INFO:tensorflow:Assets written to: C:/Users/User/Time_series/checkpoints/exercices\\model_1_window_size_7_dense\\assets\n"
     ]
    },
    {
     "name": "stderr",
     "output_type": "stream",
     "text": [
      "INFO:tensorflow:Assets written to: C:/Users/User/Time_series/checkpoints/exercices\\model_1_window_size_7_dense\\assets\n"
     ]
    },
    {
     "name": "stdout",
     "output_type": "stream",
     "text": [
      "18/18 [==============================] - 0s 410us/step\n"
     ]
    },
    {
     "name": "stderr",
     "output_type": "stream",
     "text": [
      "WARNING:absl:Found untraced functions such as _update_step_xla while saving (showing 1 of 1). These functions will not be directly callable after loading.\n"
     ]
    },
    {
     "name": "stdout",
     "output_type": "stream",
     "text": [
      "INFO:tensorflow:Assets written to: C:/Users/User/Time_series/checkpoints/exercices\\model_1_window_size_8_dense\\assets\n"
     ]
    },
    {
     "name": "stderr",
     "output_type": "stream",
     "text": [
      "INFO:tensorflow:Assets written to: C:/Users/User/Time_series/checkpoints/exercices\\model_1_window_size_8_dense\\assets\n",
      "WARNING:absl:Found untraced functions such as _update_step_xla while saving (showing 1 of 1). These functions will not be directly callable after loading.\n"
     ]
    },
    {
     "name": "stdout",
     "output_type": "stream",
     "text": [
      "INFO:tensorflow:Assets written to: C:/Users/User/Time_series/checkpoints/exercices\\model_1_window_size_8_dense\\assets\n"
     ]
    },
    {
     "name": "stderr",
     "output_type": "stream",
     "text": [
      "INFO:tensorflow:Assets written to: C:/Users/User/Time_series/checkpoints/exercices\\model_1_window_size_8_dense\\assets\n",
      "WARNING:absl:Found untraced functions such as _update_step_xla while saving (showing 1 of 1). These functions will not be directly callable after loading.\n"
     ]
    },
    {
     "name": "stdout",
     "output_type": "stream",
     "text": [
      "INFO:tensorflow:Assets written to: C:/Users/User/Time_series/checkpoints/exercices\\model_1_window_size_8_dense\\assets\n"
     ]
    },
    {
     "name": "stderr",
     "output_type": "stream",
     "text": [
      "INFO:tensorflow:Assets written to: C:/Users/User/Time_series/checkpoints/exercices\\model_1_window_size_8_dense\\assets\n",
      "WARNING:absl:Found untraced functions such as _update_step_xla while saving (showing 1 of 1). These functions will not be directly callable after loading.\n"
     ]
    },
    {
     "name": "stdout",
     "output_type": "stream",
     "text": [
      "INFO:tensorflow:Assets written to: C:/Users/User/Time_series/checkpoints/exercices\\model_1_window_size_8_dense\\assets\n"
     ]
    },
    {
     "name": "stderr",
     "output_type": "stream",
     "text": [
      "INFO:tensorflow:Assets written to: C:/Users/User/Time_series/checkpoints/exercices\\model_1_window_size_8_dense\\assets\n",
      "WARNING:absl:Found untraced functions such as _update_step_xla while saving (showing 1 of 1). These functions will not be directly callable after loading.\n"
     ]
    },
    {
     "name": "stdout",
     "output_type": "stream",
     "text": [
      "INFO:tensorflow:Assets written to: C:/Users/User/Time_series/checkpoints/exercices\\model_1_window_size_8_dense\\assets\n"
     ]
    },
    {
     "name": "stderr",
     "output_type": "stream",
     "text": [
      "INFO:tensorflow:Assets written to: C:/Users/User/Time_series/checkpoints/exercices\\model_1_window_size_8_dense\\assets\n",
      "WARNING:absl:Found untraced functions such as _update_step_xla while saving (showing 1 of 1). These functions will not be directly callable after loading.\n"
     ]
    },
    {
     "name": "stdout",
     "output_type": "stream",
     "text": [
      "INFO:tensorflow:Assets written to: C:/Users/User/Time_series/checkpoints/exercices\\model_1_window_size_8_dense\\assets\n"
     ]
    },
    {
     "name": "stderr",
     "output_type": "stream",
     "text": [
      "INFO:tensorflow:Assets written to: C:/Users/User/Time_series/checkpoints/exercices\\model_1_window_size_8_dense\\assets\n",
      "WARNING:absl:Found untraced functions such as _update_step_xla while saving (showing 1 of 1). These functions will not be directly callable after loading.\n"
     ]
    },
    {
     "name": "stdout",
     "output_type": "stream",
     "text": [
      "INFO:tensorflow:Assets written to: C:/Users/User/Time_series/checkpoints/exercices\\model_1_window_size_8_dense\\assets\n"
     ]
    },
    {
     "name": "stderr",
     "output_type": "stream",
     "text": [
      "INFO:tensorflow:Assets written to: C:/Users/User/Time_series/checkpoints/exercices\\model_1_window_size_8_dense\\assets\n",
      "WARNING:absl:Found untraced functions such as _update_step_xla while saving (showing 1 of 1). These functions will not be directly callable after loading.\n"
     ]
    },
    {
     "name": "stdout",
     "output_type": "stream",
     "text": [
      "INFO:tensorflow:Assets written to: C:/Users/User/Time_series/checkpoints/exercices\\model_1_window_size_8_dense\\assets\n"
     ]
    },
    {
     "name": "stderr",
     "output_type": "stream",
     "text": [
      "INFO:tensorflow:Assets written to: C:/Users/User/Time_series/checkpoints/exercices\\model_1_window_size_8_dense\\assets\n",
      "WARNING:absl:Found untraced functions such as _update_step_xla while saving (showing 1 of 1). These functions will not be directly callable after loading.\n"
     ]
    },
    {
     "name": "stdout",
     "output_type": "stream",
     "text": [
      "INFO:tensorflow:Assets written to: C:/Users/User/Time_series/checkpoints/exercices\\model_1_window_size_8_dense\\assets\n"
     ]
    },
    {
     "name": "stderr",
     "output_type": "stream",
     "text": [
      "INFO:tensorflow:Assets written to: C:/Users/User/Time_series/checkpoints/exercices\\model_1_window_size_8_dense\\assets\n",
      "WARNING:absl:Found untraced functions such as _update_step_xla while saving (showing 1 of 1). These functions will not be directly callable after loading.\n"
     ]
    },
    {
     "name": "stdout",
     "output_type": "stream",
     "text": [
      "INFO:tensorflow:Assets written to: C:/Users/User/Time_series/checkpoints/exercices\\model_1_window_size_8_dense\\assets\n"
     ]
    },
    {
     "name": "stderr",
     "output_type": "stream",
     "text": [
      "INFO:tensorflow:Assets written to: C:/Users/User/Time_series/checkpoints/exercices\\model_1_window_size_8_dense\\assets\n",
      "WARNING:absl:Found untraced functions such as _update_step_xla while saving (showing 1 of 1). These functions will not be directly callable after loading.\n"
     ]
    },
    {
     "name": "stdout",
     "output_type": "stream",
     "text": [
      "INFO:tensorflow:Assets written to: C:/Users/User/Time_series/checkpoints/exercices\\model_1_window_size_8_dense\\assets\n"
     ]
    },
    {
     "name": "stderr",
     "output_type": "stream",
     "text": [
      "INFO:tensorflow:Assets written to: C:/Users/User/Time_series/checkpoints/exercices\\model_1_window_size_8_dense\\assets\n",
      "WARNING:absl:Found untraced functions such as _update_step_xla while saving (showing 1 of 1). These functions will not be directly callable after loading.\n"
     ]
    },
    {
     "name": "stdout",
     "output_type": "stream",
     "text": [
      "INFO:tensorflow:Assets written to: C:/Users/User/Time_series/checkpoints/exercices\\model_1_window_size_8_dense\\assets\n"
     ]
    },
    {
     "name": "stderr",
     "output_type": "stream",
     "text": [
      "INFO:tensorflow:Assets written to: C:/Users/User/Time_series/checkpoints/exercices\\model_1_window_size_8_dense\\assets\n",
      "WARNING:absl:Found untraced functions such as _update_step_xla while saving (showing 1 of 1). These functions will not be directly callable after loading.\n"
     ]
    },
    {
     "name": "stdout",
     "output_type": "stream",
     "text": [
      "INFO:tensorflow:Assets written to: C:/Users/User/Time_series/checkpoints/exercices\\model_1_window_size_8_dense\\assets\n"
     ]
    },
    {
     "name": "stderr",
     "output_type": "stream",
     "text": [
      "INFO:tensorflow:Assets written to: C:/Users/User/Time_series/checkpoints/exercices\\model_1_window_size_8_dense\\assets\n",
      "WARNING:absl:Found untraced functions such as _update_step_xla while saving (showing 1 of 1). These functions will not be directly callable after loading.\n"
     ]
    },
    {
     "name": "stdout",
     "output_type": "stream",
     "text": [
      "INFO:tensorflow:Assets written to: C:/Users/User/Time_series/checkpoints/exercices\\model_1_window_size_8_dense\\assets\n"
     ]
    },
    {
     "name": "stderr",
     "output_type": "stream",
     "text": [
      "INFO:tensorflow:Assets written to: C:/Users/User/Time_series/checkpoints/exercices\\model_1_window_size_8_dense\\assets\n",
      "WARNING:absl:Found untraced functions such as _update_step_xla while saving (showing 1 of 1). These functions will not be directly callable after loading.\n"
     ]
    },
    {
     "name": "stdout",
     "output_type": "stream",
     "text": [
      "INFO:tensorflow:Assets written to: C:/Users/User/Time_series/checkpoints/exercices\\model_1_window_size_8_dense\\assets\n"
     ]
    },
    {
     "name": "stderr",
     "output_type": "stream",
     "text": [
      "INFO:tensorflow:Assets written to: C:/Users/User/Time_series/checkpoints/exercices\\model_1_window_size_8_dense\\assets\n",
      "WARNING:absl:Found untraced functions such as _update_step_xla while saving (showing 1 of 1). These functions will not be directly callable after loading.\n"
     ]
    },
    {
     "name": "stdout",
     "output_type": "stream",
     "text": [
      "INFO:tensorflow:Assets written to: C:/Users/User/Time_series/checkpoints/exercices\\model_1_window_size_8_dense\\assets\n"
     ]
    },
    {
     "name": "stderr",
     "output_type": "stream",
     "text": [
      "INFO:tensorflow:Assets written to: C:/Users/User/Time_series/checkpoints/exercices\\model_1_window_size_8_dense\\assets\n"
     ]
    },
    {
     "name": "stdout",
     "output_type": "stream",
     "text": [
      "18/18 [==============================] - 0s 586us/step\n"
     ]
    },
    {
     "name": "stderr",
     "output_type": "stream",
     "text": [
      "WARNING:absl:Found untraced functions such as _update_step_xla while saving (showing 1 of 1). These functions will not be directly callable after loading.\n"
     ]
    },
    {
     "name": "stdout",
     "output_type": "stream",
     "text": [
      "INFO:tensorflow:Assets written to: C:/Users/User/Time_series/checkpoints/exercices\\model_1_window_size_9_dense\\assets\n"
     ]
    },
    {
     "name": "stderr",
     "output_type": "stream",
     "text": [
      "INFO:tensorflow:Assets written to: C:/Users/User/Time_series/checkpoints/exercices\\model_1_window_size_9_dense\\assets\n",
      "WARNING:absl:Found untraced functions such as _update_step_xla while saving (showing 1 of 1). These functions will not be directly callable after loading.\n"
     ]
    },
    {
     "name": "stdout",
     "output_type": "stream",
     "text": [
      "INFO:tensorflow:Assets written to: C:/Users/User/Time_series/checkpoints/exercices\\model_1_window_size_9_dense\\assets\n"
     ]
    },
    {
     "name": "stderr",
     "output_type": "stream",
     "text": [
      "INFO:tensorflow:Assets written to: C:/Users/User/Time_series/checkpoints/exercices\\model_1_window_size_9_dense\\assets\n",
      "WARNING:absl:Found untraced functions such as _update_step_xla while saving (showing 1 of 1). These functions will not be directly callable after loading.\n"
     ]
    },
    {
     "name": "stdout",
     "output_type": "stream",
     "text": [
      "INFO:tensorflow:Assets written to: C:/Users/User/Time_series/checkpoints/exercices\\model_1_window_size_9_dense\\assets\n"
     ]
    },
    {
     "name": "stderr",
     "output_type": "stream",
     "text": [
      "INFO:tensorflow:Assets written to: C:/Users/User/Time_series/checkpoints/exercices\\model_1_window_size_9_dense\\assets\n",
      "WARNING:absl:Found untraced functions such as _update_step_xla while saving (showing 1 of 1). These functions will not be directly callable after loading.\n"
     ]
    },
    {
     "name": "stdout",
     "output_type": "stream",
     "text": [
      "INFO:tensorflow:Assets written to: C:/Users/User/Time_series/checkpoints/exercices\\model_1_window_size_9_dense\\assets\n"
     ]
    },
    {
     "name": "stderr",
     "output_type": "stream",
     "text": [
      "INFO:tensorflow:Assets written to: C:/Users/User/Time_series/checkpoints/exercices\\model_1_window_size_9_dense\\assets\n",
      "WARNING:absl:Found untraced functions such as _update_step_xla while saving (showing 1 of 1). These functions will not be directly callable after loading.\n"
     ]
    },
    {
     "name": "stdout",
     "output_type": "stream",
     "text": [
      "INFO:tensorflow:Assets written to: C:/Users/User/Time_series/checkpoints/exercices\\model_1_window_size_9_dense\\assets\n"
     ]
    },
    {
     "name": "stderr",
     "output_type": "stream",
     "text": [
      "INFO:tensorflow:Assets written to: C:/Users/User/Time_series/checkpoints/exercices\\model_1_window_size_9_dense\\assets\n",
      "WARNING:absl:Found untraced functions such as _update_step_xla while saving (showing 1 of 1). These functions will not be directly callable after loading.\n"
     ]
    },
    {
     "name": "stdout",
     "output_type": "stream",
     "text": [
      "INFO:tensorflow:Assets written to: C:/Users/User/Time_series/checkpoints/exercices\\model_1_window_size_9_dense\\assets\n"
     ]
    },
    {
     "name": "stderr",
     "output_type": "stream",
     "text": [
      "INFO:tensorflow:Assets written to: C:/Users/User/Time_series/checkpoints/exercices\\model_1_window_size_9_dense\\assets\n",
      "WARNING:absl:Found untraced functions such as _update_step_xla while saving (showing 1 of 1). These functions will not be directly callable after loading.\n"
     ]
    },
    {
     "name": "stdout",
     "output_type": "stream",
     "text": [
      "INFO:tensorflow:Assets written to: C:/Users/User/Time_series/checkpoints/exercices\\model_1_window_size_9_dense\\assets\n"
     ]
    },
    {
     "name": "stderr",
     "output_type": "stream",
     "text": [
      "INFO:tensorflow:Assets written to: C:/Users/User/Time_series/checkpoints/exercices\\model_1_window_size_9_dense\\assets\n",
      "WARNING:absl:Found untraced functions such as _update_step_xla while saving (showing 1 of 1). These functions will not be directly callable after loading.\n"
     ]
    },
    {
     "name": "stdout",
     "output_type": "stream",
     "text": [
      "INFO:tensorflow:Assets written to: C:/Users/User/Time_series/checkpoints/exercices\\model_1_window_size_9_dense\\assets\n"
     ]
    },
    {
     "name": "stderr",
     "output_type": "stream",
     "text": [
      "INFO:tensorflow:Assets written to: C:/Users/User/Time_series/checkpoints/exercices\\model_1_window_size_9_dense\\assets\n",
      "WARNING:absl:Found untraced functions such as _update_step_xla while saving (showing 1 of 1). These functions will not be directly callable after loading.\n"
     ]
    },
    {
     "name": "stdout",
     "output_type": "stream",
     "text": [
      "INFO:tensorflow:Assets written to: C:/Users/User/Time_series/checkpoints/exercices\\model_1_window_size_9_dense\\assets\n"
     ]
    },
    {
     "name": "stderr",
     "output_type": "stream",
     "text": [
      "INFO:tensorflow:Assets written to: C:/Users/User/Time_series/checkpoints/exercices\\model_1_window_size_9_dense\\assets\n",
      "WARNING:absl:Found untraced functions such as _update_step_xla while saving (showing 1 of 1). These functions will not be directly callable after loading.\n"
     ]
    },
    {
     "name": "stdout",
     "output_type": "stream",
     "text": [
      "INFO:tensorflow:Assets written to: C:/Users/User/Time_series/checkpoints/exercices\\model_1_window_size_9_dense\\assets\n"
     ]
    },
    {
     "name": "stderr",
     "output_type": "stream",
     "text": [
      "INFO:tensorflow:Assets written to: C:/Users/User/Time_series/checkpoints/exercices\\model_1_window_size_9_dense\\assets\n",
      "WARNING:absl:Found untraced functions such as _update_step_xla while saving (showing 1 of 1). These functions will not be directly callable after loading.\n"
     ]
    },
    {
     "name": "stdout",
     "output_type": "stream",
     "text": [
      "INFO:tensorflow:Assets written to: C:/Users/User/Time_series/checkpoints/exercices\\model_1_window_size_9_dense\\assets\n"
     ]
    },
    {
     "name": "stderr",
     "output_type": "stream",
     "text": [
      "INFO:tensorflow:Assets written to: C:/Users/User/Time_series/checkpoints/exercices\\model_1_window_size_9_dense\\assets\n",
      "WARNING:absl:Found untraced functions such as _update_step_xla while saving (showing 1 of 1). These functions will not be directly callable after loading.\n"
     ]
    },
    {
     "name": "stdout",
     "output_type": "stream",
     "text": [
      "INFO:tensorflow:Assets written to: C:/Users/User/Time_series/checkpoints/exercices\\model_1_window_size_9_dense\\assets\n"
     ]
    },
    {
     "name": "stderr",
     "output_type": "stream",
     "text": [
      "INFO:tensorflow:Assets written to: C:/Users/User/Time_series/checkpoints/exercices\\model_1_window_size_9_dense\\assets\n",
      "WARNING:absl:Found untraced functions such as _update_step_xla while saving (showing 1 of 1). These functions will not be directly callable after loading.\n"
     ]
    },
    {
     "name": "stdout",
     "output_type": "stream",
     "text": [
      "INFO:tensorflow:Assets written to: C:/Users/User/Time_series/checkpoints/exercices\\model_1_window_size_9_dense\\assets\n"
     ]
    },
    {
     "name": "stderr",
     "output_type": "stream",
     "text": [
      "INFO:tensorflow:Assets written to: C:/Users/User/Time_series/checkpoints/exercices\\model_1_window_size_9_dense\\assets\n",
      "WARNING:absl:Found untraced functions such as _update_step_xla while saving (showing 1 of 1). These functions will not be directly callable after loading.\n"
     ]
    },
    {
     "name": "stdout",
     "output_type": "stream",
     "text": [
      "INFO:tensorflow:Assets written to: C:/Users/User/Time_series/checkpoints/exercices\\model_1_window_size_9_dense\\assets\n"
     ]
    },
    {
     "name": "stderr",
     "output_type": "stream",
     "text": [
      "INFO:tensorflow:Assets written to: C:/Users/User/Time_series/checkpoints/exercices\\model_1_window_size_9_dense\\assets\n",
      "WARNING:absl:Found untraced functions such as _update_step_xla while saving (showing 1 of 1). These functions will not be directly callable after loading.\n"
     ]
    },
    {
     "name": "stdout",
     "output_type": "stream",
     "text": [
      "INFO:tensorflow:Assets written to: C:/Users/User/Time_series/checkpoints/exercices\\model_1_window_size_9_dense\\assets\n"
     ]
    },
    {
     "name": "stderr",
     "output_type": "stream",
     "text": [
      "INFO:tensorflow:Assets written to: C:/Users/User/Time_series/checkpoints/exercices\\model_1_window_size_9_dense\\assets\n",
      "WARNING:absl:Found untraced functions such as _update_step_xla while saving (showing 1 of 1). These functions will not be directly callable after loading.\n"
     ]
    },
    {
     "name": "stdout",
     "output_type": "stream",
     "text": [
      "INFO:tensorflow:Assets written to: C:/Users/User/Time_series/checkpoints/exercices\\model_1_window_size_9_dense\\assets\n"
     ]
    },
    {
     "name": "stderr",
     "output_type": "stream",
     "text": [
      "INFO:tensorflow:Assets written to: C:/Users/User/Time_series/checkpoints/exercices\\model_1_window_size_9_dense\\assets\n",
      "WARNING:absl:Found untraced functions such as _update_step_xla while saving (showing 1 of 1). These functions will not be directly callable after loading.\n"
     ]
    },
    {
     "name": "stdout",
     "output_type": "stream",
     "text": [
      "INFO:tensorflow:Assets written to: C:/Users/User/Time_series/checkpoints/exercices\\model_1_window_size_9_dense\\assets\n"
     ]
    },
    {
     "name": "stderr",
     "output_type": "stream",
     "text": [
      "INFO:tensorflow:Assets written to: C:/Users/User/Time_series/checkpoints/exercices\\model_1_window_size_9_dense\\assets\n",
      "WARNING:absl:Found untraced functions such as _update_step_xla while saving (showing 1 of 1). These functions will not be directly callable after loading.\n"
     ]
    },
    {
     "name": "stdout",
     "output_type": "stream",
     "text": [
      "INFO:tensorflow:Assets written to: C:/Users/User/Time_series/checkpoints/exercices\\model_1_window_size_9_dense\\assets\n"
     ]
    },
    {
     "name": "stderr",
     "output_type": "stream",
     "text": [
      "INFO:tensorflow:Assets written to: C:/Users/User/Time_series/checkpoints/exercices\\model_1_window_size_9_dense\\assets\n",
      "WARNING:absl:Found untraced functions such as _update_step_xla while saving (showing 1 of 1). These functions will not be directly callable after loading.\n"
     ]
    },
    {
     "name": "stdout",
     "output_type": "stream",
     "text": [
      "INFO:tensorflow:Assets written to: C:/Users/User/Time_series/checkpoints/exercices\\model_1_window_size_9_dense\\assets\n"
     ]
    },
    {
     "name": "stderr",
     "output_type": "stream",
     "text": [
      "INFO:tensorflow:Assets written to: C:/Users/User/Time_series/checkpoints/exercices\\model_1_window_size_9_dense\\assets\n"
     ]
    },
    {
     "name": "stdout",
     "output_type": "stream",
     "text": [
      "18/18 [==============================] - 0s 469us/step\n"
     ]
    },
    {
     "name": "stderr",
     "output_type": "stream",
     "text": [
      "WARNING:absl:Found untraced functions such as _update_step_xla while saving (showing 1 of 1). These functions will not be directly callable after loading.\n"
     ]
    },
    {
     "name": "stdout",
     "output_type": "stream",
     "text": [
      "INFO:tensorflow:Assets written to: C:/Users/User/Time_series/checkpoints/exercices\\model_1_window_size_10_dense\\assets\n"
     ]
    },
    {
     "name": "stderr",
     "output_type": "stream",
     "text": [
      "INFO:tensorflow:Assets written to: C:/Users/User/Time_series/checkpoints/exercices\\model_1_window_size_10_dense\\assets\n",
      "WARNING:absl:Found untraced functions such as _update_step_xla while saving (showing 1 of 1). These functions will not be directly callable after loading.\n"
     ]
    },
    {
     "name": "stdout",
     "output_type": "stream",
     "text": [
      "INFO:tensorflow:Assets written to: C:/Users/User/Time_series/checkpoints/exercices\\model_1_window_size_10_dense\\assets\n"
     ]
    },
    {
     "name": "stderr",
     "output_type": "stream",
     "text": [
      "INFO:tensorflow:Assets written to: C:/Users/User/Time_series/checkpoints/exercices\\model_1_window_size_10_dense\\assets\n",
      "WARNING:absl:Found untraced functions such as _update_step_xla while saving (showing 1 of 1). These functions will not be directly callable after loading.\n"
     ]
    },
    {
     "name": "stdout",
     "output_type": "stream",
     "text": [
      "INFO:tensorflow:Assets written to: C:/Users/User/Time_series/checkpoints/exercices\\model_1_window_size_10_dense\\assets\n"
     ]
    },
    {
     "name": "stderr",
     "output_type": "stream",
     "text": [
      "INFO:tensorflow:Assets written to: C:/Users/User/Time_series/checkpoints/exercices\\model_1_window_size_10_dense\\assets\n",
      "WARNING:absl:Found untraced functions such as _update_step_xla while saving (showing 1 of 1). These functions will not be directly callable after loading.\n"
     ]
    },
    {
     "name": "stdout",
     "output_type": "stream",
     "text": [
      "INFO:tensorflow:Assets written to: C:/Users/User/Time_series/checkpoints/exercices\\model_1_window_size_10_dense\\assets\n"
     ]
    },
    {
     "name": "stderr",
     "output_type": "stream",
     "text": [
      "INFO:tensorflow:Assets written to: C:/Users/User/Time_series/checkpoints/exercices\\model_1_window_size_10_dense\\assets\n",
      "WARNING:absl:Found untraced functions such as _update_step_xla while saving (showing 1 of 1). These functions will not be directly callable after loading.\n"
     ]
    },
    {
     "name": "stdout",
     "output_type": "stream",
     "text": [
      "INFO:tensorflow:Assets written to: C:/Users/User/Time_series/checkpoints/exercices\\model_1_window_size_10_dense\\assets\n"
     ]
    },
    {
     "name": "stderr",
     "output_type": "stream",
     "text": [
      "INFO:tensorflow:Assets written to: C:/Users/User/Time_series/checkpoints/exercices\\model_1_window_size_10_dense\\assets\n",
      "WARNING:absl:Found untraced functions such as _update_step_xla while saving (showing 1 of 1). These functions will not be directly callable after loading.\n"
     ]
    },
    {
     "name": "stdout",
     "output_type": "stream",
     "text": [
      "INFO:tensorflow:Assets written to: C:/Users/User/Time_series/checkpoints/exercices\\model_1_window_size_10_dense\\assets\n"
     ]
    },
    {
     "name": "stderr",
     "output_type": "stream",
     "text": [
      "INFO:tensorflow:Assets written to: C:/Users/User/Time_series/checkpoints/exercices\\model_1_window_size_10_dense\\assets\n",
      "WARNING:absl:Found untraced functions such as _update_step_xla while saving (showing 1 of 1). These functions will not be directly callable after loading.\n"
     ]
    },
    {
     "name": "stdout",
     "output_type": "stream",
     "text": [
      "INFO:tensorflow:Assets written to: C:/Users/User/Time_series/checkpoints/exercices\\model_1_window_size_10_dense\\assets\n"
     ]
    },
    {
     "name": "stderr",
     "output_type": "stream",
     "text": [
      "INFO:tensorflow:Assets written to: C:/Users/User/Time_series/checkpoints/exercices\\model_1_window_size_10_dense\\assets\n",
      "WARNING:absl:Found untraced functions such as _update_step_xla while saving (showing 1 of 1). These functions will not be directly callable after loading.\n"
     ]
    },
    {
     "name": "stdout",
     "output_type": "stream",
     "text": [
      "INFO:tensorflow:Assets written to: C:/Users/User/Time_series/checkpoints/exercices\\model_1_window_size_10_dense\\assets\n"
     ]
    },
    {
     "name": "stderr",
     "output_type": "stream",
     "text": [
      "INFO:tensorflow:Assets written to: C:/Users/User/Time_series/checkpoints/exercices\\model_1_window_size_10_dense\\assets\n",
      "WARNING:absl:Found untraced functions such as _update_step_xla while saving (showing 1 of 1). These functions will not be directly callable after loading.\n"
     ]
    },
    {
     "name": "stdout",
     "output_type": "stream",
     "text": [
      "INFO:tensorflow:Assets written to: C:/Users/User/Time_series/checkpoints/exercices\\model_1_window_size_10_dense\\assets\n"
     ]
    },
    {
     "name": "stderr",
     "output_type": "stream",
     "text": [
      "INFO:tensorflow:Assets written to: C:/Users/User/Time_series/checkpoints/exercices\\model_1_window_size_10_dense\\assets\n",
      "WARNING:absl:Found untraced functions such as _update_step_xla while saving (showing 1 of 1). These functions will not be directly callable after loading.\n"
     ]
    },
    {
     "name": "stdout",
     "output_type": "stream",
     "text": [
      "INFO:tensorflow:Assets written to: C:/Users/User/Time_series/checkpoints/exercices\\model_1_window_size_10_dense\\assets\n"
     ]
    },
    {
     "name": "stderr",
     "output_type": "stream",
     "text": [
      "INFO:tensorflow:Assets written to: C:/Users/User/Time_series/checkpoints/exercices\\model_1_window_size_10_dense\\assets\n",
      "WARNING:absl:Found untraced functions such as _update_step_xla while saving (showing 1 of 1). These functions will not be directly callable after loading.\n"
     ]
    },
    {
     "name": "stdout",
     "output_type": "stream",
     "text": [
      "INFO:tensorflow:Assets written to: C:/Users/User/Time_series/checkpoints/exercices\\model_1_window_size_10_dense\\assets\n"
     ]
    },
    {
     "name": "stderr",
     "output_type": "stream",
     "text": [
      "INFO:tensorflow:Assets written to: C:/Users/User/Time_series/checkpoints/exercices\\model_1_window_size_10_dense\\assets\n",
      "WARNING:absl:Found untraced functions such as _update_step_xla while saving (showing 1 of 1). These functions will not be directly callable after loading.\n"
     ]
    },
    {
     "name": "stdout",
     "output_type": "stream",
     "text": [
      "INFO:tensorflow:Assets written to: C:/Users/User/Time_series/checkpoints/exercices\\model_1_window_size_10_dense\\assets\n"
     ]
    },
    {
     "name": "stderr",
     "output_type": "stream",
     "text": [
      "INFO:tensorflow:Assets written to: C:/Users/User/Time_series/checkpoints/exercices\\model_1_window_size_10_dense\\assets\n",
      "WARNING:absl:Found untraced functions such as _update_step_xla while saving (showing 1 of 1). These functions will not be directly callable after loading.\n"
     ]
    },
    {
     "name": "stdout",
     "output_type": "stream",
     "text": [
      "INFO:tensorflow:Assets written to: C:/Users/User/Time_series/checkpoints/exercices\\model_1_window_size_10_dense\\assets\n"
     ]
    },
    {
     "name": "stderr",
     "output_type": "stream",
     "text": [
      "INFO:tensorflow:Assets written to: C:/Users/User/Time_series/checkpoints/exercices\\model_1_window_size_10_dense\\assets\n",
      "WARNING:absl:Found untraced functions such as _update_step_xla while saving (showing 1 of 1). These functions will not be directly callable after loading.\n"
     ]
    },
    {
     "name": "stdout",
     "output_type": "stream",
     "text": [
      "INFO:tensorflow:Assets written to: C:/Users/User/Time_series/checkpoints/exercices\\model_1_window_size_10_dense\\assets\n"
     ]
    },
    {
     "name": "stderr",
     "output_type": "stream",
     "text": [
      "INFO:tensorflow:Assets written to: C:/Users/User/Time_series/checkpoints/exercices\\model_1_window_size_10_dense\\assets\n",
      "WARNING:absl:Found untraced functions such as _update_step_xla while saving (showing 1 of 1). These functions will not be directly callable after loading.\n"
     ]
    },
    {
     "name": "stdout",
     "output_type": "stream",
     "text": [
      "INFO:tensorflow:Assets written to: C:/Users/User/Time_series/checkpoints/exercices\\model_1_window_size_10_dense\\assets\n"
     ]
    },
    {
     "name": "stderr",
     "output_type": "stream",
     "text": [
      "INFO:tensorflow:Assets written to: C:/Users/User/Time_series/checkpoints/exercices\\model_1_window_size_10_dense\\assets\n",
      "WARNING:absl:Found untraced functions such as _update_step_xla while saving (showing 1 of 1). These functions will not be directly callable after loading.\n"
     ]
    },
    {
     "name": "stdout",
     "output_type": "stream",
     "text": [
      "INFO:tensorflow:Assets written to: C:/Users/User/Time_series/checkpoints/exercices\\model_1_window_size_10_dense\\assets\n"
     ]
    },
    {
     "name": "stderr",
     "output_type": "stream",
     "text": [
      "INFO:tensorflow:Assets written to: C:/Users/User/Time_series/checkpoints/exercices\\model_1_window_size_10_dense\\assets\n",
      "WARNING:absl:Found untraced functions such as _update_step_xla while saving (showing 1 of 1). These functions will not be directly callable after loading.\n"
     ]
    },
    {
     "name": "stdout",
     "output_type": "stream",
     "text": [
      "INFO:tensorflow:Assets written to: C:/Users/User/Time_series/checkpoints/exercices\\model_1_window_size_10_dense\\assets\n"
     ]
    },
    {
     "name": "stderr",
     "output_type": "stream",
     "text": [
      "INFO:tensorflow:Assets written to: C:/Users/User/Time_series/checkpoints/exercices\\model_1_window_size_10_dense\\assets\n",
      "WARNING:absl:Found untraced functions such as _update_step_xla while saving (showing 1 of 1). These functions will not be directly callable after loading.\n"
     ]
    },
    {
     "name": "stdout",
     "output_type": "stream",
     "text": [
      "INFO:tensorflow:Assets written to: C:/Users/User/Time_series/checkpoints/exercices\\model_1_window_size_10_dense\\assets\n"
     ]
    },
    {
     "name": "stderr",
     "output_type": "stream",
     "text": [
      "INFO:tensorflow:Assets written to: C:/Users/User/Time_series/checkpoints/exercices\\model_1_window_size_10_dense\\assets\n"
     ]
    },
    {
     "name": "stdout",
     "output_type": "stream",
     "text": [
      "18/18 [==============================] - 0s 469us/step\n"
     ]
    },
    {
     "name": "stderr",
     "output_type": "stream",
     "text": [
      "WARNING:absl:Found untraced functions such as _update_step_xla while saving (showing 1 of 1). These functions will not be directly callable after loading.\n"
     ]
    },
    {
     "name": "stdout",
     "output_type": "stream",
     "text": [
      "INFO:tensorflow:Assets written to: C:/Users/User/Time_series/checkpoints/exercices\\model_1_window_size_11_dense\\assets\n"
     ]
    },
    {
     "name": "stderr",
     "output_type": "stream",
     "text": [
      "INFO:tensorflow:Assets written to: C:/Users/User/Time_series/checkpoints/exercices\\model_1_window_size_11_dense\\assets\n",
      "WARNING:absl:Found untraced functions such as _update_step_xla while saving (showing 1 of 1). These functions will not be directly callable after loading.\n"
     ]
    },
    {
     "name": "stdout",
     "output_type": "stream",
     "text": [
      "INFO:tensorflow:Assets written to: C:/Users/User/Time_series/checkpoints/exercices\\model_1_window_size_11_dense\\assets\n"
     ]
    },
    {
     "name": "stderr",
     "output_type": "stream",
     "text": [
      "INFO:tensorflow:Assets written to: C:/Users/User/Time_series/checkpoints/exercices\\model_1_window_size_11_dense\\assets\n",
      "WARNING:absl:Found untraced functions such as _update_step_xla while saving (showing 1 of 1). These functions will not be directly callable after loading.\n"
     ]
    },
    {
     "name": "stdout",
     "output_type": "stream",
     "text": [
      "INFO:tensorflow:Assets written to: C:/Users/User/Time_series/checkpoints/exercices\\model_1_window_size_11_dense\\assets\n"
     ]
    },
    {
     "name": "stderr",
     "output_type": "stream",
     "text": [
      "INFO:tensorflow:Assets written to: C:/Users/User/Time_series/checkpoints/exercices\\model_1_window_size_11_dense\\assets\n",
      "WARNING:absl:Found untraced functions such as _update_step_xla while saving (showing 1 of 1). These functions will not be directly callable after loading.\n"
     ]
    },
    {
     "name": "stdout",
     "output_type": "stream",
     "text": [
      "INFO:tensorflow:Assets written to: C:/Users/User/Time_series/checkpoints/exercices\\model_1_window_size_11_dense\\assets\n"
     ]
    },
    {
     "name": "stderr",
     "output_type": "stream",
     "text": [
      "INFO:tensorflow:Assets written to: C:/Users/User/Time_series/checkpoints/exercices\\model_1_window_size_11_dense\\assets\n",
      "WARNING:absl:Found untraced functions such as _update_step_xla while saving (showing 1 of 1). These functions will not be directly callable after loading.\n"
     ]
    },
    {
     "name": "stdout",
     "output_type": "stream",
     "text": [
      "INFO:tensorflow:Assets written to: C:/Users/User/Time_series/checkpoints/exercices\\model_1_window_size_11_dense\\assets\n"
     ]
    },
    {
     "name": "stderr",
     "output_type": "stream",
     "text": [
      "INFO:tensorflow:Assets written to: C:/Users/User/Time_series/checkpoints/exercices\\model_1_window_size_11_dense\\assets\n",
      "WARNING:absl:Found untraced functions such as _update_step_xla while saving (showing 1 of 1). These functions will not be directly callable after loading.\n"
     ]
    },
    {
     "name": "stdout",
     "output_type": "stream",
     "text": [
      "INFO:tensorflow:Assets written to: C:/Users/User/Time_series/checkpoints/exercices\\model_1_window_size_11_dense\\assets\n"
     ]
    },
    {
     "name": "stderr",
     "output_type": "stream",
     "text": [
      "INFO:tensorflow:Assets written to: C:/Users/User/Time_series/checkpoints/exercices\\model_1_window_size_11_dense\\assets\n",
      "WARNING:absl:Found untraced functions such as _update_step_xla while saving (showing 1 of 1). These functions will not be directly callable after loading.\n"
     ]
    },
    {
     "name": "stdout",
     "output_type": "stream",
     "text": [
      "INFO:tensorflow:Assets written to: C:/Users/User/Time_series/checkpoints/exercices\\model_1_window_size_11_dense\\assets\n"
     ]
    },
    {
     "name": "stderr",
     "output_type": "stream",
     "text": [
      "INFO:tensorflow:Assets written to: C:/Users/User/Time_series/checkpoints/exercices\\model_1_window_size_11_dense\\assets\n",
      "WARNING:absl:Found untraced functions such as _update_step_xla while saving (showing 1 of 1). These functions will not be directly callable after loading.\n"
     ]
    },
    {
     "name": "stdout",
     "output_type": "stream",
     "text": [
      "INFO:tensorflow:Assets written to: C:/Users/User/Time_series/checkpoints/exercices\\model_1_window_size_11_dense\\assets\n"
     ]
    },
    {
     "name": "stderr",
     "output_type": "stream",
     "text": [
      "INFO:tensorflow:Assets written to: C:/Users/User/Time_series/checkpoints/exercices\\model_1_window_size_11_dense\\assets\n",
      "WARNING:absl:Found untraced functions such as _update_step_xla while saving (showing 1 of 1). These functions will not be directly callable after loading.\n"
     ]
    },
    {
     "name": "stdout",
     "output_type": "stream",
     "text": [
      "INFO:tensorflow:Assets written to: C:/Users/User/Time_series/checkpoints/exercices\\model_1_window_size_11_dense\\assets\n"
     ]
    },
    {
     "name": "stderr",
     "output_type": "stream",
     "text": [
      "INFO:tensorflow:Assets written to: C:/Users/User/Time_series/checkpoints/exercices\\model_1_window_size_11_dense\\assets\n",
      "WARNING:absl:Found untraced functions such as _update_step_xla while saving (showing 1 of 1). These functions will not be directly callable after loading.\n"
     ]
    },
    {
     "name": "stdout",
     "output_type": "stream",
     "text": [
      "INFO:tensorflow:Assets written to: C:/Users/User/Time_series/checkpoints/exercices\\model_1_window_size_11_dense\\assets\n"
     ]
    },
    {
     "name": "stderr",
     "output_type": "stream",
     "text": [
      "INFO:tensorflow:Assets written to: C:/Users/User/Time_series/checkpoints/exercices\\model_1_window_size_11_dense\\assets\n",
      "WARNING:absl:Found untraced functions such as _update_step_xla while saving (showing 1 of 1). These functions will not be directly callable after loading.\n"
     ]
    },
    {
     "name": "stdout",
     "output_type": "stream",
     "text": [
      "INFO:tensorflow:Assets written to: C:/Users/User/Time_series/checkpoints/exercices\\model_1_window_size_11_dense\\assets\n"
     ]
    },
    {
     "name": "stderr",
     "output_type": "stream",
     "text": [
      "INFO:tensorflow:Assets written to: C:/Users/User/Time_series/checkpoints/exercices\\model_1_window_size_11_dense\\assets\n",
      "WARNING:absl:Found untraced functions such as _update_step_xla while saving (showing 1 of 1). These functions will not be directly callable after loading.\n"
     ]
    },
    {
     "name": "stdout",
     "output_type": "stream",
     "text": [
      "INFO:tensorflow:Assets written to: C:/Users/User/Time_series/checkpoints/exercices\\model_1_window_size_11_dense\\assets\n"
     ]
    },
    {
     "name": "stderr",
     "output_type": "stream",
     "text": [
      "INFO:tensorflow:Assets written to: C:/Users/User/Time_series/checkpoints/exercices\\model_1_window_size_11_dense\\assets\n",
      "WARNING:absl:Found untraced functions such as _update_step_xla while saving (showing 1 of 1). These functions will not be directly callable after loading.\n"
     ]
    },
    {
     "name": "stdout",
     "output_type": "stream",
     "text": [
      "INFO:tensorflow:Assets written to: C:/Users/User/Time_series/checkpoints/exercices\\model_1_window_size_11_dense\\assets\n"
     ]
    },
    {
     "name": "stderr",
     "output_type": "stream",
     "text": [
      "INFO:tensorflow:Assets written to: C:/Users/User/Time_series/checkpoints/exercices\\model_1_window_size_11_dense\\assets\n",
      "WARNING:absl:Found untraced functions such as _update_step_xla while saving (showing 1 of 1). These functions will not be directly callable after loading.\n"
     ]
    },
    {
     "name": "stdout",
     "output_type": "stream",
     "text": [
      "INFO:tensorflow:Assets written to: C:/Users/User/Time_series/checkpoints/exercices\\model_1_window_size_11_dense\\assets\n"
     ]
    },
    {
     "name": "stderr",
     "output_type": "stream",
     "text": [
      "INFO:tensorflow:Assets written to: C:/Users/User/Time_series/checkpoints/exercices\\model_1_window_size_11_dense\\assets\n",
      "WARNING:absl:Found untraced functions such as _update_step_xla while saving (showing 1 of 1). These functions will not be directly callable after loading.\n"
     ]
    },
    {
     "name": "stdout",
     "output_type": "stream",
     "text": [
      "INFO:tensorflow:Assets written to: C:/Users/User/Time_series/checkpoints/exercices\\model_1_window_size_11_dense\\assets\n"
     ]
    },
    {
     "name": "stderr",
     "output_type": "stream",
     "text": [
      "INFO:tensorflow:Assets written to: C:/Users/User/Time_series/checkpoints/exercices\\model_1_window_size_11_dense\\assets\n",
      "WARNING:absl:Found untraced functions such as _update_step_xla while saving (showing 1 of 1). These functions will not be directly callable after loading.\n"
     ]
    },
    {
     "name": "stdout",
     "output_type": "stream",
     "text": [
      "INFO:tensorflow:Assets written to: C:/Users/User/Time_series/checkpoints/exercices\\model_1_window_size_11_dense\\assets\n"
     ]
    },
    {
     "name": "stderr",
     "output_type": "stream",
     "text": [
      "INFO:tensorflow:Assets written to: C:/Users/User/Time_series/checkpoints/exercices\\model_1_window_size_11_dense\\assets\n",
      "WARNING:absl:Found untraced functions such as _update_step_xla while saving (showing 1 of 1). These functions will not be directly callable after loading.\n"
     ]
    },
    {
     "name": "stdout",
     "output_type": "stream",
     "text": [
      "INFO:tensorflow:Assets written to: C:/Users/User/Time_series/checkpoints/exercices\\model_1_window_size_11_dense\\assets\n"
     ]
    },
    {
     "name": "stderr",
     "output_type": "stream",
     "text": [
      "INFO:tensorflow:Assets written to: C:/Users/User/Time_series/checkpoints/exercices\\model_1_window_size_11_dense\\assets\n",
      "WARNING:absl:Found untraced functions such as _update_step_xla while saving (showing 1 of 1). These functions will not be directly callable after loading.\n"
     ]
    },
    {
     "name": "stdout",
     "output_type": "stream",
     "text": [
      "INFO:tensorflow:Assets written to: C:/Users/User/Time_series/checkpoints/exercices\\model_1_window_size_11_dense\\assets\n"
     ]
    },
    {
     "name": "stderr",
     "output_type": "stream",
     "text": [
      "INFO:tensorflow:Assets written to: C:/Users/User/Time_series/checkpoints/exercices\\model_1_window_size_11_dense\\assets\n",
      "WARNING:absl:Found untraced functions such as _update_step_xla while saving (showing 1 of 1). These functions will not be directly callable after loading.\n"
     ]
    },
    {
     "name": "stdout",
     "output_type": "stream",
     "text": [
      "INFO:tensorflow:Assets written to: C:/Users/User/Time_series/checkpoints/exercices\\model_1_window_size_11_dense\\assets\n"
     ]
    },
    {
     "name": "stderr",
     "output_type": "stream",
     "text": [
      "INFO:tensorflow:Assets written to: C:/Users/User/Time_series/checkpoints/exercices\\model_1_window_size_11_dense\\assets\n",
      "WARNING:absl:Found untraced functions such as _update_step_xla while saving (showing 1 of 1). These functions will not be directly callable after loading.\n"
     ]
    },
    {
     "name": "stdout",
     "output_type": "stream",
     "text": [
      "INFO:tensorflow:Assets written to: C:/Users/User/Time_series/checkpoints/exercices\\model_1_window_size_11_dense\\assets\n"
     ]
    },
    {
     "name": "stderr",
     "output_type": "stream",
     "text": [
      "INFO:tensorflow:Assets written to: C:/Users/User/Time_series/checkpoints/exercices\\model_1_window_size_11_dense\\assets\n",
      "WARNING:absl:Found untraced functions such as _update_step_xla while saving (showing 1 of 1). These functions will not be directly callable after loading.\n"
     ]
    },
    {
     "name": "stdout",
     "output_type": "stream",
     "text": [
      "INFO:tensorflow:Assets written to: C:/Users/User/Time_series/checkpoints/exercices\\model_1_window_size_11_dense\\assets\n"
     ]
    },
    {
     "name": "stderr",
     "output_type": "stream",
     "text": [
      "INFO:tensorflow:Assets written to: C:/Users/User/Time_series/checkpoints/exercices\\model_1_window_size_11_dense\\assets\n"
     ]
    },
    {
     "name": "stdout",
     "output_type": "stream",
     "text": [
      "18/18 [==============================] - 0s 425us/step\n"
     ]
    },
    {
     "name": "stderr",
     "output_type": "stream",
     "text": [
      "WARNING:absl:Found untraced functions such as _update_step_xla while saving (showing 1 of 1). These functions will not be directly callable after loading.\n"
     ]
    },
    {
     "name": "stdout",
     "output_type": "stream",
     "text": [
      "INFO:tensorflow:Assets written to: C:/Users/User/Time_series/checkpoints/exercices\\model_1_window_size_12_dense\\assets\n"
     ]
    },
    {
     "name": "stderr",
     "output_type": "stream",
     "text": [
      "INFO:tensorflow:Assets written to: C:/Users/User/Time_series/checkpoints/exercices\\model_1_window_size_12_dense\\assets\n",
      "WARNING:absl:Found untraced functions such as _update_step_xla while saving (showing 1 of 1). These functions will not be directly callable after loading.\n"
     ]
    },
    {
     "name": "stdout",
     "output_type": "stream",
     "text": [
      "INFO:tensorflow:Assets written to: C:/Users/User/Time_series/checkpoints/exercices\\model_1_window_size_12_dense\\assets\n"
     ]
    },
    {
     "name": "stderr",
     "output_type": "stream",
     "text": [
      "INFO:tensorflow:Assets written to: C:/Users/User/Time_series/checkpoints/exercices\\model_1_window_size_12_dense\\assets\n",
      "WARNING:absl:Found untraced functions such as _update_step_xla while saving (showing 1 of 1). These functions will not be directly callable after loading.\n"
     ]
    },
    {
     "name": "stdout",
     "output_type": "stream",
     "text": [
      "INFO:tensorflow:Assets written to: C:/Users/User/Time_series/checkpoints/exercices\\model_1_window_size_12_dense\\assets\n"
     ]
    },
    {
     "name": "stderr",
     "output_type": "stream",
     "text": [
      "INFO:tensorflow:Assets written to: C:/Users/User/Time_series/checkpoints/exercices\\model_1_window_size_12_dense\\assets\n",
      "WARNING:absl:Found untraced functions such as _update_step_xla while saving (showing 1 of 1). These functions will not be directly callable after loading.\n"
     ]
    },
    {
     "name": "stdout",
     "output_type": "stream",
     "text": [
      "INFO:tensorflow:Assets written to: C:/Users/User/Time_series/checkpoints/exercices\\model_1_window_size_12_dense\\assets\n"
     ]
    },
    {
     "name": "stderr",
     "output_type": "stream",
     "text": [
      "INFO:tensorflow:Assets written to: C:/Users/User/Time_series/checkpoints/exercices\\model_1_window_size_12_dense\\assets\n",
      "WARNING:absl:Found untraced functions such as _update_step_xla while saving (showing 1 of 1). These functions will not be directly callable after loading.\n"
     ]
    },
    {
     "name": "stdout",
     "output_type": "stream",
     "text": [
      "INFO:tensorflow:Assets written to: C:/Users/User/Time_series/checkpoints/exercices\\model_1_window_size_12_dense\\assets\n"
     ]
    },
    {
     "name": "stderr",
     "output_type": "stream",
     "text": [
      "INFO:tensorflow:Assets written to: C:/Users/User/Time_series/checkpoints/exercices\\model_1_window_size_12_dense\\assets\n",
      "WARNING:absl:Found untraced functions such as _update_step_xla while saving (showing 1 of 1). These functions will not be directly callable after loading.\n"
     ]
    },
    {
     "name": "stdout",
     "output_type": "stream",
     "text": [
      "INFO:tensorflow:Assets written to: C:/Users/User/Time_series/checkpoints/exercices\\model_1_window_size_12_dense\\assets\n"
     ]
    },
    {
     "name": "stderr",
     "output_type": "stream",
     "text": [
      "INFO:tensorflow:Assets written to: C:/Users/User/Time_series/checkpoints/exercices\\model_1_window_size_12_dense\\assets\n",
      "WARNING:absl:Found untraced functions such as _update_step_xla while saving (showing 1 of 1). These functions will not be directly callable after loading.\n"
     ]
    },
    {
     "name": "stdout",
     "output_type": "stream",
     "text": [
      "INFO:tensorflow:Assets written to: C:/Users/User/Time_series/checkpoints/exercices\\model_1_window_size_12_dense\\assets\n"
     ]
    },
    {
     "name": "stderr",
     "output_type": "stream",
     "text": [
      "INFO:tensorflow:Assets written to: C:/Users/User/Time_series/checkpoints/exercices\\model_1_window_size_12_dense\\assets\n",
      "WARNING:absl:Found untraced functions such as _update_step_xla while saving (showing 1 of 1). These functions will not be directly callable after loading.\n"
     ]
    },
    {
     "name": "stdout",
     "output_type": "stream",
     "text": [
      "INFO:tensorflow:Assets written to: C:/Users/User/Time_series/checkpoints/exercices\\model_1_window_size_12_dense\\assets\n"
     ]
    },
    {
     "name": "stderr",
     "output_type": "stream",
     "text": [
      "INFO:tensorflow:Assets written to: C:/Users/User/Time_series/checkpoints/exercices\\model_1_window_size_12_dense\\assets\n",
      "WARNING:absl:Found untraced functions such as _update_step_xla while saving (showing 1 of 1). These functions will not be directly callable after loading.\n"
     ]
    },
    {
     "name": "stdout",
     "output_type": "stream",
     "text": [
      "INFO:tensorflow:Assets written to: C:/Users/User/Time_series/checkpoints/exercices\\model_1_window_size_12_dense\\assets\n"
     ]
    },
    {
     "name": "stderr",
     "output_type": "stream",
     "text": [
      "INFO:tensorflow:Assets written to: C:/Users/User/Time_series/checkpoints/exercices\\model_1_window_size_12_dense\\assets\n",
      "WARNING:absl:Found untraced functions such as _update_step_xla while saving (showing 1 of 1). These functions will not be directly callable after loading.\n"
     ]
    },
    {
     "name": "stdout",
     "output_type": "stream",
     "text": [
      "INFO:tensorflow:Assets written to: C:/Users/User/Time_series/checkpoints/exercices\\model_1_window_size_12_dense\\assets\n"
     ]
    },
    {
     "name": "stderr",
     "output_type": "stream",
     "text": [
      "INFO:tensorflow:Assets written to: C:/Users/User/Time_series/checkpoints/exercices\\model_1_window_size_12_dense\\assets\n",
      "WARNING:absl:Found untraced functions such as _update_step_xla while saving (showing 1 of 1). These functions will not be directly callable after loading.\n"
     ]
    },
    {
     "name": "stdout",
     "output_type": "stream",
     "text": [
      "INFO:tensorflow:Assets written to: C:/Users/User/Time_series/checkpoints/exercices\\model_1_window_size_12_dense\\assets\n"
     ]
    },
    {
     "name": "stderr",
     "output_type": "stream",
     "text": [
      "INFO:tensorflow:Assets written to: C:/Users/User/Time_series/checkpoints/exercices\\model_1_window_size_12_dense\\assets\n",
      "WARNING:absl:Found untraced functions such as _update_step_xla while saving (showing 1 of 1). These functions will not be directly callable after loading.\n"
     ]
    },
    {
     "name": "stdout",
     "output_type": "stream",
     "text": [
      "INFO:tensorflow:Assets written to: C:/Users/User/Time_series/checkpoints/exercices\\model_1_window_size_12_dense\\assets\n"
     ]
    },
    {
     "name": "stderr",
     "output_type": "stream",
     "text": [
      "INFO:tensorflow:Assets written to: C:/Users/User/Time_series/checkpoints/exercices\\model_1_window_size_12_dense\\assets\n",
      "WARNING:absl:Found untraced functions such as _update_step_xla while saving (showing 1 of 1). These functions will not be directly callable after loading.\n"
     ]
    },
    {
     "name": "stdout",
     "output_type": "stream",
     "text": [
      "INFO:tensorflow:Assets written to: C:/Users/User/Time_series/checkpoints/exercices\\model_1_window_size_12_dense\\assets\n"
     ]
    },
    {
     "name": "stderr",
     "output_type": "stream",
     "text": [
      "INFO:tensorflow:Assets written to: C:/Users/User/Time_series/checkpoints/exercices\\model_1_window_size_12_dense\\assets\n",
      "WARNING:absl:Found untraced functions such as _update_step_xla while saving (showing 1 of 1). These functions will not be directly callable after loading.\n"
     ]
    },
    {
     "name": "stdout",
     "output_type": "stream",
     "text": [
      "INFO:tensorflow:Assets written to: C:/Users/User/Time_series/checkpoints/exercices\\model_1_window_size_12_dense\\assets\n"
     ]
    },
    {
     "name": "stderr",
     "output_type": "stream",
     "text": [
      "INFO:tensorflow:Assets written to: C:/Users/User/Time_series/checkpoints/exercices\\model_1_window_size_12_dense\\assets\n",
      "WARNING:absl:Found untraced functions such as _update_step_xla while saving (showing 1 of 1). These functions will not be directly callable after loading.\n"
     ]
    },
    {
     "name": "stdout",
     "output_type": "stream",
     "text": [
      "INFO:tensorflow:Assets written to: C:/Users/User/Time_series/checkpoints/exercices\\model_1_window_size_12_dense\\assets\n"
     ]
    },
    {
     "name": "stderr",
     "output_type": "stream",
     "text": [
      "INFO:tensorflow:Assets written to: C:/Users/User/Time_series/checkpoints/exercices\\model_1_window_size_12_dense\\assets\n",
      "WARNING:absl:Found untraced functions such as _update_step_xla while saving (showing 1 of 1). These functions will not be directly callable after loading.\n"
     ]
    },
    {
     "name": "stdout",
     "output_type": "stream",
     "text": [
      "INFO:tensorflow:Assets written to: C:/Users/User/Time_series/checkpoints/exercices\\model_1_window_size_12_dense\\assets\n"
     ]
    },
    {
     "name": "stderr",
     "output_type": "stream",
     "text": [
      "INFO:tensorflow:Assets written to: C:/Users/User/Time_series/checkpoints/exercices\\model_1_window_size_12_dense\\assets\n",
      "WARNING:absl:Found untraced functions such as _update_step_xla while saving (showing 1 of 1). These functions will not be directly callable after loading.\n"
     ]
    },
    {
     "name": "stdout",
     "output_type": "stream",
     "text": [
      "INFO:tensorflow:Assets written to: C:/Users/User/Time_series/checkpoints/exercices\\model_1_window_size_12_dense\\assets\n"
     ]
    },
    {
     "name": "stderr",
     "output_type": "stream",
     "text": [
      "INFO:tensorflow:Assets written to: C:/Users/User/Time_series/checkpoints/exercices\\model_1_window_size_12_dense\\assets\n",
      "WARNING:absl:Found untraced functions such as _update_step_xla while saving (showing 1 of 1). These functions will not be directly callable after loading.\n"
     ]
    },
    {
     "name": "stdout",
     "output_type": "stream",
     "text": [
      "INFO:tensorflow:Assets written to: C:/Users/User/Time_series/checkpoints/exercices\\model_1_window_size_12_dense\\assets\n"
     ]
    },
    {
     "name": "stderr",
     "output_type": "stream",
     "text": [
      "INFO:tensorflow:Assets written to: C:/Users/User/Time_series/checkpoints/exercices\\model_1_window_size_12_dense\\assets\n",
      "WARNING:absl:Found untraced functions such as _update_step_xla while saving (showing 1 of 1). These functions will not be directly callable after loading.\n"
     ]
    },
    {
     "name": "stdout",
     "output_type": "stream",
     "text": [
      "INFO:tensorflow:Assets written to: C:/Users/User/Time_series/checkpoints/exercices\\model_1_window_size_12_dense\\assets\n"
     ]
    },
    {
     "name": "stderr",
     "output_type": "stream",
     "text": [
      "INFO:tensorflow:Assets written to: C:/Users/User/Time_series/checkpoints/exercices\\model_1_window_size_12_dense\\assets\n",
      "WARNING:absl:Found untraced functions such as _update_step_xla while saving (showing 1 of 1). These functions will not be directly callable after loading.\n"
     ]
    },
    {
     "name": "stdout",
     "output_type": "stream",
     "text": [
      "INFO:tensorflow:Assets written to: C:/Users/User/Time_series/checkpoints/exercices\\model_1_window_size_12_dense\\assets\n"
     ]
    },
    {
     "name": "stderr",
     "output_type": "stream",
     "text": [
      "INFO:tensorflow:Assets written to: C:/Users/User/Time_series/checkpoints/exercices\\model_1_window_size_12_dense\\assets\n",
      "WARNING:absl:Found untraced functions such as _update_step_xla while saving (showing 1 of 1). These functions will not be directly callable after loading.\n"
     ]
    },
    {
     "name": "stdout",
     "output_type": "stream",
     "text": [
      "INFO:tensorflow:Assets written to: C:/Users/User/Time_series/checkpoints/exercices\\model_1_window_size_12_dense\\assets\n"
     ]
    },
    {
     "name": "stderr",
     "output_type": "stream",
     "text": [
      "INFO:tensorflow:Assets written to: C:/Users/User/Time_series/checkpoints/exercices\\model_1_window_size_12_dense\\assets\n",
      "WARNING:absl:Found untraced functions such as _update_step_xla while saving (showing 1 of 1). These functions will not be directly callable after loading.\n"
     ]
    },
    {
     "name": "stdout",
     "output_type": "stream",
     "text": [
      "INFO:tensorflow:Assets written to: C:/Users/User/Time_series/checkpoints/exercices\\model_1_window_size_12_dense\\assets\n"
     ]
    },
    {
     "name": "stderr",
     "output_type": "stream",
     "text": [
      "INFO:tensorflow:Assets written to: C:/Users/User/Time_series/checkpoints/exercices\\model_1_window_size_12_dense\\assets\n",
      "WARNING:absl:Found untraced functions such as _update_step_xla while saving (showing 1 of 1). These functions will not be directly callable after loading.\n"
     ]
    },
    {
     "name": "stdout",
     "output_type": "stream",
     "text": [
      "INFO:tensorflow:Assets written to: C:/Users/User/Time_series/checkpoints/exercices\\model_1_window_size_12_dense\\assets\n"
     ]
    },
    {
     "name": "stderr",
     "output_type": "stream",
     "text": [
      "INFO:tensorflow:Assets written to: C:/Users/User/Time_series/checkpoints/exercices\\model_1_window_size_12_dense\\assets\n",
      "WARNING:absl:Found untraced functions such as _update_step_xla while saving (showing 1 of 1). These functions will not be directly callable after loading.\n"
     ]
    },
    {
     "name": "stdout",
     "output_type": "stream",
     "text": [
      "INFO:tensorflow:Assets written to: C:/Users/User/Time_series/checkpoints/exercices\\model_1_window_size_12_dense\\assets\n"
     ]
    },
    {
     "name": "stderr",
     "output_type": "stream",
     "text": [
      "INFO:tensorflow:Assets written to: C:/Users/User/Time_series/checkpoints/exercices\\model_1_window_size_12_dense\\assets\n",
      "WARNING:absl:Found untraced functions such as _update_step_xla while saving (showing 1 of 1). These functions will not be directly callable after loading.\n"
     ]
    },
    {
     "name": "stdout",
     "output_type": "stream",
     "text": [
      "INFO:tensorflow:Assets written to: C:/Users/User/Time_series/checkpoints/exercices\\model_1_window_size_12_dense\\assets\n"
     ]
    },
    {
     "name": "stderr",
     "output_type": "stream",
     "text": [
      "INFO:tensorflow:Assets written to: C:/Users/User/Time_series/checkpoints/exercices\\model_1_window_size_12_dense\\assets\n",
      "WARNING:absl:Found untraced functions such as _update_step_xla while saving (showing 1 of 1). These functions will not be directly callable after loading.\n"
     ]
    },
    {
     "name": "stdout",
     "output_type": "stream",
     "text": [
      "INFO:tensorflow:Assets written to: C:/Users/User/Time_series/checkpoints/exercices\\model_1_window_size_12_dense\\assets\n"
     ]
    },
    {
     "name": "stderr",
     "output_type": "stream",
     "text": [
      "INFO:tensorflow:Assets written to: C:/Users/User/Time_series/checkpoints/exercices\\model_1_window_size_12_dense\\assets\n"
     ]
    },
    {
     "name": "stdout",
     "output_type": "stream",
     "text": [
      "18/18 [==============================] - 0s 528us/step\n"
     ]
    }
   ],
   "source": [
    "# Determine metrics for WINDOW_SIZE varying from 2 to 12\n",
    "metrics_for_windows_2_12 = get_metrics_by_window_size(prices,\n",
    "                                                      start_WINDOW_SIZE=2,\n",
    "                                                      end_WINDOW_SIZE=12,\n",
    "                                                      HORIZON=1)"
   ]
  },
  {
   "cell_type": "code",
   "execution_count": 155,
   "id": "5d9effe9",
   "metadata": {},
   "outputs": [
    {
     "data": {
      "text/html": [
       "<div>\n",
       "<style scoped>\n",
       "    .dataframe tbody tr th:only-of-type {\n",
       "        vertical-align: middle;\n",
       "    }\n",
       "\n",
       "    .dataframe tbody tr th {\n",
       "        vertical-align: top;\n",
       "    }\n",
       "\n",
       "    .dataframe thead th {\n",
       "        text-align: right;\n",
       "    }\n",
       "</style>\n",
       "<table border=\"1\" class=\"dataframe\">\n",
       "  <thead>\n",
       "    <tr style=\"text-align: right;\">\n",
       "      <th></th>\n",
       "      <th>mae</th>\n",
       "      <th>mse</th>\n",
       "      <th>rmse</th>\n",
       "      <th>mape</th>\n",
       "      <th>mase</th>\n",
       "    </tr>\n",
       "  </thead>\n",
       "  <tbody>\n",
       "    <tr>\n",
       "      <th>window_2</th>\n",
       "      <td>0.027434</td>\n",
       "      <td>0.002762</td>\n",
       "      <td>0.052550</td>\n",
       "      <td>5.027615</td>\n",
       "      <td>3.058371</td>\n",
       "    </tr>\n",
       "    <tr>\n",
       "      <th>window_3</th>\n",
       "      <td>0.018759</td>\n",
       "      <td>0.001189</td>\n",
       "      <td>0.034483</td>\n",
       "      <td>4.333563</td>\n",
       "      <td>2.091259</td>\n",
       "    </tr>\n",
       "    <tr>\n",
       "      <th>window_4</th>\n",
       "      <td>0.020006</td>\n",
       "      <td>0.001440</td>\n",
       "      <td>0.037952</td>\n",
       "      <td>4.085475</td>\n",
       "      <td>2.230257</td>\n",
       "    </tr>\n",
       "    <tr>\n",
       "      <th>window_5</th>\n",
       "      <td>0.015585</td>\n",
       "      <td>0.000829</td>\n",
       "      <td>0.028797</td>\n",
       "      <td>3.778246</td>\n",
       "      <td>1.737431</td>\n",
       "    </tr>\n",
       "    <tr>\n",
       "      <th>window_6</th>\n",
       "      <td>0.009322</td>\n",
       "      <td>0.000298</td>\n",
       "      <td>0.017274</td>\n",
       "      <td>2.745227</td>\n",
       "      <td>1.039208</td>\n",
       "    </tr>\n",
       "    <tr>\n",
       "      <th>window_7</th>\n",
       "      <td>0.009479</td>\n",
       "      <td>0.000315</td>\n",
       "      <td>0.017750</td>\n",
       "      <td>2.612821</td>\n",
       "      <td>1.054893</td>\n",
       "    </tr>\n",
       "    <tr>\n",
       "      <th>window_8</th>\n",
       "      <td>0.010728</td>\n",
       "      <td>0.000358</td>\n",
       "      <td>0.018933</td>\n",
       "      <td>3.256697</td>\n",
       "      <td>1.193884</td>\n",
       "    </tr>\n",
       "    <tr>\n",
       "      <th>window_9</th>\n",
       "      <td>0.009392</td>\n",
       "      <td>0.000304</td>\n",
       "      <td>0.017422</td>\n",
       "      <td>2.745236</td>\n",
       "      <td>1.045165</td>\n",
       "    </tr>\n",
       "    <tr>\n",
       "      <th>window_10</th>\n",
       "      <td>0.009852</td>\n",
       "      <td>0.000319</td>\n",
       "      <td>0.017859</td>\n",
       "      <td>2.881498</td>\n",
       "      <td>1.096341</td>\n",
       "    </tr>\n",
       "    <tr>\n",
       "      <th>window_11</th>\n",
       "      <td>0.010015</td>\n",
       "      <td>0.000331</td>\n",
       "      <td>0.018198</td>\n",
       "      <td>2.914722</td>\n",
       "      <td>1.114464</td>\n",
       "    </tr>\n",
       "    <tr>\n",
       "      <th>window_12</th>\n",
       "      <td>0.009611</td>\n",
       "      <td>0.000317</td>\n",
       "      <td>0.017795</td>\n",
       "      <td>2.710911</td>\n",
       "      <td>1.068541</td>\n",
       "    </tr>\n",
       "  </tbody>\n",
       "</table>\n",
       "</div>"
      ],
      "text/plain": [
       "                mae       mse      rmse      mape      mase\n",
       "window_2   0.027434  0.002762  0.052550  5.027615  3.058371\n",
       "window_3   0.018759  0.001189  0.034483  4.333563  2.091259\n",
       "window_4   0.020006  0.001440  0.037952  4.085475  2.230257\n",
       "window_5   0.015585  0.000829  0.028797  3.778246  1.737431\n",
       "window_6   0.009322  0.000298  0.017274  2.745227  1.039208\n",
       "window_7   0.009479  0.000315  0.017750  2.612821  1.054893\n",
       "window_8   0.010728  0.000358  0.018933  3.256697  1.193884\n",
       "window_9   0.009392  0.000304  0.017422  2.745236  1.045165\n",
       "window_10  0.009852  0.000319  0.017859  2.881498  1.096341\n",
       "window_11  0.010015  0.000331  0.018198  2.914722  1.114464\n",
       "window_12  0.009611  0.000317  0.017795  2.710911  1.068541"
      ]
     },
     "execution_count": 155,
     "metadata": {},
     "output_type": "execute_result"
    }
   ],
   "source": [
    "   # Turn list of results into a dataframe \n",
    "metrics_for_windows_2_12"
   ]
  },
  {
   "cell_type": "code",
   "execution_count": 156,
   "id": "3716dd31",
   "metadata": {},
   "outputs": [
    {
     "data": {
      "image/png": "[encoded data removed]",
      "text/plain": [
       "<Figure size 1000x700 with 1 Axes>"
      ]
     },
     "metadata": {},
     "output_type": "display_data"
    }
   ],
   "source": [
    "# Sort model results by MAE and plot them\n",
    "metrics_for_windows_2_12[[\"mae\"]].sort_values(by=\"mae\").plot(figsize=(10, 7), kind=\"bar\");"
   ]
  },
  {
   "cell_type": "markdown",
   "id": "bc8d610c",
   "metadata": {},
   "source": [
    "It works best with a window of size 6"
   ]
  },
  {
   "cell_type": "markdown",
   "id": "be44c882",
   "metadata": {},
   "source": [
    "## 4. Create a windowed dataset just like the ones we used for model_1 using tf.keras.preprocessing.timeseries_dataset_from_array() and retrain model_1 using the recreated dataset."
   ]
  },
  {
   "cell_type": "code",
   "execution_count": 70,
   "id": "5098b8f5",
   "metadata": {},
   "outputs": [
    {
     "data": {
      "text/plain": [
       "(2781, 2781)"
      ]
     },
     "execution_count": 70,
     "metadata": {},
     "output_type": "execute_result"
    }
   ],
   "source": [
    "# Recreate windowed data with \n",
    "full_windows, full_labels = make_windows(prices, window_size=6)\n",
    "len(full_windows), len(full_labels)"
   ]
  },
  {
   "cell_type": "code",
   "execution_count": 71,
   "id": "4caeec46",
   "metadata": {},
   "outputs": [
    {
     "data": {
      "text/plain": [
       "(2224, 557, 2224, 557)"
      ]
     },
     "execution_count": 71,
     "metadata": {},
     "output_type": "execute_result"
    }
   ],
   "source": [
    "# Create train and test windows\n",
    "train_windows, test_windows, train_labels, test_labels = make_train_test_splits(full_windows, full_labels)\n",
    "len(train_windows), len(test_windows), len(train_labels), len(test_labels)"
   ]
  },
  {
   "cell_type": "code",
   "execution_count": 31,
   "id": "74d1dec3",
   "metadata": {},
   "outputs": [],
   "source": [
    "import tensorflow as tf"
   ]
  },
  {
   "cell_type": "code",
   "execution_count": 32,
   "id": "45917cbf",
   "metadata": {},
   "outputs": [],
   "source": [
    "train_dataset = tf.keras.utils.timeseries_dataset_from_array(train_windows,\n",
    "                                                             train_labels,\n",
    "                                                             sequence_length=1)"
   ]
  },
  {
   "cell_type": "code",
   "execution_count": 160,
   "id": "6167f793",
   "metadata": {},
   "outputs": [
    {
     "name": "stdout",
     "output_type": "stream",
     "text": [
      "Epoch 1/100\n",
      " 3/18 [====>.........................] - ETA: 2s - loss: 0.0070 - mae: 0.0070 - mse: 8.9735e-05"
     ]
    },
    {
     "name": "stderr",
     "output_type": "stream",
     "text": [
      "WARNING:absl:Found untraced functions such as _update_step_xla while saving (showing 1 of 1). These functions will not be directly callable after loading.\n"
     ]
    },
    {
     "name": "stdout",
     "output_type": "stream",
     "text": [
      "INFO:tensorflow:Assets written to: C:/Users/User/Time_series/checkpoints/exercices\\model_1_dense\\assets\n"
     ]
    },
    {
     "name": "stderr",
     "output_type": "stream",
     "text": [
      "INFO:tensorflow:Assets written to: C:/Users/User/Time_series/checkpoints/exercices\\model_1_dense\\assets\n"
     ]
    },
    {
     "name": "stdout",
     "output_type": "stream",
     "text": [
      "18/18 [==============================] - 1s 42ms/step - loss: 0.0437 - mae: 0.0437 - mse: 0.0052 - val_loss: 0.2467 - val_mae: 0.2467 - val_mse: 0.1243\n",
      "Epoch 2/100\n",
      " 1/18 [>.............................] - ETA: 0s - loss: 0.0138 - mae: 0.0138 - mse: 1.9205e-04"
     ]
    },
    {
     "name": "stderr",
     "output_type": "stream",
     "text": [
      "WARNING:absl:Found untraced functions such as _update_step_xla while saving (showing 1 of 1). These functions will not be directly callable after loading.\n"
     ]
    },
    {
     "name": "stdout",
     "output_type": "stream",
     "text": [
      "INFO:tensorflow:Assets written to: C:/Users/User/Time_series/checkpoints/exercices\\model_1_dense\\assets\n"
     ]
    },
    {
     "name": "stderr",
     "output_type": "stream",
     "text": [
      "INFO:tensorflow:Assets written to: C:/Users/User/Time_series/checkpoints/exercices\\model_1_dense\\assets\n"
     ]
    },
    {
     "name": "stdout",
     "output_type": "stream",
     "text": [
      "18/18 [==============================] - 0s 19ms/step - loss: 0.0203 - mae: 0.0203 - mse: 6.7676e-04 - val_loss: 0.0902 - val_mae: 0.0902 - val_mse: 0.0221\n",
      "Epoch 3/100\n",
      " 1/18 [>.............................] - ETA: 0s - loss: 0.0107 - mae: 0.0107 - mse: 1.1630e-04"
     ]
    },
    {
     "name": "stderr",
     "output_type": "stream",
     "text": [
      "WARNING:absl:Found untraced functions such as _update_step_xla while saving (showing 1 of 1). These functions will not be directly callable after loading.\n"
     ]
    },
    {
     "name": "stdout",
     "output_type": "stream",
     "text": [
      "INFO:tensorflow:Assets written to: C:/Users/User/Time_series/checkpoints/exercices\\model_1_dense\\assets\n"
     ]
    },
    {
     "name": "stderr",
     "output_type": "stream",
     "text": [
      "INFO:tensorflow:Assets written to: C:/Users/User/Time_series/checkpoints/exercices\\model_1_dense\\assets\n"
     ]
    },
    {
     "name": "stdout",
     "output_type": "stream",
     "text": [
      "18/18 [==============================] - 0s 19ms/step - loss: 0.0071 - mae: 0.0071 - mse: 8.0050e-05 - val_loss: 0.0244 - val_mae: 0.0244 - val_mse: 0.0020\n",
      "Epoch 4/100\n",
      "18/18 [==============================] - 0s 2ms/step - loss: 0.0093 - mae: 0.0093 - mse: 1.2818e-04 - val_loss: 0.0299 - val_mae: 0.0299 - val_mse: 0.0029\n",
      "Epoch 5/100\n",
      "18/18 [==============================] - 0s 2ms/step - loss: 0.0079 - mae: 0.0079 - mse: 1.6421e-04 - val_loss: 0.0350 - val_mae: 0.0350 - val_mse: 0.0040\n",
      "Epoch 6/100\n",
      "18/18 [==============================] - 0s 2ms/step - loss: 0.0124 - mae: 0.0124 - mse: 1.9813e-04 - val_loss: 0.0410 - val_mae: 0.0410 - val_mse: 0.0045\n",
      "Epoch 7/100\n",
      "18/18 [==============================] - 0s 2ms/step - loss: 0.0120 - mae: 0.0120 - mse: 3.1643e-04 - val_loss: 0.0278 - val_mae: 0.0278 - val_mse: 0.0025\n",
      "Epoch 8/100\n",
      " 1/18 [>.............................] - ETA: 0s - loss: 0.0035 - mae: 0.0035 - mse: 1.4627e-05"
     ]
    },
    {
     "name": "stderr",
     "output_type": "stream",
     "text": [
      "WARNING:absl:Found untraced functions such as _update_step_xla while saving (showing 1 of 1). These functions will not be directly callable after loading.\n"
     ]
    },
    {
     "name": "stdout",
     "output_type": "stream",
     "text": [
      "INFO:tensorflow:Assets written to: C:/Users/User/Time_series/checkpoints/exercices\\model_1_dense\\assets\n"
     ]
    },
    {
     "name": "stderr",
     "output_type": "stream",
     "text": [
      "INFO:tensorflow:Assets written to: C:/Users/User/Time_series/checkpoints/exercices\\model_1_dense\\assets\n"
     ]
    },
    {
     "name": "stdout",
     "output_type": "stream",
     "text": [
      "18/18 [==============================] - 0s 19ms/step - loss: 0.0099 - mae: 0.0099 - mse: 2.5920e-04 - val_loss: 0.0170 - val_mae: 0.0170 - val_mse: 8.4063e-04\n",
      "Epoch 9/100\n",
      "18/18 [==============================] - 0s 2ms/step - loss: 0.0141 - mae: 0.0141 - mse: 3.4336e-04 - val_loss: 0.0332 - val_mae: 0.0332 - val_mse: 0.0032\n",
      "Epoch 10/100\n",
      "18/18 [==============================] - 0s 2ms/step - loss: 0.0088 - mae: 0.0088 - mse: 1.8740e-04 - val_loss: 0.0198 - val_mae: 0.0198 - val_mse: 0.0013\n",
      "Epoch 11/100\n",
      "18/18 [==============================] - 0s 2ms/step - loss: 0.0119 - mae: 0.0119 - mse: 2.8938e-04 - val_loss: 0.0344 - val_mae: 0.0344 - val_mse: 0.0034\n",
      "Epoch 12/100\n",
      "18/18 [==============================] - 0s 2ms/step - loss: 0.0077 - mae: 0.0077 - mse: 1.4952e-04 - val_loss: 0.0215 - val_mae: 0.0215 - val_mse: 0.0016\n",
      "Epoch 13/100\n",
      "18/18 [==============================] - 0s 3ms/step - loss: 0.0121 - mae: 0.0121 - mse: 2.8722e-04 - val_loss: 0.0330 - val_mae: 0.0330 - val_mse: 0.0032\n",
      "Epoch 14/100\n",
      "18/18 [==============================] - 0s 2ms/step - loss: 0.0082 - mae: 0.0082 - mse: 1.6189e-04 - val_loss: 0.0208 - val_mae: 0.0208 - val_mse: 0.0015\n",
      "Epoch 15/100\n",
      "18/18 [==============================] - 0s 2ms/step - loss: 0.0115 - mae: 0.0115 - mse: 2.6537e-04 - val_loss: 0.0333 - val_mae: 0.0333 - val_mse: 0.0033\n",
      "Epoch 16/100\n",
      "18/18 [==============================] - 0s 2ms/step - loss: 0.0074 - mae: 0.0074 - mse: 1.3929e-04 - val_loss: 0.0219 - val_mae: 0.0219 - val_mse: 0.0017\n",
      "Epoch 17/100\n",
      "18/18 [==============================] - 0s 2ms/step - loss: 0.0113 - mae: 0.0113 - mse: 2.5411e-04 - val_loss: 0.0322 - val_mae: 0.0322 - val_mse: 0.0032\n",
      "Epoch 18/100\n",
      "18/18 [==============================] - 0s 2ms/step - loss: 0.0076 - mae: 0.0076 - mse: 1.4250e-04 - val_loss: 0.0216 - val_mae: 0.0216 - val_mse: 0.0016\n",
      "Epoch 19/100\n",
      "18/18 [==============================] - 0s 2ms/step - loss: 0.0108 - mae: 0.0108 - mse: 2.3242e-04 - val_loss: 0.0320 - val_mae: 0.0320 - val_mse: 0.0032\n",
      "Epoch 20/100\n",
      "18/18 [==============================] - 0s 2ms/step - loss: 0.0070 - mae: 0.0070 - mse: 1.2336e-04 - val_loss: 0.0225 - val_mae: 0.0225 - val_mse: 0.0018\n",
      "Epoch 21/100\n",
      "18/18 [==============================] - 0s 2ms/step - loss: 0.0109 - mae: 0.0109 - mse: 2.3093e-04 - val_loss: 0.0305 - val_mae: 0.0305 - val_mse: 0.0030\n",
      "Epoch 22/100\n",
      "18/18 [==============================] - 0s 2ms/step - loss: 0.0076 - mae: 0.0076 - mse: 1.3903e-04 - val_loss: 0.0216 - val_mae: 0.0216 - val_mse: 0.0016\n",
      "Epoch 23/100\n",
      "18/18 [==============================] - 0s 2ms/step - loss: 0.0105 - mae: 0.0105 - mse: 2.2018e-04 - val_loss: 0.0312 - val_mae: 0.0312 - val_mse: 0.0031\n",
      "Epoch 24/100\n",
      "18/18 [==============================] - 0s 2ms/step - loss: 0.0069 - mae: 0.0069 - mse: 1.2054e-04 - val_loss: 0.0224 - val_mae: 0.0224 - val_mse: 0.0018\n",
      "Epoch 25/100\n",
      "18/18 [==============================] - 0s 2ms/step - loss: 0.0105 - mae: 0.0105 - mse: 2.1409e-04 - val_loss: 0.0299 - val_mae: 0.0299 - val_mse: 0.0029\n",
      "Epoch 26/100\n",
      "18/18 [==============================] - 0s 2ms/step - loss: 0.0070 - mae: 0.0070 - mse: 1.2318e-04 - val_loss: 0.0219 - val_mae: 0.0219 - val_mse: 0.0017\n",
      "Epoch 27/100\n",
      "18/18 [==============================] - 0s 2ms/step - loss: 0.0105 - mae: 0.0105 - mse: 2.1293e-04 - val_loss: 0.0291 - val_mae: 0.0291 - val_mse: 0.0028\n",
      "Epoch 28/100\n",
      "18/18 [==============================] - 0s 2ms/step - loss: 0.0072 - mae: 0.0072 - mse: 1.2874e-04 - val_loss: 0.0214 - val_mae: 0.0214 - val_mse: 0.0016\n",
      "Epoch 29/100\n",
      "18/18 [==============================] - 0s 2ms/step - loss: 0.0102 - mae: 0.0102 - mse: 2.0348e-04 - val_loss: 0.0296 - val_mae: 0.0296 - val_mse: 0.0029\n",
      "Epoch 30/100\n",
      "18/18 [==============================] - 0s 2ms/step - loss: 0.0068 - mae: 0.0068 - mse: 1.1657e-04 - val_loss: 0.0221 - val_mae: 0.0221 - val_mse: 0.0017\n",
      "Epoch 31/100\n",
      "18/18 [==============================] - 0s 2ms/step - loss: 0.0101 - mae: 0.0101 - mse: 1.9653e-04 - val_loss: 0.0285 - val_mae: 0.0285 - val_mse: 0.0027\n",
      "Epoch 32/100\n",
      "18/18 [==============================] - 0s 2ms/step - loss: 0.0069 - mae: 0.0069 - mse: 1.1894e-04 - val_loss: 0.0219 - val_mae: 0.0219 - val_mse: 0.0017\n",
      "Epoch 33/100\n",
      "18/18 [==============================] - 0s 2ms/step - loss: 0.0100 - mae: 0.0100 - mse: 1.9463e-04 - val_loss: 0.0290 - val_mae: 0.0290 - val_mse: 0.0028\n",
      "Epoch 34/100\n",
      "18/18 [==============================] - 0s 2ms/step - loss: 0.0068 - mae: 0.0068 - mse: 1.1763e-04 - val_loss: 0.0224 - val_mae: 0.0224 - val_mse: 0.0018\n",
      "Epoch 35/100\n",
      "18/18 [==============================] - 0s 2ms/step - loss: 0.0097 - mae: 0.0097 - mse: 1.8563e-04 - val_loss: 0.0297 - val_mae: 0.0297 - val_mse: 0.0029\n",
      "Epoch 36/100\n",
      "18/18 [==============================] - 0s 2ms/step - loss: 0.0065 - mae: 0.0065 - mse: 1.0627e-04 - val_loss: 0.0232 - val_mae: 0.0232 - val_mse: 0.0019\n",
      "Epoch 37/100\n",
      "18/18 [==============================] - 0s 2ms/step - loss: 0.0093 - mae: 0.0093 - mse: 1.6725e-04 - val_loss: 0.0288 - val_mae: 0.0288 - val_mse: 0.0028\n",
      "Epoch 38/100\n",
      "18/18 [==============================] - 0s 2ms/step - loss: 0.0064 - mae: 0.0064 - mse: 1.0270e-04 - val_loss: 0.0244 - val_mae: 0.0244 - val_mse: 0.0021\n",
      "Epoch 39/100\n",
      "18/18 [==============================] - 0s 2ms/step - loss: 0.0093 - mae: 0.0093 - mse: 1.6728e-04 - val_loss: 0.0295 - val_mae: 0.0295 - val_mse: 0.0030\n",
      "Epoch 40/100\n",
      "18/18 [==============================] - 0s 2ms/step - loss: 0.0065 - mae: 0.0065 - mse: 1.0301e-04 - val_loss: 0.0248 - val_mae: 0.0248 - val_mse: 0.0022\n",
      "Epoch 41/100\n",
      "18/18 [==============================] - 0s 2ms/step - loss: 0.0093 - mae: 0.0093 - mse: 1.6768e-04 - val_loss: 0.0299 - val_mae: 0.0299 - val_mse: 0.0031\n",
      "Epoch 42/100\n",
      "18/18 [==============================] - 0s 2ms/step - loss: 0.0064 - mae: 0.0064 - mse: 1.0200e-04 - val_loss: 0.0250 - val_mae: 0.0250 - val_mse: 0.0022\n",
      "Epoch 43/100\n",
      "18/18 [==============================] - 0s 2ms/step - loss: 0.0092 - mae: 0.0092 - mse: 1.6497e-04 - val_loss: 0.0300 - val_mae: 0.0300 - val_mse: 0.0031\n",
      "Epoch 44/100\n",
      "18/18 [==============================] - 0s 2ms/step - loss: 0.0064 - mae: 0.0064 - mse: 1.0029e-04 - val_loss: 0.0255 - val_mae: 0.0255 - val_mse: 0.0023\n",
      "Epoch 45/100\n",
      "18/18 [==============================] - 0s 2ms/step - loss: 0.0092 - mae: 0.0092 - mse: 1.6380e-04 - val_loss: 0.0303 - val_mae: 0.0303 - val_mse: 0.0031\n",
      "Epoch 46/100\n",
      "18/18 [==============================] - 0s 2ms/step - loss: 0.0064 - mae: 0.0064 - mse: 1.0001e-04 - val_loss: 0.0256 - val_mae: 0.0256 - val_mse: 0.0023\n",
      "Epoch 47/100\n",
      "18/18 [==============================] - 0s 2ms/step - loss: 0.0091 - mae: 0.0091 - mse: 1.6233e-04 - val_loss: 0.0300 - val_mae: 0.0300 - val_mse: 0.0031\n",
      "Epoch 48/100\n",
      "18/18 [==============================] - 0s 2ms/step - loss: 0.0064 - mae: 0.0064 - mse: 1.0109e-04 - val_loss: 0.0254 - val_mae: 0.0254 - val_mse: 0.0022\n",
      "Epoch 49/100\n",
      "18/18 [==============================] - 0s 2ms/step - loss: 0.0091 - mae: 0.0091 - mse: 1.6284e-04 - val_loss: 0.0302 - val_mae: 0.0302 - val_mse: 0.0031\n",
      "Epoch 50/100\n",
      "18/18 [==============================] - 0s 2ms/step - loss: 0.0064 - mae: 0.0064 - mse: 1.0004e-04 - val_loss: 0.0256 - val_mae: 0.0256 - val_mse: 0.0023\n",
      "Epoch 51/100\n",
      "18/18 [==============================] - 0s 2ms/step - loss: 0.0091 - mae: 0.0091 - mse: 1.6192e-04 - val_loss: 0.0301 - val_mae: 0.0301 - val_mse: 0.0031\n",
      "Epoch 52/100\n",
      "18/18 [==============================] - 0s 2ms/step - loss: 0.0064 - mae: 0.0064 - mse: 1.0017e-04 - val_loss: 0.0253 - val_mae: 0.0253 - val_mse: 0.0022\n",
      "Epoch 53/100\n",
      "18/18 [==============================] - 0s 2ms/step - loss: 0.0091 - mae: 0.0091 - mse: 1.5958e-04 - val_loss: 0.0300 - val_mae: 0.0300 - val_mse: 0.0031\n",
      "Epoch 54/100\n",
      "18/18 [==============================] - 0s 2ms/step - loss: 0.0064 - mae: 0.0064 - mse: 9.9703e-05 - val_loss: 0.0257 - val_mae: 0.0257 - val_mse: 0.0023\n",
      "Epoch 55/100\n",
      "18/18 [==============================] - 0s 2ms/step - loss: 0.0091 - mae: 0.0091 - mse: 1.6097e-04 - val_loss: 0.0302 - val_mae: 0.0302 - val_mse: 0.0031\n",
      "Epoch 56/100\n",
      "18/18 [==============================] - 0s 2ms/step - loss: 0.0063 - mae: 0.0063 - mse: 9.9090e-05 - val_loss: 0.0254 - val_mae: 0.0254 - val_mse: 0.0023\n",
      "Epoch 57/100\n",
      "18/18 [==============================] - 0s 2ms/step - loss: 0.0090 - mae: 0.0090 - mse: 1.5770e-04 - val_loss: 0.0301 - val_mae: 0.0301 - val_mse: 0.0031\n",
      "Epoch 58/100\n",
      "18/18 [==============================] - 0s 2ms/step - loss: 0.0063 - mae: 0.0063 - mse: 9.8081e-05 - val_loss: 0.0258 - val_mae: 0.0258 - val_mse: 0.0023\n",
      "Epoch 59/100\n",
      "18/18 [==============================] - 0s 2ms/step - loss: 0.0090 - mae: 0.0090 - mse: 1.5733e-04 - val_loss: 0.0301 - val_mae: 0.0301 - val_mse: 0.0031\n",
      "Epoch 60/100\n",
      "18/18 [==============================] - 0s 2ms/step - loss: 0.0064 - mae: 0.0064 - mse: 9.9081e-05 - val_loss: 0.0256 - val_mae: 0.0256 - val_mse: 0.0023\n",
      "Epoch 61/100\n",
      "18/18 [==============================] - 0s 2ms/step - loss: 0.0090 - mae: 0.0090 - mse: 1.5848e-04 - val_loss: 0.0302 - val_mae: 0.0302 - val_mse: 0.0031\n",
      "Epoch 62/100\n",
      "18/18 [==============================] - 0s 2ms/step - loss: 0.0063 - mae: 0.0063 - mse: 9.7631e-05 - val_loss: 0.0257 - val_mae: 0.0257 - val_mse: 0.0023\n",
      "Epoch 63/100\n",
      "18/18 [==============================] - 0s 2ms/step - loss: 0.0089 - mae: 0.0089 - mse: 1.5490e-04 - val_loss: 0.0302 - val_mae: 0.0302 - val_mse: 0.0031\n",
      "Epoch 64/100\n",
      "18/18 [==============================] - 0s 2ms/step - loss: 0.0063 - mae: 0.0063 - mse: 9.7740e-05 - val_loss: 0.0261 - val_mae: 0.0261 - val_mse: 0.0024\n",
      "Epoch 65/100\n",
      "18/18 [==============================] - 0s 2ms/step - loss: 0.0089 - mae: 0.0089 - mse: 1.5577e-04 - val_loss: 0.0297 - val_mae: 0.0297 - val_mse: 0.0030\n",
      "Epoch 66/100\n",
      "18/18 [==============================] - 0s 2ms/step - loss: 0.0064 - mae: 0.0064 - mse: 9.8754e-05 - val_loss: 0.0247 - val_mae: 0.0247 - val_mse: 0.0021\n",
      "Epoch 67/100\n",
      "18/18 [==============================] - 0s 2ms/step - loss: 0.0089 - mae: 0.0089 - mse: 1.5394e-04 - val_loss: 0.0297 - val_mae: 0.0297 - val_mse: 0.0030\n",
      "Epoch 68/100\n",
      "18/18 [==============================] - 0s 2ms/step - loss: 0.0063 - mae: 0.0063 - mse: 9.6499e-05 - val_loss: 0.0259 - val_mae: 0.0259 - val_mse: 0.0023\n",
      "Epoch 69/100\n",
      "18/18 [==============================] - 0s 2ms/step - loss: 0.0089 - mae: 0.0089 - mse: 1.5377e-04 - val_loss: 0.0302 - val_mae: 0.0302 - val_mse: 0.0031\n",
      "Epoch 70/100\n",
      "18/18 [==============================] - 0s 2ms/step - loss: 0.0063 - mae: 0.0063 - mse: 9.7564e-05 - val_loss: 0.0256 - val_mae: 0.0256 - val_mse: 0.0023\n",
      "Epoch 71/100\n",
      "18/18 [==============================] - 0s 2ms/step - loss: 0.0089 - mae: 0.0089 - mse: 1.5351e-04 - val_loss: 0.0304 - val_mae: 0.0304 - val_mse: 0.0032\n",
      "Epoch 72/100\n",
      "18/18 [==============================] - 0s 2ms/step - loss: 0.0063 - mae: 0.0063 - mse: 9.5229e-05 - val_loss: 0.0266 - val_mae: 0.0266 - val_mse: 0.0024\n",
      "Epoch 73/100\n",
      "18/18 [==============================] - 0s 2ms/step - loss: 0.0088 - mae: 0.0088 - mse: 1.5309e-04 - val_loss: 0.0300 - val_mae: 0.0300 - val_mse: 0.0031\n",
      "Epoch 74/100\n",
      "18/18 [==============================] - 0s 2ms/step - loss: 0.0063 - mae: 0.0063 - mse: 9.6479e-05 - val_loss: 0.0248 - val_mae: 0.0248 - val_mse: 0.0022\n",
      "Epoch 75/100\n",
      "18/18 [==============================] - 0s 2ms/step - loss: 0.0088 - mae: 0.0088 - mse: 1.5059e-04 - val_loss: 0.0296 - val_mae: 0.0296 - val_mse: 0.0030\n",
      "Epoch 76/100\n",
      "18/18 [==============================] - 0s 2ms/step - loss: 0.0063 - mae: 0.0063 - mse: 9.5817e-05 - val_loss: 0.0259 - val_mae: 0.0259 - val_mse: 0.0023\n",
      "Epoch 77/100\n",
      "18/18 [==============================] - 0s 2ms/step - loss: 0.0089 - mae: 0.0089 - mse: 1.5384e-04 - val_loss: 0.0304 - val_mae: 0.0304 - val_mse: 0.0032\n",
      "Epoch 78/100\n",
      "18/18 [==============================] - 0s 2ms/step - loss: 0.0062 - mae: 0.0062 - mse: 9.4835e-05 - val_loss: 0.0259 - val_mae: 0.0259 - val_mse: 0.0023\n",
      "Epoch 79/100\n",
      "18/18 [==============================] - 0s 2ms/step - loss: 0.0088 - mae: 0.0088 - mse: 1.5043e-04 - val_loss: 0.0306 - val_mae: 0.0306 - val_mse: 0.0032\n",
      "Epoch 80/100\n",
      "18/18 [==============================] - 0s 2ms/step - loss: 0.0062 - mae: 0.0062 - mse: 9.3829e-05 - val_loss: 0.0267 - val_mae: 0.0267 - val_mse: 0.0025\n",
      "Epoch 81/100\n",
      "18/18 [==============================] - 0s 2ms/step - loss: 0.0087 - mae: 0.0087 - mse: 1.4927e-04 - val_loss: 0.0300 - val_mae: 0.0300 - val_mse: 0.0031\n",
      "Epoch 82/100\n",
      "18/18 [==============================] - 0s 2ms/step - loss: 0.0063 - mae: 0.0063 - mse: 9.5552e-05 - val_loss: 0.0250 - val_mae: 0.0250 - val_mse: 0.0022\n",
      "Epoch 83/100\n",
      "18/18 [==============================] - 0s 2ms/step - loss: 0.0088 - mae: 0.0088 - mse: 1.4979e-04 - val_loss: 0.0298 - val_mae: 0.0298 - val_mse: 0.0031\n",
      "Epoch 84/100\n",
      "18/18 [==============================] - 0s 2ms/step - loss: 0.0062 - mae: 0.0062 - mse: 9.3698e-05 - val_loss: 0.0261 - val_mae: 0.0261 - val_mse: 0.0024\n",
      "Epoch 85/100\n",
      "18/18 [==============================] - 0s 2ms/step - loss: 0.0088 - mae: 0.0088 - mse: 1.5058e-04 - val_loss: 0.0300 - val_mae: 0.0300 - val_mse: 0.0031\n",
      "Epoch 86/100\n",
      "18/18 [==============================] - 0s 2ms/step - loss: 0.0063 - mae: 0.0063 - mse: 9.5332e-05 - val_loss: 0.0249 - val_mae: 0.0249 - val_mse: 0.0022\n",
      "Epoch 87/100\n",
      "18/18 [==============================] - 0s 2ms/step - loss: 0.0087 - mae: 0.0087 - mse: 1.4662e-04 - val_loss: 0.0298 - val_mae: 0.0298 - val_mse: 0.0031\n",
      "Epoch 88/100\n",
      "18/18 [==============================] - 0s 2ms/step - loss: 0.0063 - mae: 0.0063 - mse: 9.2999e-05 - val_loss: 0.0264 - val_mae: 0.0264 - val_mse: 0.0024\n",
      "Epoch 89/100\n",
      "18/18 [==============================] - 0s 2ms/step - loss: 0.0087 - mae: 0.0087 - mse: 1.4861e-04 - val_loss: 0.0297 - val_mae: 0.0297 - val_mse: 0.0030\n",
      "Epoch 90/100\n",
      "18/18 [==============================] - 0s 2ms/step - loss: 0.0062 - mae: 0.0062 - mse: 9.4748e-05 - val_loss: 0.0245 - val_mae: 0.0245 - val_mse: 0.0021\n",
      "Epoch 91/100\n",
      "18/18 [==============================] - 0s 2ms/step - loss: 0.0086 - mae: 0.0086 - mse: 1.4386e-04 - val_loss: 0.0293 - val_mae: 0.0293 - val_mse: 0.0030\n",
      "Epoch 92/100\n",
      "18/18 [==============================] - 0s 2ms/step - loss: 0.0062 - mae: 0.0062 - mse: 9.1565e-05 - val_loss: 0.0259 - val_mae: 0.0259 - val_mse: 0.0023\n",
      "Epoch 93/100\n",
      "18/18 [==============================] - 0s 2ms/step - loss: 0.0086 - mae: 0.0086 - mse: 1.4442e-04 - val_loss: 0.0302 - val_mae: 0.0302 - val_mse: 0.0031\n",
      "Epoch 94/100\n",
      "18/18 [==============================] - 0s 2ms/step - loss: 0.0061 - mae: 0.0061 - mse: 9.0683e-05 - val_loss: 0.0263 - val_mae: 0.0263 - val_mse: 0.0024\n",
      "Epoch 95/100\n",
      "18/18 [==============================] - 0s 2ms/step - loss: 0.0085 - mae: 0.0085 - mse: 1.4212e-04 - val_loss: 0.0297 - val_mae: 0.0297 - val_mse: 0.0030\n",
      "Epoch 96/100\n",
      "18/18 [==============================] - 0s 2ms/step - loss: 0.0062 - mae: 0.0062 - mse: 9.1901e-05 - val_loss: 0.0251 - val_mae: 0.0251 - val_mse: 0.0022\n",
      "Epoch 97/100\n",
      "18/18 [==============================] - 0s 2ms/step - loss: 0.0085 - mae: 0.0085 - mse: 1.4147e-04 - val_loss: 0.0293 - val_mae: 0.0293 - val_mse: 0.0030\n",
      "Epoch 98/100\n",
      "18/18 [==============================] - 0s 2ms/step - loss: 0.0061 - mae: 0.0061 - mse: 9.0392e-05 - val_loss: 0.0259 - val_mae: 0.0259 - val_mse: 0.0023\n",
      "Epoch 99/100\n",
      "18/18 [==============================] - 0s 2ms/step - loss: 0.0085 - mae: 0.0085 - mse: 1.4111e-04 - val_loss: 0.0301 - val_mae: 0.0301 - val_mse: 0.0031\n",
      "Epoch 100/100\n",
      "18/18 [==============================] - 0s 2ms/step - loss: 0.0061 - mae: 0.0061 - mse: 9.0009e-05 - val_loss: 0.0263 - val_mae: 0.0263 - val_mse: 0.0024\n"
     ]
    },
    {
     "data": {
      "text/plain": [
       "<keras.callbacks.History at 0x1e4256ea4a0>"
      ]
     },
     "execution_count": 160,
     "metadata": {},
     "output_type": "execute_result"
    }
   ],
   "source": [
    "# Set random seed for a reproducible results as possible\n",
    "tf.random.set_seed(42)\n",
    "\n",
    "# 1. Construct model \n",
    "model_1 = tf.keras.Sequential([\n",
    "    layers.Dense(128, activation=\"relu\"),\n",
    "    layers.Dense(HORIZON, activation=\"linear\") # linear activation is the same as having no activation.\n",
    "], name=\"model_1_dense\") # name our model so we can save it.\n",
    "\n",
    "# 2. Compile\n",
    "model_1.compile(loss=\"mae\",\n",
    "                optimizer=tf.keras.optimizers.Adam(),\n",
    "                metrics=[\"mae\", \"mse\"])\n",
    "\n",
    "model_1.fit(train_dataset,\n",
    "            epochs=100,\n",
    "            verbose=1,\n",
    "            batch_size=128,\n",
    "            validation_data=(test_windows, test_labels),\n",
    "            callbacks=[CreateModelCheckpoint(\"C:/Users/User/Time_series/checkpoints/exercices/\"+model_1.name,\"val_loss\", False)])"
   ]
  },
  {
   "cell_type": "code",
   "execution_count": 161,
   "id": "344b57f0",
   "metadata": {},
   "outputs": [
    {
     "name": "stdout",
     "output_type": "stream",
     "text": [
      "18/18 [==============================] - 0s 675us/step - loss: 0.0170 - mae: 0.0170 - mse: 8.4063e-04\n"
     ]
    },
    {
     "data": {
      "text/plain": [
       "[0.016985291615128517, 0.016985291615128517, 0.0008406336419284344]"
      ]
     },
     "execution_count": 161,
     "metadata": {},
     "output_type": "execute_result"
    }
   ],
   "source": [
    "# Load in saved best performing model_1 and evaluate it on test data\n",
    "model_1 = tf.keras.models.load_model(\"C:/Users/User/Time_series/checkpoints/exercices/model_1_dense/\")\n",
    "model_1.evaluate(test_windows, test_labels)"
   ]
  },
  {
   "cell_type": "code",
   "execution_count": 162,
   "id": "b4cbcc60",
   "metadata": {},
   "outputs": [
    {
     "name": "stdout",
     "output_type": "stream",
     "text": [
      "18/18 [==============================] - 0s 442us/step\n"
     ]
    },
    {
     "data": {
      "text/plain": [
       "(557,\n",
       " <tf.Tensor: shape=(10,), dtype=float32, numpy=\n",
       " array([0.15108006, 0.1489936 , 0.14842759, 0.14728001, 0.14488412,\n",
       "        0.14499061, 0.14253043, 0.1420794 , 0.14149699, 0.13970944],\n",
       "       dtype=float32)>)"
      ]
     },
     "execution_count": 162,
     "metadata": {},
     "output_type": "execute_result"
    }
   ],
   "source": [
    "# Make predictions using model_1 on the test dataset and view results\n",
    "model_1_preds = make_preds(model_1, test_windows)\n",
    "len(model_1_preds), model_1_preds[:10]"
   ]
  },
  {
   "cell_type": "code",
   "execution_count": 163,
   "id": "b3dd03f0",
   "metadata": {},
   "outputs": [
    {
     "data": {
      "text/plain": [
       "{'mae': 0.016985295,\n",
       " 'mse': 0.00084063364,\n",
       " 'rmse': 0.028993683,\n",
       " 'mape': 4.7659683,\n",
       " 'mase': 1.8935542}"
      ]
     },
     "execution_count": 163,
     "metadata": {},
     "output_type": "execute_result"
    }
   ],
   "source": [
    "# Evaluate preds\n",
    "model_1_results = evaluate_preds(y_true=tf.squeeze(test_labels),\n",
    "                                 y_pred=model_1_preds)\n",
    "model_1_results"
   ]
  },
  {
   "cell_type": "markdown",
   "id": "47d1bdd2",
   "metadata": {},
   "source": [
    "## 6. Make prediction intervals for future forecasts"
   ]
  },
  {
   "cell_type": "code",
   "execution_count": 33,
   "id": "2de576c5",
   "metadata": {},
   "outputs": [
    {
     "data": {
      "text/plain": [
       "(<_PrefetchDataset element_spec=(TensorSpec(shape=(None, 6), dtype=tf.float64, name=None), TensorSpec(shape=(None, 1), dtype=tf.float64, name=None))>,\n",
       " <_PrefetchDataset element_spec=(TensorSpec(shape=(None, 6), dtype=tf.float64, name=None), TensorSpec(shape=(None, 1), dtype=tf.float64, name=None))>)"
      ]
     },
     "execution_count": 33,
     "metadata": {},
     "output_type": "execute_result"
    }
   ],
   "source": [
    "# Time to make our dataset performant using tf.data API\n",
    "train_features_dataset = tf.data.Dataset.from_tensor_slices(train_windows)\n",
    "train_labels_dataset = tf.data.Dataset.from_tensor_slices(train_labels)\n",
    "\n",
    "test_features_dataset = tf.data.Dataset.from_tensor_slices(test_windows)\n",
    "test_labels_dataset = tf.data.Dataset.from_tensor_slices(test_labels)\n",
    "\n",
    "# Combine labels and features by zipping together -> (features, labels)\n",
    "train_dataset = tf.data.Dataset.zip((train_features_dataset, train_labels_dataset))\n",
    "test_dataset = tf.data.Dataset.zip((test_features_dataset, test_labels_dataset))\n",
    "\n",
    "# Batch and prefetch\n",
    "BATCH_SIZE = 1024\n",
    "train_dataset = train_dataset.batch(BATCH_SIZE).prefetch(tf.data.AUTOTUNE) # Ideal number of CPUs\n",
    "test_dataset = test_dataset.batch(BATCH_SIZE).prefetch(tf.data.AUTOTUNE)\n",
    "\n",
    "train_dataset, test_dataset"
   ]
  },
  {
   "cell_type": "code",
   "execution_count": 34,
   "id": "6bc18542",
   "metadata": {},
   "outputs": [],
   "source": [
    "def get_ensemble_models(horizon=HORIZON,\n",
    "                        train_data=train_dataset,\n",
    "                        test_data=test_dataset,\n",
    "                        num_iter=10,\n",
    "                        num_epochs=1000,\n",
    "                        loss_fns=[\"mae\", \"mse\", \"mape\"]):\n",
    "    \"\"\"\n",
    "    Returns a list of num_iter models each trained on MAE, MSE and MAPE loss.\n",
    "    \n",
    "    For example, if num_iter=10, a list of 30 trained models will be returned:\n",
    "    10 * len([\"mae\", \"mse\", \"mape\"]).\n",
    "    \"\"\"\n",
    "    # Make empty list for trained ensemble models\n",
    "    ensemble_models = []\n",
    "    \n",
    "    # Create num_iter number of models per loss function \n",
    "    for i in range(num_iter):\n",
    "        # Build and fit a new model with a different loss function\n",
    "        for loss_function in loss_fns:\n",
    "            print(f\"Optimizing model by reducing: {loss_function} for {num_epochs} epochs, model number: {i}\")\n",
    "            \n",
    "            # Construct a simple model (similar to model_1)\n",
    "            model = tf.keras.Sequential([\n",
    "                # Initialize dense layers with normal distribution for estimating prediction intervals later on\n",
    "                layers.Dense(128, kernel_initializer=\"he_normal\", activation=\"relu\"),\n",
    "                layers.Dense(128, kernel_initializer=\"he_normal\", activation=\"relu\"),\n",
    "                layers.Dense(HORIZON),\n",
    "                \n",
    "            ])\n",
    "            \n",
    "            # Compile simple model with current loss function\n",
    "            model.compile(loss=loss_function,\n",
    "                          optimizer=tf.keras.optimizers.Adam(),\n",
    "                          metrics=[\"mae\", \"mse\"])\n",
    "            \n",
    "            # Fit the current model\n",
    "            model.fit(train_data,\n",
    "                      epochs=num_epochs,\n",
    "                      verbose=0,\n",
    "                      validation_data=test_data,\n",
    "                      callbacks=[tf.keras.callbacks.EarlyStopping(monitor=\"val_loss\",\n",
    "                                                                  patience=200,\n",
    "                                                                  restore_best_weights=True),\n",
    "                                tf.keras.callbacks.ReduceLROnPlateau(monitor=\"val_loss\",\n",
    "                                                                     patience=100,\n",
    "                                                                     verbose=1)])\n",
    "            \n",
    "            # Appended fitted model to list of ensemble models\n",
    "            ensemble_models.append(model)\n",
    "            \n",
    "    return ensemble_models"
   ]
  },
  {
   "cell_type": "code",
   "execution_count": 37,
   "id": "00ca671f",
   "metadata": {},
   "outputs": [],
   "source": [
    "from tensorflow.keras import layers"
   ]
  },
  {
   "cell_type": "code",
   "execution_count": 38,
   "id": "2747b692",
   "metadata": {},
   "outputs": [
    {
     "name": "stdout",
     "output_type": "stream",
     "text": [
      "Optimizing model by reducing: mae for 1000 epochs, model number: 0\n",
      "\n",
      "Epoch 230: ReduceLROnPlateau reducing learning rate to 0.00010000000474974513.\n",
      "\n",
      "Epoch 330: ReduceLROnPlateau reducing learning rate to 1.0000000474974514e-05.\n",
      "Optimizing model by reducing: mse for 1000 epochs, model number: 0\n",
      "\n",
      "Epoch 177: ReduceLROnPlateau reducing learning rate to 0.00010000000474974513.\n",
      "\n",
      "Epoch 277: ReduceLROnPlateau reducing learning rate to 1.0000000474974514e-05.\n",
      "Optimizing model by reducing: mape for 1000 epochs, model number: 0\n",
      "\n",
      "Epoch 344: ReduceLROnPlateau reducing learning rate to 0.00010000000474974513.\n",
      "\n",
      "Epoch 444: ReduceLROnPlateau reducing learning rate to 1.0000000474974514e-05.\n",
      "Optimizing model by reducing: mae for 1000 epochs, model number: 1\n",
      "\n",
      "Epoch 399: ReduceLROnPlateau reducing learning rate to 0.00010000000474974513.\n",
      "\n",
      "Epoch 499: ReduceLROnPlateau reducing learning rate to 1.0000000474974514e-05.\n",
      "Optimizing model by reducing: mse for 1000 epochs, model number: 1\n",
      "\n",
      "Epoch 152: ReduceLROnPlateau reducing learning rate to 0.00010000000474974513.\n",
      "\n",
      "Epoch 252: ReduceLROnPlateau reducing learning rate to 1.0000000474974514e-05.\n",
      "Optimizing model by reducing: mape for 1000 epochs, model number: 1\n",
      "\n",
      "Epoch 234: ReduceLROnPlateau reducing learning rate to 0.00010000000474974513.\n",
      "\n",
      "Epoch 777: ReduceLROnPlateau reducing learning rate to 1.0000000474974514e-05.\n",
      "\n",
      "Epoch 886: ReduceLROnPlateau reducing learning rate to 1.0000000656873453e-06.\n",
      "\n",
      "Epoch 986: ReduceLROnPlateau reducing learning rate to 1.0000001111620805e-07.\n",
      "Optimizing model by reducing: mae for 1000 epochs, model number: 2\n",
      "\n",
      "Epoch 221: ReduceLROnPlateau reducing learning rate to 0.00010000000474974513.\n",
      "\n",
      "Epoch 321: ReduceLROnPlateau reducing learning rate to 1.0000000474974514e-05.\n",
      "\n",
      "Epoch 421: ReduceLROnPlateau reducing learning rate to 1.0000000656873453e-06.\n",
      "Optimizing model by reducing: mse for 1000 epochs, model number: 2\n",
      "\n",
      "Epoch 280: ReduceLROnPlateau reducing learning rate to 0.00010000000474974513.\n",
      "\n",
      "Epoch 380: ReduceLROnPlateau reducing learning rate to 1.0000000474974514e-05.\n",
      "\n",
      "Epoch 480: ReduceLROnPlateau reducing learning rate to 1.0000000656873453e-06.\n",
      "Optimizing model by reducing: mape for 1000 epochs, model number: 2\n",
      "\n",
      "Epoch 457: ReduceLROnPlateau reducing learning rate to 0.00010000000474974513.\n",
      "\n",
      "Epoch 557: ReduceLROnPlateau reducing learning rate to 1.0000000474974514e-05.\n",
      "Optimizing model by reducing: mae for 1000 epochs, model number: 3\n",
      "\n",
      "Epoch 377: ReduceLROnPlateau reducing learning rate to 0.00010000000474974513.\n",
      "\n",
      "Epoch 477: ReduceLROnPlateau reducing learning rate to 1.0000000474974514e-05.\n",
      "Optimizing model by reducing: mse for 1000 epochs, model number: 3\n",
      "\n",
      "Epoch 117: ReduceLROnPlateau reducing learning rate to 0.00010000000474974513.\n",
      "\n",
      "Epoch 217: ReduceLROnPlateau reducing learning rate to 1.0000000474974514e-05.\n",
      "\n",
      "Epoch 317: ReduceLROnPlateau reducing learning rate to 1.0000000656873453e-06.\n",
      "\n",
      "Epoch 417: ReduceLROnPlateau reducing learning rate to 1.0000001111620805e-07.\n",
      "\n",
      "Epoch 517: ReduceLROnPlateau reducing learning rate to 1.000000082740371e-08.\n",
      "Optimizing model by reducing: mape for 1000 epochs, model number: 3\n",
      "\n",
      "Epoch 450: ReduceLROnPlateau reducing learning rate to 0.00010000000474974513.\n",
      "\n",
      "Epoch 563: ReduceLROnPlateau reducing learning rate to 1.0000000474974514e-05.\n",
      "\n",
      "Epoch 663: ReduceLROnPlateau reducing learning rate to 1.0000000656873453e-06.\n",
      "Optimizing model by reducing: mae for 1000 epochs, model number: 4\n",
      "\n",
      "Epoch 275: ReduceLROnPlateau reducing learning rate to 0.00010000000474974513.\n",
      "\n",
      "Epoch 375: ReduceLROnPlateau reducing learning rate to 1.0000000474974514e-05.\n",
      "Optimizing model by reducing: mse for 1000 epochs, model number: 4\n",
      "\n",
      "Epoch 227: ReduceLROnPlateau reducing learning rate to 0.00010000000474974513.\n",
      "\n",
      "Epoch 327: ReduceLROnPlateau reducing learning rate to 1.0000000474974514e-05.\n",
      "\n",
      "Epoch 427: ReduceLROnPlateau reducing learning rate to 1.0000000656873453e-06.\n",
      "Optimizing model by reducing: mape for 1000 epochs, model number: 4\n",
      "\n",
      "Epoch 501: ReduceLROnPlateau reducing learning rate to 0.00010000000474974513.\n",
      "\n",
      "Epoch 645: ReduceLROnPlateau reducing learning rate to 1.0000000474974514e-05.\n",
      "\n",
      "Epoch 745: ReduceLROnPlateau reducing learning rate to 1.0000000656873453e-06.\n",
      "CPU times: total: 1min 20s\n",
      "Wall time: 4min 1s\n"
     ]
    }
   ],
   "source": [
    "%%time\n",
    "\n",
    "# Get list of trained ensemble models\n",
    "ensemble_models = get_ensemble_models(num_iter=5,\n",
    "                                      num_epochs=1000)"
   ]
  },
  {
   "cell_type": "markdown",
   "id": "add0b621",
   "metadata": {},
   "source": [
    "### Make predictions with our ensemble model"
   ]
  },
  {
   "cell_type": "code",
   "execution_count": 39,
   "id": "76c46b57",
   "metadata": {},
   "outputs": [],
   "source": [
    "# Create  a function whiches uses a list of trained models to make and return a list of predictions\n",
    "def make_ensemble_preds(ensemble_models, data):\n",
    "    ensemble_preds = []\n",
    "    for model in ensemble_models:\n",
    "        preds = model.predict(data)\n",
    "        ensemble_preds.append(preds)\n",
    "    return tf.constant(tf.squeeze(ensemble_preds))"
   ]
  },
  {
   "cell_type": "code",
   "execution_count": 41,
   "id": "acd0d5cd",
   "metadata": {},
   "outputs": [
    {
     "name": "stdout",
     "output_type": "stream",
     "text": [
      "1/1 [==============================] - 0s 10ms/step\n",
      "1/1 [==============================] - 0s 9ms/step\n",
      "1/1 [==============================] - 0s 9ms/step\n",
      "1/1 [==============================] - 0s 9ms/step\n",
      "1/1 [==============================] - 0s 9ms/step\n",
      "1/1 [==============================] - 0s 9ms/step\n",
      "1/1 [==============================] - 0s 9ms/step\n",
      "1/1 [==============================] - 0s 10ms/step\n",
      "1/1 [==============================] - 0s 9ms/step\n",
      "1/1 [==============================] - 0s 10ms/step\n",
      "1/1 [==============================] - 0s 9ms/step\n",
      "1/1 [==============================] - 0s 10ms/step\n",
      "1/1 [==============================] - 0s 10ms/step\n",
      "1/1 [==============================] - 0s 10ms/step\n",
      "1/1 [==============================] - 0s 10ms/step\n",
      "CPU times: total: 0 ns\n",
      "Wall time: 214 ms\n"
     ]
    }
   ],
   "source": [
    "%%time\n",
    "# Create a list of ensemble predictions\n",
    "\n",
    "ensemble_preds = make_ensemble_preds(ensemble_models=ensemble_models,\n",
    "                                     data=test_dataset)"
   ]
  },
  {
   "cell_type": "markdown",
   "id": "6b50862c",
   "metadata": {},
   "source": [
    "Our ensemble preds come out in multiple dimensions but to combine them into **point prediction** we can leverage the mean of all the predictions or the median"
   ]
  },
  {
   "cell_type": "code",
   "execution_count": 52,
   "id": "ea42d9c0",
   "metadata": {},
   "outputs": [],
   "source": [
    "# Mean of the predictions\n",
    "ensemble_mean = tf.reduce_mean(ensemble_preds, axis=0)"
   ]
  },
  {
   "cell_type": "code",
   "execution_count": 53,
   "id": "08f47e81",
   "metadata": {},
   "outputs": [],
   "source": [
    "# Median of the predictions\n",
    "ensemble_median = np.median(ensemble_preds, axis=0)"
   ]
  },
  {
   "cell_type": "code",
   "execution_count": 56,
   "id": "7386b371",
   "metadata": {},
   "outputs": [
    {
     "data": {
      "text/plain": [
       "{'mae': 0.009388229,\n",
       " 'mse': 0.00030759172,\n",
       " 'rmse': 0.017538292,\n",
       " 'mape': 2.6268775,\n",
       " 'mase': 1.0466182}"
      ]
     },
     "execution_count": 56,
     "metadata": {},
     "output_type": "execute_result"
    }
   ],
   "source": [
    "# Evaluate our ensemble model predictions\n",
    "ensemble_mean_results = evaluate_preds(y_true=tf.squeeze(test_labels),\n",
    "                                       y_pred=ensemble_mean)\n",
    "ensemble_mean_results"
   ]
  },
  {
   "cell_type": "code",
   "execution_count": 57,
   "id": "28e63b17",
   "metadata": {},
   "outputs": [
    {
     "data": {
      "text/plain": [
       "{'mae': 0.009276437,\n",
       " 'mse': 0.00030099752,\n",
       " 'rmse': 0.01734928,\n",
       " 'mape': 2.6025314,\n",
       " 'mase': 1.0341555}"
      ]
     },
     "execution_count": 57,
     "metadata": {},
     "output_type": "execute_result"
    }
   ],
   "source": [
    "# Evaluate our ensemble model predictions\n",
    "ensemble_median_results = evaluate_preds(y_true=tf.squeeze(test_labels),\n",
    "                                       y_pred=ensemble_median)\n",
    "ensemble_median_results"
   ]
  },
  {
   "cell_type": "markdown",
   "id": "a497fe9f",
   "metadata": {},
   "source": [
    "We will use the median results."
   ]
  },
  {
   "cell_type": "markdown",
   "id": "ea744b1a",
   "metadata": {},
   "source": [
    "### Plotting the prediction intervals (uncertainty estimates) of our ensembles"
   ]
  },
  {
   "cell_type": "code",
   "execution_count": 58,
   "id": "3d6ad4a7",
   "metadata": {},
   "outputs": [],
   "source": [
    "# Find the upper and lower bounds of ensemble predictions\n",
    "def get_upper_lower(preds): # 1. Take the predictions from a number of randomly initialized model \n",
    "    \n",
    "    # 2. Measure the standard deviation of the predictions\n",
    "    std = tf.math.reduce_std(preds, axis=0)\n",
    "    \n",
    "    # 3. Multiply the standard deviation by 1.96\n",
    "    interval = 1.96 * std\n",
    "    \n",
    "    # 4. Get the prediction interval upper and lower bounds\n",
    "    preds_mean = tf.reduce_mean(preds, axis=0)\n",
    "    lower, upper = preds_mean - interval, preds_mean + interval\n",
    "    \n",
    "    return lower, upper"
   ]
  },
  {
   "cell_type": "code",
   "execution_count": 59,
   "id": "b7663790",
   "metadata": {},
   "outputs": [],
   "source": [
    "# Get the upper and lower bounds of the 95% percent prediction interval\n",
    "lower, upper = get_upper_lower(preds=ensemble_preds)"
   ]
  },
  {
   "cell_type": "code",
   "execution_count": 61,
   "id": "43d0334e",
   "metadata": {},
   "outputs": [],
   "source": [
    "import matplotlib.pyplot as plt"
   ]
  },
  {
   "cell_type": "code",
   "execution_count": 79,
   "id": "9d547f5b",
   "metadata": {},
   "outputs": [
    {
     "data": {
      "image/png": "[encoded data removed]",
      "text/plain": [
       "<Figure size 1000x700 with 1 Axes>"
      ]
     },
     "metadata": {},
     "output_type": "display_data"
    }
   ],
   "source": [
    "# Get the median/mean values of our ensemble preds\n",
    "ensemble_median = np.median(ensemble_preds, axis=0)\n",
    "\n",
    "# Plot the median of our ensemble preds along with the prediction intervals (where the prediction fall between)\n",
    "offset=500\n",
    "plt.figure(figsize=(10, 7))\n",
    "plt.plot(X_test.index[offset:], y_test[offset:], \"g\", label=\"Test Data\")\n",
    "plt.plot(X_test.index[offset:], ensemble_median[offset+1:], \"k-\", label=\"ensemble median\")\n",
    "plt.xlabel(\"Date\")\n",
    "plt.ylabel(\"BTC Price\")\n",
    "plt.fill_between(X_test.index[offset:],\n",
    "                (lower)[offset+1:],\n",
    "                (upper)[offset+1:],\n",
    "                 label=\"Prediction Intervals\")\n",
    "plt.legend(loc=\"upper left\", fontsize=14);"
   ]
  },
  {
   "cell_type": "markdown",
   "id": "9a68c297",
   "metadata": {},
   "source": [
    "So far all of our models predictions have been lagging behind the test data... As if they're replicating what the naive model does and just predict the previous timestep as the next timestep"
   ]
  },
  {
   "cell_type": "markdown",
   "id": "931c89b5",
   "metadata": {},
   "source": [
    "### 7. Train a model on the full historical data to make predictions into the future"
   ]
  },
  {
   "cell_type": "code",
   "execution_count": 114,
   "id": "3961b631",
   "metadata": {},
   "outputs": [
    {
     "data": {
      "text/plain": [
       "<_PrefetchDataset element_spec=(TensorSpec(shape=(None, 6), dtype=tf.float64, name=None), TensorSpec(shape=(None, 1), dtype=tf.float64, name=None))>"
      ]
     },
     "execution_count": 114,
     "metadata": {},
     "output_type": "execute_result"
    }
   ],
   "source": [
    "# Turn data into efficient running tensors\n",
    "\n",
    "features_dataset_all = tf.data.Dataset.from_tensor_slices(full_windows)\n",
    "labels_dataset_all = tf.data.Dataset.from_tensor_slices(full_labels)\n",
    "\n",
    "# Combine features and labels\n",
    "dataset_all = tf.data.Dataset.zip((features_dataset_all, labels_dataset_all))\n",
    "\n",
    "# Batch and prefetch\n",
    "BATCH_SIZE = 1024\n",
    "dataset_all = dataset_all.batch(BATCH_SIZE).prefetch(tf.data.AUTOTUNE)\n",
    "\n",
    "dataset_all"
   ]
  },
  {
   "cell_type": "code",
   "execution_count": 140,
   "id": "ef5043ec",
   "metadata": {},
   "outputs": [
    {
     "name": "stderr",
     "output_type": "stream",
     "text": [
      "WARNING:absl:Found untraced functions such as _update_step_xla while saving (showing 1 of 1). These functions will not be directly callable after loading.\n"
     ]
    },
    {
     "name": "stdout",
     "output_type": "stream",
     "text": [
      "INFO:tensorflow:Assets written to: C:/Users/User/Time_series/checkpoints\\future_model\\assets\n"
     ]
    },
    {
     "name": "stderr",
     "output_type": "stream",
     "text": [
      "INFO:tensorflow:Assets written to: C:/Users/User/Time_series/checkpoints\\future_model\\assets\n",
      "WARNING:absl:Found untraced functions such as _update_step_xla while saving (showing 1 of 1). These functions will not be directly callable after loading.\n"
     ]
    },
    {
     "name": "stdout",
     "output_type": "stream",
     "text": [
      "INFO:tensorflow:Assets written to: C:/Users/User/Time_series/checkpoints\\future_model\\assets\n"
     ]
    },
    {
     "name": "stderr",
     "output_type": "stream",
     "text": [
      "INFO:tensorflow:Assets written to: C:/Users/User/Time_series/checkpoints\\future_model\\assets\n",
      "WARNING:absl:Found untraced functions such as _update_step_xla while saving (showing 1 of 1). These functions will not be directly callable after loading.\n"
     ]
    },
    {
     "name": "stdout",
     "output_type": "stream",
     "text": [
      "INFO:tensorflow:Assets written to: C:/Users/User/Time_series/checkpoints\\future_model\\assets\n"
     ]
    },
    {
     "name": "stderr",
     "output_type": "stream",
     "text": [
      "INFO:tensorflow:Assets written to: C:/Users/User/Time_series/checkpoints\\future_model\\assets\n",
      "WARNING:absl:Found untraced functions such as _update_step_xla while saving (showing 1 of 1). These functions will not be directly callable after loading.\n"
     ]
    },
    {
     "name": "stdout",
     "output_type": "stream",
     "text": [
      "INFO:tensorflow:Assets written to: C:/Users/User/Time_series/checkpoints\\future_model\\assets\n"
     ]
    },
    {
     "name": "stderr",
     "output_type": "stream",
     "text": [
      "INFO:tensorflow:Assets written to: C:/Users/User/Time_series/checkpoints\\future_model\\assets\n",
      "WARNING:absl:Found untraced functions such as _update_step_xla while saving (showing 1 of 1). These functions will not be directly callable after loading.\n"
     ]
    },
    {
     "name": "stdout",
     "output_type": "stream",
     "text": [
      "INFO:tensorflow:Assets written to: C:/Users/User/Time_series/checkpoints\\future_model\\assets\n"
     ]
    },
    {
     "name": "stderr",
     "output_type": "stream",
     "text": [
      "INFO:tensorflow:Assets written to: C:/Users/User/Time_series/checkpoints\\future_model\\assets\n",
      "WARNING:absl:Found untraced functions such as _update_step_xla while saving (showing 1 of 1). These functions will not be directly callable after loading.\n"
     ]
    },
    {
     "name": "stdout",
     "output_type": "stream",
     "text": [
      "INFO:tensorflow:Assets written to: C:/Users/User/Time_series/checkpoints\\future_model\\assets\n"
     ]
    },
    {
     "name": "stderr",
     "output_type": "stream",
     "text": [
      "INFO:tensorflow:Assets written to: C:/Users/User/Time_series/checkpoints\\future_model\\assets\n",
      "WARNING:absl:Found untraced functions such as _update_step_xla while saving (showing 1 of 1). These functions will not be directly callable after loading.\n"
     ]
    },
    {
     "name": "stdout",
     "output_type": "stream",
     "text": [
      "INFO:tensorflow:Assets written to: C:/Users/User/Time_series/checkpoints\\future_model\\assets\n"
     ]
    },
    {
     "name": "stderr",
     "output_type": "stream",
     "text": [
      "INFO:tensorflow:Assets written to: C:/Users/User/Time_series/checkpoints\\future_model\\assets\n",
      "WARNING:absl:Found untraced functions such as _update_step_xla while saving (showing 1 of 1). These functions will not be directly callable after loading.\n"
     ]
    },
    {
     "name": "stdout",
     "output_type": "stream",
     "text": [
      "INFO:tensorflow:Assets written to: C:/Users/User/Time_series/checkpoints\\future_model\\assets\n"
     ]
    },
    {
     "name": "stderr",
     "output_type": "stream",
     "text": [
      "INFO:tensorflow:Assets written to: C:/Users/User/Time_series/checkpoints\\future_model\\assets\n",
      "WARNING:absl:Found untraced functions such as _update_step_xla while saving (showing 1 of 1). These functions will not be directly callable after loading.\n"
     ]
    },
    {
     "name": "stdout",
     "output_type": "stream",
     "text": [
      "INFO:tensorflow:Assets written to: C:/Users/User/Time_series/checkpoints\\future_model\\assets\n"
     ]
    },
    {
     "name": "stderr",
     "output_type": "stream",
     "text": [
      "INFO:tensorflow:Assets written to: C:/Users/User/Time_series/checkpoints\\future_model\\assets\n",
      "WARNING:absl:Found untraced functions such as _update_step_xla while saving (showing 1 of 1). These functions will not be directly callable after loading.\n"
     ]
    },
    {
     "name": "stdout",
     "output_type": "stream",
     "text": [
      "INFO:tensorflow:Assets written to: C:/Users/User/Time_series/checkpoints\\future_model\\assets\n"
     ]
    },
    {
     "name": "stderr",
     "output_type": "stream",
     "text": [
      "INFO:tensorflow:Assets written to: C:/Users/User/Time_series/checkpoints\\future_model\\assets\n",
      "WARNING:absl:Found untraced functions such as _update_step_xla while saving (showing 1 of 1). These functions will not be directly callable after loading.\n"
     ]
    },
    {
     "name": "stdout",
     "output_type": "stream",
     "text": [
      "INFO:tensorflow:Assets written to: C:/Users/User/Time_series/checkpoints\\future_model\\assets\n"
     ]
    },
    {
     "name": "stderr",
     "output_type": "stream",
     "text": [
      "INFO:tensorflow:Assets written to: C:/Users/User/Time_series/checkpoints\\future_model\\assets\n",
      "WARNING:absl:Found untraced functions such as _update_step_xla while saving (showing 1 of 1). These functions will not be directly callable after loading.\n"
     ]
    },
    {
     "name": "stdout",
     "output_type": "stream",
     "text": [
      "INFO:tensorflow:Assets written to: C:/Users/User/Time_series/checkpoints\\future_model\\assets\n"
     ]
    },
    {
     "name": "stderr",
     "output_type": "stream",
     "text": [
      "INFO:tensorflow:Assets written to: C:/Users/User/Time_series/checkpoints\\future_model\\assets\n",
      "WARNING:absl:Found untraced functions such as _update_step_xla while saving (showing 1 of 1). These functions will not be directly callable after loading.\n"
     ]
    },
    {
     "name": "stdout",
     "output_type": "stream",
     "text": [
      "INFO:tensorflow:Assets written to: C:/Users/User/Time_series/checkpoints\\future_model\\assets\n"
     ]
    },
    {
     "name": "stderr",
     "output_type": "stream",
     "text": [
      "INFO:tensorflow:Assets written to: C:/Users/User/Time_series/checkpoints\\future_model\\assets\n",
      "WARNING:absl:Found untraced functions such as _update_step_xla while saving (showing 1 of 1). These functions will not be directly callable after loading.\n"
     ]
    },
    {
     "name": "stdout",
     "output_type": "stream",
     "text": [
      "INFO:tensorflow:Assets written to: C:/Users/User/Time_series/checkpoints\\future_model\\assets\n"
     ]
    },
    {
     "name": "stderr",
     "output_type": "stream",
     "text": [
      "INFO:tensorflow:Assets written to: C:/Users/User/Time_series/checkpoints\\future_model\\assets\n",
      "WARNING:absl:Found untraced functions such as _update_step_xla while saving (showing 1 of 1). These functions will not be directly callable after loading.\n"
     ]
    },
    {
     "name": "stdout",
     "output_type": "stream",
     "text": [
      "INFO:tensorflow:Assets written to: C:/Users/User/Time_series/checkpoints\\future_model\\assets\n"
     ]
    },
    {
     "name": "stderr",
     "output_type": "stream",
     "text": [
      "INFO:tensorflow:Assets written to: C:/Users/User/Time_series/checkpoints\\future_model\\assets\n",
      "WARNING:absl:Found untraced functions such as _update_step_xla while saving (showing 1 of 1). These functions will not be directly callable after loading.\n"
     ]
    },
    {
     "name": "stdout",
     "output_type": "stream",
     "text": [
      "INFO:tensorflow:Assets written to: C:/Users/User/Time_series/checkpoints\\future_model\\assets\n"
     ]
    },
    {
     "name": "stderr",
     "output_type": "stream",
     "text": [
      "INFO:tensorflow:Assets written to: C:/Users/User/Time_series/checkpoints\\future_model\\assets\n",
      "WARNING:absl:Found untraced functions such as _update_step_xla while saving (showing 1 of 1). These functions will not be directly callable after loading.\n"
     ]
    },
    {
     "name": "stdout",
     "output_type": "stream",
     "text": [
      "INFO:tensorflow:Assets written to: C:/Users/User/Time_series/checkpoints\\future_model\\assets\n"
     ]
    },
    {
     "name": "stderr",
     "output_type": "stream",
     "text": [
      "INFO:tensorflow:Assets written to: C:/Users/User/Time_series/checkpoints\\future_model\\assets\n",
      "WARNING:absl:Found untraced functions such as _update_step_xla while saving (showing 1 of 1). These functions will not be directly callable after loading.\n"
     ]
    },
    {
     "name": "stdout",
     "output_type": "stream",
     "text": [
      "INFO:tensorflow:Assets written to: C:/Users/User/Time_series/checkpoints\\future_model\\assets\n"
     ]
    },
    {
     "name": "stderr",
     "output_type": "stream",
     "text": [
      "INFO:tensorflow:Assets written to: C:/Users/User/Time_series/checkpoints\\future_model\\assets\n",
      "WARNING:absl:Found untraced functions such as _update_step_xla while saving (showing 1 of 1). These functions will not be directly callable after loading.\n"
     ]
    },
    {
     "name": "stdout",
     "output_type": "stream",
     "text": [
      "INFO:tensorflow:Assets written to: C:/Users/User/Time_series/checkpoints\\future_model\\assets\n"
     ]
    },
    {
     "name": "stderr",
     "output_type": "stream",
     "text": [
      "INFO:tensorflow:Assets written to: C:/Users/User/Time_series/checkpoints\\future_model\\assets\n",
      "WARNING:absl:Found untraced functions such as _update_step_xla while saving (showing 1 of 1). These functions will not be directly callable after loading.\n"
     ]
    },
    {
     "name": "stdout",
     "output_type": "stream",
     "text": [
      "INFO:tensorflow:Assets written to: C:/Users/User/Time_series/checkpoints\\future_model\\assets\n"
     ]
    },
    {
     "name": "stderr",
     "output_type": "stream",
     "text": [
      "INFO:tensorflow:Assets written to: C:/Users/User/Time_series/checkpoints\\future_model\\assets\n",
      "WARNING:absl:Found untraced functions such as _update_step_xla while saving (showing 1 of 1). These functions will not be directly callable after loading.\n"
     ]
    },
    {
     "name": "stdout",
     "output_type": "stream",
     "text": [
      "INFO:tensorflow:Assets written to: C:/Users/User/Time_series/checkpoints\\future_model\\assets\n"
     ]
    },
    {
     "name": "stderr",
     "output_type": "stream",
     "text": [
      "INFO:tensorflow:Assets written to: C:/Users/User/Time_series/checkpoints\\future_model\\assets\n",
      "WARNING:absl:Found untraced functions such as _update_step_xla while saving (showing 1 of 1). These functions will not be directly callable after loading.\n"
     ]
    },
    {
     "name": "stdout",
     "output_type": "stream",
     "text": [
      "INFO:tensorflow:Assets written to: C:/Users/User/Time_series/checkpoints\\future_model\\assets\n"
     ]
    },
    {
     "name": "stderr",
     "output_type": "stream",
     "text": [
      "INFO:tensorflow:Assets written to: C:/Users/User/Time_series/checkpoints\\future_model\\assets\n",
      "WARNING:absl:Found untraced functions such as _update_step_xla while saving (showing 1 of 1). These functions will not be directly callable after loading.\n"
     ]
    },
    {
     "name": "stdout",
     "output_type": "stream",
     "text": [
      "INFO:tensorflow:Assets written to: C:/Users/User/Time_series/checkpoints\\future_model\\assets\n"
     ]
    },
    {
     "name": "stderr",
     "output_type": "stream",
     "text": [
      "INFO:tensorflow:Assets written to: C:/Users/User/Time_series/checkpoints\\future_model\\assets\n",
      "WARNING:absl:Found untraced functions such as _update_step_xla while saving (showing 1 of 1). These functions will not be directly callable after loading.\n"
     ]
    },
    {
     "name": "stdout",
     "output_type": "stream",
     "text": [
      "INFO:tensorflow:Assets written to: C:/Users/User/Time_series/checkpoints\\future_model\\assets\n"
     ]
    },
    {
     "name": "stderr",
     "output_type": "stream",
     "text": [
      "INFO:tensorflow:Assets written to: C:/Users/User/Time_series/checkpoints\\future_model\\assets\n"
     ]
    },
    {
     "name": "stdout",
     "output_type": "stream",
     "text": [
      "CPU times: total: 6.95 s\n",
      "Wall time: 13.8 s\n"
     ]
    },
    {
     "data": {
      "text/plain": [
       "<keras.callbacks.History at 0x2214fae1600>"
      ]
     },
     "execution_count": 140,
     "metadata": {},
     "output_type": "execute_result"
    }
   ],
   "source": [
    "%%time\n",
    "\n",
    "tf.random.set_seed(42)\n",
    "\n",
    "# Create a model (nice and sample, just to test)\n",
    "model_future = tf.keras.Sequential([\n",
    "    layers.Dense(128, activation=\"relu\"),\n",
    "    layers.Dense(128, activation=\"relu\"),\n",
    "    layers.Dense(HORIZON)\n",
    "], name=\"future_model\")\n",
    "\n",
    "# Compile\n",
    "model_future.compile(loss=\"mae\",\n",
    "                optimizer=tf.keras.optimizers.Adam())\n",
    "\n",
    "# Fit our model on all of the data to make future forecasts\n",
    "model_future.fit(dataset_all,\n",
    "                 epochs=100,\n",
    "                 verbose=0,\n",
    "                 callbacks=[CreateModelCheckpoint(\"C:/Users/User/Time_series/checkpoints/\"+model_future.name,\"loss\", False)])"
   ]
  },
  {
   "cell_type": "markdown",
   "id": "370724d4",
   "metadata": {},
   "source": [
    "### Make predictions into future"
   ]
  },
  {
   "cell_type": "code",
   "execution_count": 258,
   "id": "0424a095",
   "metadata": {},
   "outputs": [],
   "source": [
    "# How many timesteps to predict int othe future ?\n",
    "INTO_FUTURE = 12\n",
    "WINDOW_SIZE = 6"
   ]
  },
  {
   "cell_type": "code",
   "execution_count": 94,
   "id": "3570b742",
   "metadata": {},
   "outputs": [],
   "source": [
    "# We need the next INTO_FUTURE dates\n",
    "def get_future_dates(start_date, into_future, offset=1):\n",
    "    \"\"\"\n",
    "    Returns array of datetime values ranging from start_date to start_date+into_future\n",
    "    \"\"\"\n",
    "    start_date = start_date # Specify start date, D stand for day\n",
    "    end_date = start_date + np.timedelta64(into_future, \"D\") + 1 # We need to add the timesteps plus the last one \n",
    "    return np.arange(start_date, end_date, dtype=\"datetime64[D]\") # return a date range between start and end date"
   ]
  },
  {
   "cell_type": "code",
   "execution_count": 92,
   "id": "f7ca0382",
   "metadata": {},
   "outputs": [
    {
     "data": {
      "text/plain": [
       "Timestamp('2021-05-18 00:00:00')"
      ]
     },
     "execution_count": 92,
     "metadata": {},
     "output_type": "execute_result"
    }
   ],
   "source": [
    "# Last timestep of timesteps (currently np.datetime64 format)\n",
    "last_timestep = bitcoin_prices.index[-1]\n",
    "last_timestep"
   ]
  },
  {
   "cell_type": "code",
   "execution_count": 93,
   "id": "c98b187f",
   "metadata": {},
   "outputs": [
    {
     "data": {
      "text/plain": [
       "array(['2021-05-19', '2021-05-20', '2021-05-21', '2021-05-22',\n",
       "       '2021-05-23', '2021-05-24', '2021-05-25', '2021-05-26',\n",
       "       '2021-05-27', '2021-05-28', '2021-05-29', '2021-05-30',\n",
       "       '2021-05-31', '2021-06-01'], dtype='datetime64[D]')"
      ]
     },
     "execution_count": 93,
     "metadata": {},
     "output_type": "execute_result"
    }
   ],
   "source": [
    "# Get next two weeks of timesteps\n",
    "next_time_steps = get_future_dates(start_date=last_timestep,\n",
    "                                   into_future=INTO_FUTURE)\n",
    "next_time_steps"
   ]
  },
  {
   "cell_type": "code",
   "execution_count": 259,
   "id": "24e18c1b",
   "metadata": {},
   "outputs": [],
   "source": [
    "# Add retraining into make future predictions\n",
    "def make_future_forecasts(values, windows, model, into_future, window_size=WINDOW_SIZE) -> list:\n",
    "    \"\"\"\n",
    "    Make future forecasts into future steps after values ends.\n",
    "    \n",
    "    Returns future forecasts as a list of floats.\n",
    "    \"\"\"\n",
    "    # 2. Create an empty list for future forecasts/prepare to forecast on\n",
    "    future_forecast = [] \n",
    "    last_window = values[-WINDOW_SIZE-1:-1] # I start by predicting the last value in order to have no gap in my Bitcoins price's curve\n",
    "\n",
    "    # 3. Make INTO_FUTURE number of predictions, altering the data which gets predicted on each\n",
    "    for _ in range(INTO_FUTURE): \n",
    "        \n",
    "        # Predict on the last window then append it again, again, again (our model will eventually start to make forecasts on its own forecasts)\n",
    "        future_pred = model.predict(tf.expand_dims(last_window, axis=0))\n",
    "        print(f\"Predicting on:\\n {last_window} -> Prediction: {tf.squeeze(future_pred).numpy()}\\n\")\n",
    "\n",
    "        # Append predictions to future_forecast\n",
    "        future_forecast.append(tf.squeeze(future_pred).numpy())\n",
    "\n",
    "        # Update last window with new pred and get WINDOW_SIZE most recent preds (model was trained on WINDOW_SIZE windows)\n",
    "        last_window = np.append(last_window, future_pred)[-WINDOW_SIZE:]\n",
    "\n",
    "        # Add our newest prediction\n",
    "        values = np.append(values, future_pred)\n",
    "\n",
    "        # Add new window\n",
    "        windows = np.append(windows, last_window)\n",
    " \n",
    "        # Turn data into efficient running tensors\n",
    "        features_dataset_all = tf.data.Dataset.from_tensor_slices(windows)\n",
    "        labels_dataset_all = tf.data.Dataset.from_tensor_slices(values)\n",
    "\n",
    "        # Combine features and labels\n",
    "        dataset_all = tf.data.Dataset.zip((features_dataset_all, labels_dataset_all))\n",
    "\n",
    "        # Batch and prefetch\n",
    "        BATCH_SIZE = 1024\n",
    "        dataset_all = dataset_all.batch(BATCH_SIZE).prefetch(tf.data.AUTOTUNE)\n",
    "        \n",
    "        # Fit our model on all of the data to make future forecasts\n",
    "        model.fit(dataset_all,\n",
    "                  epochs=100,\n",
    "                  verbose=0,\n",
    "                  callbacks=[CreateModelCheckpoint(\"C:/Users/User/Time_series/checkpoints/\"+model_future.name,\"loss\", False)])\n",
    "        \n",
    "    return future_forecast"
   ]
  },
  {
   "cell_type": "code",
   "execution_count": 1,
   "id": "c1a1f3c1",
   "metadata": {},
   "outputs": [],
   "source": [
    "# Make forecasts into the future\n",
    "future_forecast = make_future_forecasts(values=full_labels,\n",
    "                                        windows=full_windows,\n",
    "                                        model=model_future,\n",
    "                                        into_future=INTO_FUTURE,\n",
    "                                        window_size=WINDOW_SIZE)"
   ]
  },
  {
   "cell_type": "code",
   "execution_count": 2,
   "id": "f97ea246",
   "metadata": {},
   "outputs": [],
   "source": [
    "# Plot future prices predictions of Bitcoin\n",
    "plt.figure(figsize=(10, 7))\n",
    "plot_time_series(bitcoin_prices.index, btc_price, start=2500, format=\"-\", label=\"Actual BTC Price\")\n",
    "plot_time_series(next_time_steps, future_forecast, format=\"-\", label=\"Predicted BTC Price\")"
   ]
  },
  {
   "cell_type": "markdown",
   "id": "fa1be328",
   "metadata": {},
   "source": [
    "### 📖 10. Time series fundamentals and Milestone Project 3: BitPredict 💰📈 Extra-curriculum\n",
    "\n",
    "We've only really scratched the surface with time series forecasting and time series modelling in general. But the good news is, you've got plenty of hands-on coding experience with it already.\n",
    "\n",
    "If you'd like to dig deeper in to the world of time series, I'd recommend the following:\n",
    "\n",
    "* [Forecasting: Principles and Practice](https://otexts.com/fpp3/) is an outstanding online textbook which discusses at length many of the most important concepts in time series forecasting. I'd especially recommend reading at least Chapter 1 in full.\n",
    "  * I'd definitely recommend at least checking out chapter 1 as well as the chapter on forecasting accuracy measures.\n",
    "* 🎥 [Introduction to machine learning and time series](https://youtu.be/wqQKFu41FIw) by Markus Loning goes through different time series problems and how to approach them. It focuses on using the `sktime` library (Scikit-Learn for time series), though the principles are applicable elsewhere.\n",
    "* [*Why you should care about the Nate Silver vs. Nassim Taleb Twitter war*](https://towardsdatascience.com/why-you-should-care-about-the-nate-silver-vs-nassim-taleb-twitter-war-a581dce1f5fc) by Isaac Faber is an outstanding discussion insight into the role of uncertainty in the example of election prediction.\n",
    "* [TensorFlow time series tutorial](https://www.tensorflow.org/tutorials/structured_data/time_series) - A tutorial on using TensorFlow to forecast weather time series data with TensorFlow.\n",
    "* 📕 [*The Black Swan*](https://en.wikipedia.org/wiki/The_Black_Swan:_The_Impact_of_the_Highly_Improbable) by Nassim Nicholas Taleb - Nassim Taleb was a pit trader (a trader who trades on their own behalf) for 25 years, this book compiles many of the lessons he learned from first-hand experience. It changed my whole perspective on our ability to predict. \n",
    "* [*3 facts about time series forecasting that surprise experienced machine learning practitioners*](https://towardsdatascience.com/3-facts-about-time-series-forecasting-that-surprise-experienced-machine-learning-practitioners-69c18ee89387) by Skander Hannachi, Ph.D - time series data is different to other kinds of data, if you've worked on other kinds of machine learning problems before, getting into time series might require some adjustments, Hannachi outlines 3 of the most common.\n",
    "* 🎥 World-class lectures by \n",
    "Jordan Kern, watching these will take you from 0 to 1 with time series problems: \n",
    "  * [Time Series Analysis](https://youtu.be/Prpu_U5tKkE) - how to analyse time series data.\n",
    "  * [Time Series Modelling](https://www.youtube.com/watch?v=s3XH7fTHMb4) - different techniques for modelling time series data (many of which aren't deep learning)."
   ]
  }
 ],
 "metadata": {
  "kernelspec": {
   "display_name": "Python 3 (ipykernel)",
   "language": "python",
   "name": "python3"
  },
  "language_info": {
   "codemirror_mode": {
    "name": "ipython",
    "version": 3
   },
   "file_extension": ".py",
   "mimetype": "text/x-python",
   "name": "python",
   "nbconvert_exporter": "python",
   "pygments_lexer": "ipython3",
   "version": "3.10.9"
  }
 },
 "nbformat": 4,
 "nbformat_minor": 5
}
